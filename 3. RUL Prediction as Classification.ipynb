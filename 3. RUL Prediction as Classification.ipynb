{
 "cells": [
  {
   "cell_type": "code",
   "execution_count": 1,
   "metadata": {
    "slideshow": {
     "slide_type": "skip"
    }
   },
   "outputs": [],
   "source": [
    "# ============================================================\n",
    "# Notebook setup\n",
    "# ============================================================\n",
    "\n",
    "%load_ext autoreload\n",
    "%autoreload 2\n",
    "\n",
    "# Control figure size\n",
    "interactive_figures = True\n",
    "if interactive_figures:\n",
    "    # Normal behavior\n",
    "    %matplotlib widget\n",
    "    figsize=(9, 3)\n",
    "else:\n",
    "    # PDF export behavior\n",
    "    figsize=(14, 5)\n",
    "\n",
    "from util import cmapss\n",
    "import numpy as np\n",
    "from matplotlib import pyplot as plt\n",
    "import pandas as pd\n",
    "from tensorflow import keras\n",
    "from tensorflow.keras import layers, callbacks\n",
    "from tensorflow_probability import distributions\n",
    "from sklearn.metrics import r2_score\n",
    "\n",
    "# Load data\n",
    "data_folder = 'data'\n",
    "data = cmapss.load_data(data_folder)\n",
    "\n",
    "# Identify input columns\n",
    "dt_in = list(data.columns[3:-1])\n",
    "\n",
    "# Focus on a subset of the data\n",
    "data_by_src = cmapss.split_by_field(data, field='src')\n",
    "dt = data_by_src['train_FD004']\n",
    "\n",
    "# Split training and test machines\n",
    "tr_ratio = 0.75\n",
    "np.random.seed(42)\n",
    "machines = dt.machine.unique()\n",
    "np.random.shuffle(machines)\n",
    "\n",
    "sep = int(tr_ratio * len(machines))\n",
    "tr_mcn = machines[:sep]\n",
    "ts_mcn = machines[sep:]\n",
    "\n",
    "tr, ts = cmapss.partition_by_machine(dt, tr_mcn)\n",
    "\n",
    "# Standardization and normalization\n",
    "trmean = tr[dt_in].mean()\n",
    "trstd = tr[dt_in].std().replace(to_replace=0, value=1) # handle static fields\n",
    "ts_s = ts.copy()\n",
    "ts_s[dt_in] = (ts_s[dt_in] - trmean) / trstd\n",
    "tr_s = tr.copy()\n",
    "tr_s[dt_in] = (tr_s[dt_in] - trmean) / trstd\n",
    "\n",
    "trmaxrul = tr['rul'].max()\n",
    "ts_s['rul'] = ts['rul'] / trmaxrul \n",
    "tr_s['rul'] = tr['rul'] / trmaxrul \n",
    "\n",
    "# Define a cost model\n",
    "failtimes = dt.groupby('machine')['cycle'].max()\n",
    "safe_interval = failtimes.min()\n",
    "maintenance_cost = failtimes.max()\n",
    "cmodel = cmapss.RULCostModel(maintenance_cost=maintenance_cost, safe_interval=safe_interval)\n",
    "\n",
    "# Sliding window input\n",
    "wlen = 3\n",
    "tr_sw, tr_sw_m, tr_sw_r = cmapss.sliding_window_by_machine(tr_s, wlen, dt_in)\n",
    "ts_sw, ts_sw_m, ts_sw_r = cmapss.sliding_window_by_machine(ts_s, wlen, dt_in)"
   ]
  },
  {
   "cell_type": "markdown",
   "metadata": {
    "slideshow": {
     "slide_type": "slide"
    }
   },
   "source": [
    "# RUL Prediction as Classification"
   ]
  },
  {
   "cell_type": "markdown",
   "metadata": {
    "slideshow": {
     "slide_type": "subslide"
    }
   },
   "source": [
    "## RUL Prediction as Classification\n",
    "\n",
    "**RUL-based maintenance can also be tackled _using a classifier_**\n",
    "\n",
    "* We build a classifier to determine whether a failure will occur in $\\theta$ steps\n",
    "* We stop as soon as the classifier outputs (say) a 0, i.e.\n",
    "\n",
    "$$\n",
    "f_\\theta(x, \\lambda) = 0\n",
    "$$\n",
    "\n",
    "* $f$ is the classifier, with parameter vector $\\lambda$\n",
    "* $\\theta$ is the horizon for detecting a failure\n",
    "\n",
    "**In a sense, we are trying to learn _directly_ a maintenance policy**\n",
    "\n",
    "* The policy is the form \"stop $\\theta$ units before a failure\"\n",
    "* The classifier tries to learn it"
   ]
  },
  {
   "cell_type": "markdown",
   "metadata": {
    "slideshow": {
     "slide_type": "subslide"
    }
   },
   "source": [
    "## Classifier Architecture\n",
    "\n",
    "**We can therefore immediately define our classifier architecture:**"
   ]
  },
  {
   "cell_type": "code",
   "execution_count": 2,
   "metadata": {},
   "outputs": [],
   "source": [
    "def build_classifier(hidden):\n",
    "    input_shape = (len(dt_in), )\n",
    "    model_in = keras.Input(shape=input_shape, dtype='float32')\n",
    "    x = model_in\n",
    "    for h in hidden:\n",
    "        x = layers.Dense(h, activation='relu')(x)\n",
    "    model_out = layers.Dense(1, activation='sigmoid')(x)\n",
    "    model = keras.Model(model_in, model_out)\n",
    "    return model"
   ]
  },
  {
   "cell_type": "markdown",
   "metadata": {},
   "source": [
    "* Like in the regression case, we use a Multilayer Perceptron\n",
    "* The only difference is the use of a sigmoid activation in the output layer\n",
    "* For `hidden = []` we get Logistic Regression"
   ]
  },
  {
   "cell_type": "markdown",
   "metadata": {
    "slideshow": {
     "slide_type": "subslide"
    }
   },
   "source": [
    "## Training\n",
    "\n",
    "**Before training, we need to define the classes**\n",
    "\n",
    "In turn, this requires to define the detection horizon $\\theta$:"
   ]
  },
  {
   "cell_type": "code",
   "execution_count": 3,
   "metadata": {},
   "outputs": [],
   "source": [
    "class_thr = 15\n",
    "tr_lbl = (tr['rul'] >= class_thr)\n",
    "ts_lbl = (ts['rul'] >= class_thr)"
   ]
  },
  {
   "cell_type": "markdown",
   "metadata": {},
   "source": [
    "* The class is \"1\" if a failure is more than $\\theta$ steps away\n",
    "* The class if \"0\" otherwise\n",
    "\n",
    "**Classification problems _tend to be easier_ than regression problems**\n",
    "\n",
    "* On the other hand, learning the whole policy\n",
    "* ...May be trickier than just estimating the RUL \n"
   ]
  },
  {
   "cell_type": "markdown",
   "metadata": {
    "slideshow": {
     "slide_type": "subslide"
    }
   },
   "source": [
    "## Training\n",
    "\n",
    "**Let's start by training the simplest possible model**"
   ]
  },
  {
   "cell_type": "code",
   "execution_count": 4,
   "metadata": {
    "scrolled": true
   },
   "outputs": [
    {
     "name": "stderr",
     "output_type": "stream",
     "text": [
      "2021-12-04 11:35:22.398388: I tensorflow/core/platform/cpu_feature_guard.cc:151] This TensorFlow binary is optimized with oneAPI Deep Neural Network Library (oneDNN) to use the following CPU instructions in performance-critical operations:  AVX2 FMA\n",
      "To enable them in other operations, rebuild TensorFlow with the appropriate compiler flags.\n"
     ]
    },
    {
     "name": "stdout",
     "output_type": "stream",
     "text": [
      "Epoch 1/20\n",
      "1135/1135 [==============================] - 1s 785us/step - loss: 0.5272 - val_loss: 0.3904\n",
      "Epoch 2/20\n",
      "1135/1135 [==============================] - 1s 666us/step - loss: 0.3208 - val_loss: 0.2824\n",
      "Epoch 3/20\n",
      "1135/1135 [==============================] - 1s 662us/step - loss: 0.2486 - val_loss: 0.2430\n",
      "Epoch 4/20\n",
      "1135/1135 [==============================] - 1s 668us/step - loss: 0.2203 - val_loss: 0.2267\n",
      "Epoch 5/20\n",
      "1135/1135 [==============================] - 1s 665us/step - loss: 0.2071 - val_loss: 0.2180\n",
      "Epoch 6/20\n",
      "1135/1135 [==============================] - 1s 672us/step - loss: 0.1988 - val_loss: 0.2113\n",
      "Epoch 7/20\n",
      "1135/1135 [==============================] - 1s 662us/step - loss: 0.1925 - val_loss: 0.2052\n",
      "Epoch 8/20\n",
      "1135/1135 [==============================] - 1s 687us/step - loss: 0.1869 - val_loss: 0.2000\n",
      "Epoch 9/20\n",
      "1135/1135 [==============================] - 1s 691us/step - loss: 0.1820 - val_loss: 0.1952\n",
      "Epoch 10/20\n",
      "1135/1135 [==============================] - 1s 688us/step - loss: 0.1777 - val_loss: 0.1912\n",
      "Epoch 11/20\n",
      "1135/1135 [==============================] - 1s 650us/step - loss: 0.1739 - val_loss: 0.1879\n",
      "Epoch 12/20\n",
      "1135/1135 [==============================] - 1s 650us/step - loss: 0.1705 - val_loss: 0.1845\n",
      "Epoch 13/20\n",
      "1135/1135 [==============================] - 1s 641us/step - loss: 0.1673 - val_loss: 0.1819\n",
      "Epoch 14/20\n",
      "1135/1135 [==============================] - 1s 657us/step - loss: 0.1646 - val_loss: 0.1788\n",
      "Epoch 15/20\n",
      "1135/1135 [==============================] - 1s 644us/step - loss: 0.1621 - val_loss: 0.1761\n",
      "Epoch 16/20\n",
      "1135/1135 [==============================] - 1s 642us/step - loss: 0.1599 - val_loss: 0.1738\n",
      "Epoch 17/20\n",
      "1135/1135 [==============================] - 1s 647us/step - loss: 0.1576 - val_loss: 0.1720\n",
      "Epoch 18/20\n",
      "1135/1135 [==============================] - 1s 652us/step - loss: 0.1557 - val_loss: 0.1699\n",
      "Epoch 19/20\n",
      "1135/1135 [==============================] - 1s 688us/step - loss: 0.1540 - val_loss: 0.1681\n",
      "Epoch 20/20\n",
      "1135/1135 [==============================] - 1s 695us/step - loss: 0.1524 - val_loss: 0.1671\n"
     ]
    }
   ],
   "source": [
    "nn1 = build_classifier(hidden=[])\n",
    "nn1.compile(optimizer='Adam', loss='binary_crossentropy')\n",
    "cb = [callbacks.EarlyStopping(patience=10, restore_best_weights=True)]\n",
    "history1 = nn1.fit(tr_s[dt_in], tr_lbl, validation_split=0.2,\n",
    "                 callbacks=cb,\n",
    "                 batch_size=32, epochs=20, verbose=1)"
   ]
  },
  {
   "cell_type": "markdown",
   "metadata": {
    "slideshow": {
     "slide_type": "subslide"
    }
   },
   "source": [
    "## Training\n",
    "\n",
    "**Here's the loss evolution over time and its final value**"
   ]
  },
  {
   "cell_type": "code",
   "execution_count": 5,
   "metadata": {
    "scrolled": false
   },
   "outputs": [
    {
     "name": "stdout",
     "output_type": "stream",
     "text": [
      "Final loss: 0.1524 (training), 0.1671 (validation)\n"
     ]
    },
    {
     "data": {
      "application/vnd.jupyter.widget-view+json": {
       "model_id": "fb33e60aad254f24be863e2eaae88863",
       "version_major": 2,
       "version_minor": 0
      },
      "text/html": [
       "\n",
       "            <div style=\"display: inline-block;\">\n",
       "                <div class=\"jupyter-widgets widget-label\" style=\"text-align: center;\">\n",
       "                    Figure\n",
       "                </div>\n",
       "                <img src='data:image/png;base64,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' width=900.0/>\n",
       "            </div>\n",
       "        "
      ],
      "text/plain": [
       "Canvas(toolbar=Toolbar(toolitems=[('Home', 'Reset original view', 'home', 'home'), ('Back', 'Back to previous …"
      ]
     },
     "metadata": {},
     "output_type": "display_data"
    }
   ],
   "source": [
    "cmapss.plot_training_history(history1, figsize=figsize)\n",
    "tr1, vl1 = history1.history[\"loss\"][-1], np.min(history1.history[\"val_loss\"])\n",
    "print(f'Final loss: {tr1:.4f} (training), {vl1:.4f} (validation)')"
   ]
  },
  {
   "cell_type": "markdown",
   "metadata": {
    "slideshow": {
     "slide_type": "subslide"
    }
   },
   "source": [
    "## Training\n",
    "\n",
    "**Let's try with a deeper model**"
   ]
  },
  {
   "cell_type": "code",
   "execution_count": 6,
   "metadata": {
    "scrolled": true
   },
   "outputs": [
    {
     "name": "stdout",
     "output_type": "stream",
     "text": [
      "Epoch 1/20\n",
      "1135/1135 [==============================] - 1s 830us/step - loss: 0.2123 - val_loss: 0.1674\n",
      "Epoch 2/20\n",
      "1135/1135 [==============================] - 1s 760us/step - loss: 0.1322 - val_loss: 0.1287\n",
      "Epoch 3/20\n",
      "1135/1135 [==============================] - 1s 766us/step - loss: 0.1066 - val_loss: 0.1093\n",
      "Epoch 4/20\n",
      "1135/1135 [==============================] - 1s 753us/step - loss: 0.0913 - val_loss: 0.0820\n",
      "Epoch 5/20\n",
      "1135/1135 [==============================] - 1s 754us/step - loss: 0.0811 - val_loss: 0.0757\n",
      "Epoch 6/20\n",
      "1135/1135 [==============================] - 1s 751us/step - loss: 0.0761 - val_loss: 0.0731\n",
      "Epoch 7/20\n",
      "1135/1135 [==============================] - 1s 750us/step - loss: 0.0737 - val_loss: 0.0681\n",
      "Epoch 8/20\n",
      "1135/1135 [==============================] - 1s 801us/step - loss: 0.0716 - val_loss: 0.0629\n",
      "Epoch 9/20\n",
      "1135/1135 [==============================] - 1s 755us/step - loss: 0.0724 - val_loss: 0.0653\n",
      "Epoch 10/20\n",
      "1135/1135 [==============================] - 1s 751us/step - loss: 0.0704 - val_loss: 0.0690\n",
      "Epoch 11/20\n",
      "1135/1135 [==============================] - 1s 769us/step - loss: 0.0704 - val_loss: 0.0614\n",
      "Epoch 12/20\n",
      "1135/1135 [==============================] - 1s 759us/step - loss: 0.0696 - val_loss: 0.0737\n",
      "Epoch 13/20\n",
      "1135/1135 [==============================] - 1s 789us/step - loss: 0.0693 - val_loss: 0.0647\n",
      "Epoch 14/20\n",
      "1135/1135 [==============================] - 1s 749us/step - loss: 0.0688 - val_loss: 0.0712\n",
      "Epoch 15/20\n",
      "1135/1135 [==============================] - 1s 753us/step - loss: 0.0694 - val_loss: 0.0656\n",
      "Epoch 16/20\n",
      "1135/1135 [==============================] - 1s 751us/step - loss: 0.0700 - val_loss: 0.0646\n",
      "Epoch 17/20\n",
      "1135/1135 [==============================] - 1s 756us/step - loss: 0.0679 - val_loss: 0.0594\n",
      "Epoch 18/20\n",
      "1135/1135 [==============================] - 1s 759us/step - loss: 0.0677 - val_loss: 0.0575\n",
      "Epoch 19/20\n",
      "1135/1135 [==============================] - 1s 751us/step - loss: 0.0680 - val_loss: 0.0768\n",
      "Epoch 20/20\n",
      "1135/1135 [==============================] - 1s 750us/step - loss: 0.0670 - val_loss: 0.0583\n"
     ]
    }
   ],
   "source": [
    "nn2 = build_classifier(hidden=[32, 32])\n",
    "nn2.compile(optimizer='Adam', loss='binary_crossentropy')\n",
    "history2 = nn2.fit(tr_s[dt_in], tr_lbl, validation_split=0.2,\n",
    "                 callbacks=cb,\n",
    "                 batch_size=32, epochs=20, verbose=1)"
   ]
  },
  {
   "cell_type": "markdown",
   "metadata": {
    "slideshow": {
     "slide_type": "subslide"
    }
   },
   "source": [
    "## Training\n",
    "\n",
    "**Here's the loss for the deeper model**"
   ]
  },
  {
   "cell_type": "code",
   "execution_count": 7,
   "metadata": {
    "scrolled": true
   },
   "outputs": [
    {
     "name": "stdout",
     "output_type": "stream",
     "text": [
      "Final loss: 0.0670 (training), 0.0575 (validation)\n"
     ]
    },
    {
     "data": {
      "application/vnd.jupyter.widget-view+json": {
       "model_id": "657e0d7d11ae488a8203284fcc632059",
       "version_major": 2,
       "version_minor": 0
      },
      "text/html": [
       "\n",
       "            <div style=\"display: inline-block;\">\n",
       "                <div class=\"jupyter-widgets widget-label\" style=\"text-align: center;\">\n",
       "                    Figure\n",
       "                </div>\n",
       "                <img src='data:image/png;base64,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' width=900.0/>\n",
       "            </div>\n",
       "        "
      ],
      "text/plain": [
       "Canvas(toolbar=Toolbar(toolitems=[('Home', 'Reset original view', 'home', 'home'), ('Back', 'Back to previous …"
      ]
     },
     "metadata": {},
     "output_type": "display_data"
    }
   ],
   "source": [
    "cmapss.plot_training_history(history2, figsize=figsize)\n",
    "tr2, vl2 = history2.history[\"loss\"][-1], np.min(history2.history[\"val_loss\"])\n",
    "print(f'Final loss: {tr2:.4f} (training), {vl2:.4f} (validation)')"
   ]
  },
  {
   "cell_type": "markdown",
   "metadata": {},
   "source": [
    "* Depth pays off big in this case"
   ]
  },
  {
   "cell_type": "markdown",
   "metadata": {
    "slideshow": {
     "slide_type": "subslide"
    }
   },
   "source": [
    "## Predictions\n",
    "\n",
    "**Our predictions can be interpreted as probabilities (of advancing)**"
   ]
  },
  {
   "cell_type": "code",
   "execution_count": 8,
   "metadata": {
    "scrolled": true
   },
   "outputs": [
    {
     "data": {
      "application/vnd.jupyter.widget-view+json": {
       "model_id": "6d79446057ed411e923039c8b733f318",
       "version_major": 2,
       "version_minor": 0
      },
      "text/html": [
       "\n",
       "            <div style=\"display: inline-block;\">\n",
       "                <div class=\"jupyter-widgets widget-label\" style=\"text-align: center;\">\n",
       "                    Figure\n",
       "                </div>\n",
       "                <img src='data:image/png;base64,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' width=900.0/>\n",
       "            </div>\n",
       "        "
      ],
      "text/plain": [
       "Canvas(toolbar=Toolbar(toolitems=[('Home', 'Reset original view', 'home', 'home'), ('Back', 'Back to previous …"
      ]
     },
     "metadata": {},
     "output_type": "display_data"
    }
   ],
   "source": [
    "tr_pred2_prob = nn2.predict(tr_s[dt_in]).ravel()\n",
    "stop = 1095\n",
    "cmapss.plot_rul(tr_pred2_prob[:stop], tr['rul'][:stop], same_scale=False, figsize=figsize)"
   ]
  },
  {
   "cell_type": "markdown",
   "metadata": {},
   "source": [
    "* The probability falls when closer to failures"
   ]
  },
  {
   "cell_type": "markdown",
   "metadata": {
    "slideshow": {
     "slide_type": "subslide"
    }
   },
   "source": [
    "## Predictions\n",
    "\n",
    "**In practice, we need to convert the predictions to integers via rounding**\n",
    "\n",
    "...Unless we want to deal with one more threshold (in addition to $\\theta$)"
   ]
  },
  {
   "cell_type": "code",
   "execution_count": 9,
   "metadata": {},
   "outputs": [
    {
     "data": {
      "application/vnd.jupyter.widget-view+json": {
       "model_id": "b25027f5d46242daa1d550e288b398c7",
       "version_major": 2,
       "version_minor": 0
      },
      "text/html": [
       "\n",
       "            <div style=\"display: inline-block;\">\n",
       "                <div class=\"jupyter-widgets widget-label\" style=\"text-align: center;\">\n",
       "                    Figure\n",
       "                </div>\n",
       "                <img src='data:image/png;base64,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' width=900.0/>\n",
       "            </div>\n",
       "        "
      ],
      "text/plain": [
       "Canvas(toolbar=Toolbar(toolitems=[('Home', 'Reset original view', 'home', 'home'), ('Back', 'Back to previous …"
      ]
     },
     "metadata": {},
     "output_type": "display_data"
    }
   ],
   "source": [
    "tr_pred2 = np.round(nn2.predict(tr_s[dt_in]).ravel())\n",
    "cmapss.plot_rul(tr_pred2[:stop], tr['rul'][:stop], same_scale=False, figsize=figsize)"
   ]
  },
  {
   "cell_type": "markdown",
   "metadata": {},
   "source": [
    "* Still, the behavior seems to be reasonable"
   ]
  },
  {
   "cell_type": "markdown",
   "metadata": {
    "slideshow": {
     "slide_type": "subslide"
    }
   },
   "source": [
    "## Predictions\n",
    "\n",
    "**Let's see the behavior on the test set**"
   ]
  },
  {
   "cell_type": "code",
   "execution_count": 10,
   "metadata": {},
   "outputs": [
    {
     "data": {
      "application/vnd.jupyter.widget-view+json": {
       "model_id": "d496c720ddff4113af2b1454a11616f1",
       "version_major": 2,
       "version_minor": 0
      },
      "text/html": [
       "\n",
       "            <div style=\"display: inline-block;\">\n",
       "                <div class=\"jupyter-widgets widget-label\" style=\"text-align: center;\">\n",
       "                    Figure\n",
       "                </div>\n",
       "                <img src='data:image/png;base64,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' width=900.0/>\n",
       "            </div>\n",
       "        "
      ],
      "text/plain": [
       "Canvas(toolbar=Toolbar(toolitems=[('Home', 'Reset original view', 'home', 'home'), ('Back', 'Back to previous …"
      ]
     },
     "metadata": {},
     "output_type": "display_data"
    }
   ],
   "source": [
    "ts_pred2 = np.round(nn2.predict(ts_s[dt_in]).ravel())\n",
    "cmapss.plot_rul(ts_pred2[:stop], ts['rul'][:stop], same_scale=False, figsize=figsize)"
   ]
  },
  {
   "cell_type": "markdown",
   "metadata": {},
   "source": [
    "* Apparently a decent degree of generalization"
   ]
  },
  {
   "cell_type": "markdown",
   "metadata": {
    "slideshow": {
     "slide_type": "subslide"
    }
   },
   "source": [
    "## Evaluation\n",
    "\n",
    "**We can evaluate the classifier _directly_**\n",
    "\n",
    "...Because it defines the whole policy, with no need for additional calibration!\n",
    "\n",
    "* On one hand this makes this stage of the process _simpler_\n",
    "* ...On the other, this is (apparently) a missed opportunity"
   ]
  },
  {
   "cell_type": "code",
   "execution_count": 11,
   "metadata": {},
   "outputs": [
    {
     "name": "stdout",
     "output_type": "stream",
     "text": [
      "Cost: -17497 (training), -6479 (test)\n",
      "Avg. fails: 0.0 (training), 0.0 (test)\n",
      "Avg. slack: 22.26 (training), 21.10 (test)\n"
     ]
    }
   ],
   "source": [
    "tr_c2, tr_f2, tr_s2 = cmodel.cost(tr['machine'].values, tr_pred2, 0.5, return_margin=True)\n",
    "ts_c2, ts_f2, ts_s2 = cmodel.cost(ts['machine'].values, ts_pred2, 0.5, return_margin=True)\n",
    "print(f'Cost: {tr_c2} (training), {ts_c2} (test)')\n",
    "print(f'Avg. fails: {tr_f2/len(tr_mcn)} (training), {ts_f2/len(ts_mcn)} (test)')\n",
    "print(f'Avg. slack: {tr_s2/len(tr_mcn):.2f} (training), {ts_s2/len(ts_mcn):.2f} (test)')"
   ]
  },
  {
   "cell_type": "markdown",
   "metadata": {},
   "source": [
    "* Still pretty good results, but worse than the best regression approach\n",
    "* We will investigate _two potential reasons_"
   ]
  },
  {
   "cell_type": "markdown",
   "metadata": {
    "slideshow": {
     "slide_type": "slide"
    }
   },
   "source": [
    "# Balancing a Dataset"
   ]
  },
  {
   "cell_type": "markdown",
   "metadata": {
    "slideshow": {
     "slide_type": "subslide"
    }
   },
   "source": [
    "## Balancing a Dataset\n",
    "\n",
    "**By construction, our dataset is likely to be strongly unbalanced**"
   ]
  },
  {
   "cell_type": "code",
   "execution_count": 12,
   "metadata": {},
   "outputs": [
    {
     "data": {
      "text/plain": [
       "True     0.938526\n",
       "False    0.061474\n",
       "Name: rul, dtype: float64"
      ]
     },
     "execution_count": 12,
     "metadata": {},
     "output_type": "execute_result"
    }
   ],
   "source": [
    "counts = tr_lbl.value_counts(normalize=True)\n",
    "counts"
   ]
  },
  {
   "cell_type": "markdown",
   "metadata": {},
   "source": [
    "* In these kind of situation, SGD optimization may have convergence issues\n",
    "* The gradient will push strongly in the direction of the overrepresented class\n",
    "\n",
    "**A common practice to address this issue is using _class weights_**\n",
    "\n",
    "* Typically, we use weights inversely proportional to the counts\n",
    "* ...So as to counter-balance the effect"
   ]
  },
  {
   "cell_type": "code",
   "execution_count": 13,
   "metadata": {},
   "outputs": [],
   "source": [
    "class_weight = {0: 1/counts[0], 1: 1/counts[1]}"
   ]
  },
  {
   "cell_type": "markdown",
   "metadata": {
    "slideshow": {
     "slide_type": "subslide"
    }
   },
   "source": [
    "## Class-Weights, Cross-Entropy, and Likelihood\n",
    "\n",
    "**While are class frequencies typically used as weights?**\n",
    "\n",
    "Let's say our classifier is trained via for _weighted cross-entropy_:\n",
    "$$\n",
    "\\min_{y} \\left\\{ - w_1 \\sum_{\\hat{y}_i = 1} \\log y_i -  w_0 \\sum_{\\hat{y}_i = 0} \\log (1 - y_i) \\right\\}\n",
    "$$\n",
    "* Where $\\hat{y}$ is the label vector and $y$ the vector of classifier outputs\n",
    "* $w_0$ and $w_1$ are the weights for class 0 and 1\n",
    "\n",
    "**If we switch optimization direction and we apply an exponential we get:**\n",
    "$$\n",
    "\\max_{y} \\left\\{ e^{w_1 \\sum_{\\hat{y}_i = 1} \\log y_i} e^{w_0 \\sum_{\\hat{y}_i = 0} \\log (1 - y_i)} \\right\\}\n",
    "$$\n",
    "* The _optimal points_ are the same as before"
   ]
  },
  {
   "cell_type": "markdown",
   "metadata": {
    "slideshow": {
     "slide_type": "subslide"
    }
   },
   "source": [
    "## Class-Weights, Cross-Entropy, and Likelihood\n",
    "\n",
    "**We with algebraic manipulations we finally obtain:**\n",
    "\n",
    "$$\n",
    "\\max_{y} \\left\\{ \\prod_{\\hat{y}_i = 1} y_i^{w_1} \\prod_{\\hat{y}_i = 0} (1-y_i)^{w_0} \\right\\}\n",
    "$$\n",
    "\n",
    "**When training, we are _maximizing a likelihood expression_!**\n",
    "\n",
    "* To see that, just interpret $y_i$ as the (estimated) probability of the class being 1\n",
    "\n",
    "**The weights act as _exponents for the class probabilities_**\n",
    "\n",
    "...Which is equivalent to adjusting their frequencies!\n",
    "\n",
    "* E.g. from a mathematical point of view, setting $w_0$ to 2...\n",
    "* ...Is equivalent to making a copy of each example having label 0\n",
    "\n",
    "Hence, inverse class frequencies are often used as weights for dataset rebalancing"
   ]
  },
  {
   "cell_type": "markdown",
   "metadata": {
    "slideshow": {
     "slide_type": "subslide"
    }
   },
   "source": [
    "## Training with Non-uniform Class Weights\n",
    "\n",
    "**Let's repeat the training process**"
   ]
  },
  {
   "cell_type": "code",
   "execution_count": 14,
   "metadata": {
    "scrolled": true
   },
   "outputs": [
    {
     "name": "stdout",
     "output_type": "stream",
     "text": [
      "Epoch 1/20\n",
      "1135/1135 [==============================] - 1s 879us/step - loss: 0.8826 - val_loss: 0.2998\n",
      "Epoch 2/20\n",
      "1135/1135 [==============================] - 1s 806us/step - loss: 0.4422 - val_loss: 0.3385\n",
      "Epoch 3/20\n",
      "1135/1135 [==============================] - 1s 802us/step - loss: 0.3573 - val_loss: 0.1743\n",
      "Epoch 4/20\n",
      "1135/1135 [==============================] - 1s 802us/step - loss: 0.3320 - val_loss: 0.1880\n",
      "Epoch 5/20\n",
      "1135/1135 [==============================] - 1s 863us/step - loss: 0.3046 - val_loss: 0.1753\n",
      "Epoch 6/20\n",
      "1135/1135 [==============================] - 1s 802us/step - loss: 0.3046 - val_loss: 0.1272\n",
      "Epoch 7/20\n",
      "1135/1135 [==============================] - 1s 873us/step - loss: 0.2975 - val_loss: 0.1932\n",
      "Epoch 8/20\n",
      "1135/1135 [==============================] - 1s 804us/step - loss: 0.2879 - val_loss: 0.1430\n",
      "Epoch 9/20\n",
      "1135/1135 [==============================] - 1s 803us/step - loss: 0.2859 - val_loss: 0.1387\n",
      "Epoch 10/20\n",
      "1135/1135 [==============================] - 1s 804us/step - loss: 0.2781 - val_loss: 0.1651\n",
      "Epoch 11/20\n",
      "1135/1135 [==============================] - 1s 809us/step - loss: 0.2807 - val_loss: 0.1177\n",
      "Epoch 12/20\n",
      "1135/1135 [==============================] - 1s 847us/step - loss: 0.2847 - val_loss: 0.1384\n",
      "Epoch 13/20\n",
      "1135/1135 [==============================] - 1s 868us/step - loss: 0.2805 - val_loss: 0.1733\n",
      "Epoch 14/20\n",
      "1135/1135 [==============================] - 1s 805us/step - loss: 0.2667 - val_loss: 0.0998\n",
      "Epoch 15/20\n",
      "1135/1135 [==============================] - 1s 807us/step - loss: 0.2735 - val_loss: 0.1132\n",
      "Epoch 16/20\n",
      "1135/1135 [==============================] - 1s 801us/step - loss: 0.2731 - val_loss: 0.2934\n",
      "Epoch 17/20\n",
      "1135/1135 [==============================] - 1s 805us/step - loss: 0.2688 - val_loss: 0.0968\n",
      "Epoch 18/20\n",
      "1135/1135 [==============================] - 1s 803us/step - loss: 0.2587 - val_loss: 0.1426\n",
      "Epoch 19/20\n",
      "1135/1135 [==============================] - 1s 802us/step - loss: 0.2667 - val_loss: 0.1319\n",
      "Epoch 20/20\n",
      "1135/1135 [==============================] - 1s 855us/step - loss: 0.2567 - val_loss: 0.1322\n"
     ]
    }
   ],
   "source": [
    "nn3 = build_classifier(hidden=[32, 32])\n",
    "nn3.compile(optimizer='Adam', loss='binary_crossentropy')\n",
    "history3 = nn3.fit(tr_s[dt_in], tr_lbl, validation_split=0.2,\n",
    "                 callbacks=cb, class_weight=class_weight,\n",
    "                 batch_size=32, epochs=20, verbose=1)"
   ]
  },
  {
   "cell_type": "markdown",
   "metadata": {
    "slideshow": {
     "slide_type": "subslide"
    }
   },
   "source": [
    "## Predictions\n",
    "\n",
    "**Let's check how the the raw predictions (probabilities) have changed**"
   ]
  },
  {
   "cell_type": "code",
   "execution_count": 15,
   "metadata": {
    "scrolled": true
   },
   "outputs": [
    {
     "data": {
      "application/vnd.jupyter.widget-view+json": {
       "model_id": "6533c54bc3124c06bfc0db094caf48f9",
       "version_major": 2,
       "version_minor": 0
      },
      "text/html": [
       "\n",
       "            <div style=\"display: inline-block;\">\n",
       "                <div class=\"jupyter-widgets widget-label\" style=\"text-align: center;\">\n",
       "                    Figure\n",
       "                </div>\n",
       "                <img src='data:image/png;base64,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' width=900.0/>\n",
       "            </div>\n",
       "        "
      ],
      "text/plain": [
       "Canvas(toolbar=Toolbar(toolitems=[('Home', 'Reset original view', 'home', 'home'), ('Back', 'Back to previous …"
      ]
     },
     "metadata": {},
     "output_type": "display_data"
    }
   ],
   "source": [
    "tr_pred3_prob = nn3.predict(tr_s[dt_in]).ravel()\n",
    "cmapss.plot_rul(tr_pred3_prob[:stop], tr['rul'][:stop], same_scale=False, figsize=figsize)"
   ]
  },
  {
   "cell_type": "markdown",
   "metadata": {
    "slideshow": {
     "slide_type": "fragment"
    }
   },
   "source": [
    "* They have actually become _worse_: there are mistakes in the initial section"
   ]
  },
  {
   "cell_type": "markdown",
   "metadata": {
    "slideshow": {
     "slide_type": "subslide"
    }
   },
   "source": [
    "## Evaluation\n",
    "\n",
    "**Let's check the model performance in terms of cost**"
   ]
  },
  {
   "cell_type": "code",
   "execution_count": 16,
   "metadata": {},
   "outputs": [
    {
     "name": "stdout",
     "output_type": "stream",
     "text": [
      "Cost: -13607 (training), -5095 (test)\n",
      "Avg. fails: 0.0 (training), 0.0 (test)\n",
      "Avg. slack: 45.87 (training), 47.21 (test)\n"
     ]
    }
   ],
   "source": [
    "tr_pred3 = np.round(nn3.predict(tr_s[dt_in]).ravel())\n",
    "ts_pred3 = np.round(nn3.predict(ts_s[dt_in]).ravel())\n",
    "tr_c3, tr_f3, tr_s3 = cmodel.cost(tr['machine'].values, tr_pred3, 0.5, return_margin=True)\n",
    "ts_c3, ts_f3, ts_s3 = cmodel.cost(ts['machine'].values, ts_pred3, 0.5, return_margin=True)\n",
    "print(f'Cost: {tr_c3} (training), {ts_c3} (test)')\n",
    "print(f'Avg. fails: {tr_f3/len(tr_mcn)} (training), {ts_f3/len(ts_mcn)} (test)')\n",
    "print(f'Avg. slack: {tr_s3/len(tr_mcn):.2f} (training), {ts_s3/len(ts_mcn):.2f} (test)')"
   ]
  },
  {
   "cell_type": "markdown",
   "metadata": {},
   "source": [
    "As expected, the results are worse\n",
    "\n",
    "* The model now treats the two classes more fairly\n",
    "* ...But this increases the chance of an (undesirable) early stop\n",
    "\n",
    "**So, how shall we choose the balance?**"
   ]
  },
  {
   "cell_type": "markdown",
   "metadata": {
    "slideshow": {
     "slide_type": "slide"
    }
   },
   "source": [
    "# Bayesian (Surrogate-Based) Optimization"
   ]
  },
  {
   "cell_type": "markdown",
   "metadata": {
    "slideshow": {
     "slide_type": "subslide"
    }
   },
   "source": [
    "## Taking a Step Back\n",
    "\n",
    "**In the _regression_ case, we are formally solving:**\n",
    "\n",
    "$$\\begin{align}\n",
    "&\\min_{\\theta} \\sum_{k \\in K} \\mathit{cost}(f(x_k\\, \\lambda^*), \\theta) \\\\\n",
    "\\text{ with: } \\lambda^* &= \\text{argmin}_\\lambda L(f(x_k, \\lambda), y_k)\n",
    "\\end{align}$$\n",
    "\n",
    "* Where $\\lambda^*$ is the optimal parameter vector (i.e. the network weights)\n",
    "* ...And $L$ is the loss function (i.e. the MSE), and $\\mathit{cost}$ is our cost model\n",
    "* $\\theta$ is chosen so as to minimize the cost\n",
    "\n",
    "**This is a _bilevel optimization_ problem**\n",
    "\n",
    "* However, since $\\theta$ does appears neither in $L$ nor in $f$\n",
    "* ...It can be _decomposed into two sequential subproblems_"
   ]
  },
  {
   "cell_type": "markdown",
   "metadata": {
    "slideshow": {
     "slide_type": "subslide"
    }
   },
   "source": [
    "## Taking a Step Back\n",
    "\n",
    "**In the _classification_ case, we are formally solving:**\n",
    "\n",
    "$$\\begin{align}\n",
    "&\\text{min}_{\\theta} \\sum_{k \\in K} \\mathit{cost}(f(x_k\\, \\lambda^*), 0.5) \\\\\n",
    "\\text{ with: } \\lambda^* &= \\text{argmin}_\\lambda L(f(x_k, \\lambda), {\\bf 1}_{y_k \\geq \\theta})\n",
    "\\end{align}$$\n",
    "\n",
    "* In this case, we use a dummy threshold in the cost model (i.e. 0.5)\n",
    "* ...And ${\\bf 1}_{y_k \\geq \\theta}$ is the indicator function of $y_k \\geq \\theta$ (i.e. our class labels)\n",
    "\n",
    "**Unlike the previous one, this problem _cannot be decomposed_**\n",
    "\n",
    "...Because $\\theta$ appears in the loss function!\n",
    "\n",
    "* This means we need to _optimize $\\theta$ and $\\lambda$ at the same time_\n",
    "* This is obviously complicated, but it's also an _opportunity_\n",
    "* ...Since we can _adapt the training problem_ based on the threshold"
   ]
  },
  {
   "cell_type": "markdown",
   "metadata": {
    "slideshow": {
     "slide_type": "subslide"
    }
   },
   "source": [
    "## Taking a Step Back\n",
    "\n",
    "**We can try to tackle the optimization process in a hierarchical fashion**\n",
    "\n",
    "1. We search over the possible values of $\\theta$\n",
    "2. For the given $\\theta$ value, we compute ${\\bf 1}_{y_k \\geq \\theta}$ (i.e. the class labels)\n",
    "3. For the given $\\theta$ and ${\\bf 1}_{y_k \\geq \\theta}$, we compute $\\lambda^*$ (i.e. we train the model)\n",
    "4. For the given $\\theta$, ${\\bf 1}_{y_k \\geq \\theta}$, and $\\lambda^*$, we compute the cost\n",
    "\n",
    "At the end of the process, we choose the configuration with the best cost\n",
    "\n",
    "**The method is reasonable, but slow**\n",
    "\n",
    "* We could reduce the runtime by warm-starting each training attempt\n",
    "* ...And by searching over $\\theta$ in a smart way"
   ]
  },
  {
   "cell_type": "markdown",
   "metadata": {
    "slideshow": {
     "slide_type": "subslide"
    }
   },
   "source": [
    "## Bayesian Optimization\n",
    "\n",
    "**We will use an approach known as _Bayesian optimization_**\n",
    "\n",
    "* It's actually a family of _surrogate-based optimization_ methods\n",
    "* They are all designed to optimize _blackbox functions_\n",
    "* I.e. functions with an unknown structure, that can only be evaluated\n",
    "\n",
    "**Formally, they address problems in the form:**\n",
    "\n",
    "$$\n",
    "\\min_{x \\in B} f(x)\n",
    "$$\n",
    "\n",
    "* Where $B$ is a box, i.e. a specification of bounds for each component of $x$\n",
    "\n",
    "In our case:\n",
    "\n",
    "* The decision variable $x$ would be $\\theta$\n",
    "* The function to be optimized would be the cost"
   ]
  },
  {
   "cell_type": "markdown",
   "metadata": {
    "slideshow": {
     "slide_type": "subslide"
    }
   },
   "source": [
    "## Bayesian (or Surrogate-Based) Optimization\n",
    "\n",
    "**Internally, methods in this family store:**\n",
    "\n",
    "* A collection $\\hat{x}$ of evaluated points\n",
    "* A surrogate-model $\\tilde{f}$ for $f$\n",
    "\n",
    "**The basic loop of the algorithm is then as follow:**\n",
    "\n",
    "Let $x^*$ be the current candidate optimum\n",
    "\n",
    "* Based on the current $\\tilde{f}$:\n",
    "  - Determine whether there exists $x^\\prime \\in B$ that may improve over $x^*$\n",
    "  - If there is no such point, return $x^*$\n",
    "  - Otherwise\n",
    "    + Evaluate $f(x^\\prime)$ and possibly replace $x^*$\n",
    "    + Add $x^\\prime$ to $\\hat{x}$, adjust $\\tilde{f}$, and repeat"
   ]
  },
  {
   "cell_type": "markdown",
   "metadata": {
    "slideshow": {
     "slide_type": "subslide"
    }
   },
   "source": [
    "## Bayesian (or Surrogate-Based) Optimization\n",
    "\n",
    "**A few considerations:**\n",
    "\n",
    "In practice, the algorithm needs to balance _exploration_ and _exploitation_\n",
    "\n",
    "* We need to explore regions where we cannot make confident predictions\n",
    "* ...But we need also to focus on regions with promising cost values\n",
    "\n",
    "**Different Bayesian optimization algorithms:**\n",
    "\n",
    "* Make use of different surrogate models\n",
    "* Rely on different criteria for choosing $x^\\prime$\n",
    "* Strike different trade-offs in terms of number of (expensive) evaluations of $f$\n",
    "* ...And the quality of the obtained solutions\n",
    "\n",
    "**For more information, see (e.g.) [this tutorial](https://machinelearningmastery.com/what-is-bayesian-optimization/)**"
   ]
  },
  {
   "cell_type": "markdown",
   "metadata": {
    "slideshow": {
     "slide_type": "subslide"
    }
   },
   "source": [
    "## Our Chosen Optimizer\n",
    "\n",
    "**We will use the `bayesian-optimization` python module**\n",
    "\n",
    "* The solver is designed for maximization\n",
    "* Decent documentation can be found on [its github page](https://github.com/fmfn/BayesianOptimization)\n",
    "* It's not as fast as (e.g.) [RBFOpt](https://github.com/coin-or/rbfopt), but easier to install and configure\n",
    "\n",
    "**The solver relies on _Gaussian Processes_ as a surrogate model:**\n",
    "\n",
    "GPs are guaranteed to (approximately) touch every point in the training set\n",
    "\n",
    "* ...And behave reasonably well even with a simple RBF kernel\n",
    "* ...Which is in fact the one used in this case\n",
    "\n",
    "**GPs provide confidence intervals**\n",
    "\n",
    "...Which the algorithm uses to balance exploration and exploitation\n",
    "\n",
    "* Regions with wide C.I. may be worth exploring\n",
    "* ...And regions with high (upper) C.I. may contain high-quality solutions"
   ]
  },
  {
   "cell_type": "markdown",
   "metadata": {
    "slideshow": {
     "slide_type": "subslide"
    }
   },
   "source": [
    "## Method Setup\n",
    "\n",
    "**First, we need to define the function to be maximized**\n",
    "\n",
    "This will be the (negative) cost, after retraining the classifier:"
   ]
  },
  {
   "cell_type": "code",
   "execution_count": 17,
   "metadata": {},
   "outputs": [],
   "source": [
    "nn4 = build_classifier(hidden=[32, 32])\n",
    "nn4.compile(optimizer='Adam', loss='binary_crossentropy')\n",
    "nn4.set_weights(nn2.get_weights())\n",
    "\n",
    "bo_weights = {}\n",
    "def classification_obj(class_thr, class0_weight):\n",
    "    # Define new labels\n",
    "    tr_lbl = (tr['rul'] >= class_thr)\n",
    "    # Fit\n",
    "    nn4.fit(tr_s[dt_in], tr_lbl, validation_split=0.2,\n",
    "                     callbacks=cb, class_weight={1:1, 0:class0_weight},\n",
    "                     batch_size=32, epochs=5, verbose=0)\n",
    "    # Cost computation\n",
    "    tr_pred = np.round(nn4.predict(tr_s[dt_in]).ravel())\n",
    "    tr_cost = cmodel.cost(tr['machine'].values, tr_pred, 0.5)\n",
    "    # Store the model weights\n",
    "    bo_weights[class_thr, class0_weight] = nn4.get_weights()\n",
    "    return -tr_cost"
   ]
  },
  {
   "cell_type": "markdown",
   "metadata": {
    "slideshow": {
     "slide_type": "subslide"
    }
   },
   "source": [
    "## Method Setup\n",
    "\n",
    "**We rely on warm-starting to reduce the training time**\n",
    "\n",
    "We start from (the weights of) our deep MLP\n",
    "\n",
    "```python\n",
    "nn4 = build_classifier(hidden=[32, 32])\n",
    "nn4.compile(optimizer='Adam', loss='binary_crossentropy')\n",
    "nn4.set_weights(nn2.get_weights())\n",
    "```\n",
    "\n",
    "...So that we can train for just a few epochs\n",
    "\n",
    "```python\n",
    "nn4.fit(tr_s[dt_in], tr_lbl, validation_split=0.2,\n",
    "                 callbacks=cb, class_weight={1:1, 0:class0_weight},\n",
    "                 batch_size=32, epochs=5, verbose=0)\n",
    "```\n",
    "\n",
    "* Since the training process is stochastic...\n",
    "* The optimization result will be stochastic as well"
   ]
  },
  {
   "cell_type": "markdown",
   "metadata": {
    "slideshow": {
     "slide_type": "subslide"
    }
   },
   "source": [
    "## Method Setup\n",
    "\n",
    "**We will optimize _both $\\theta$ and the class weights_**\n",
    "\n",
    "```python\n",
    "def classification_obj(class_thr, class0_weight):\n",
    "    ...\n",
    "    nn4.fit(tr_s[dt_in], tr_lbl, validation_split=0.2,\n",
    "                     callbacks=cb, class_weight={1:1, 0:class0_weight},\n",
    "                     batch_size=32, epochs=5, verbose=0)\n",
    "    ...\n",
    "```\n",
    "\n",
    "* We can afford it, since we have a much better optimizer than grid search\n",
    "\n",
    "**We need to store the weights of each model**\n",
    "\n",
    "...So that we can recover the optimal configuration:\n",
    "\n",
    "```python\n",
    "bo_weights[class_thr, class0_weight] = nn4.get_weights()\n",
    "```"
   ]
  },
  {
   "cell_type": "markdown",
   "metadata": {
    "slideshow": {
     "slide_type": "subslide"
    }
   },
   "source": [
    "## Method Setup\n",
    "\n",
    "**We now define the bounding box**"
   ]
  },
  {
   "cell_type": "code",
   "execution_count": 18,
   "metadata": {},
   "outputs": [],
   "source": [
    "box = {'class_thr': (1, 15), 'class0_weight': (1, 10)}"
   ]
  },
  {
   "cell_type": "markdown",
   "metadata": {},
   "source": [
    "* We will consider stopping from 1 to 15 steps before a failure\n",
    "* We will consider weights for class 0 from 1 to 10\n",
    "\n",
    "**Then we can configure the optimizer:**"
   ]
  },
  {
   "cell_type": "code",
   "execution_count": 19,
   "metadata": {},
   "outputs": [],
   "source": [
    "from bayes_opt import BayesianOptimization\n",
    "optimizer = BayesianOptimization(f=classification_obj,\n",
    "                                 pbounds=box, random_state=42, verbose=2)"
   ]
  },
  {
   "cell_type": "markdown",
   "metadata": {},
   "source": [
    "* We specify the function to be maximized, the box\n",
    "* ...But also a random seed and the logging level"
   ]
  },
  {
   "cell_type": "markdown",
   "metadata": {
    "slideshow": {
     "slide_type": "subslide"
    }
   },
   "source": [
    "## Optimization\n",
    "\n",
    "**Finally, we run the optimization process**"
   ]
  },
  {
   "cell_type": "code",
   "execution_count": 20,
   "metadata": {},
   "outputs": [
    {
     "name": "stdout",
     "output_type": "stream",
     "text": [
      "|   iter    |  target   | class0... | class_thr |\n",
      "-------------------------------------------------\n",
      "| \u001b[0m 1       \u001b[0m | \u001b[0m 1.479e+0\u001b[0m | \u001b[0m 4.371   \u001b[0m | \u001b[0m 14.31   \u001b[0m |\n",
      "| \u001b[95m 2       \u001b[0m | \u001b[95m 1.569e+0\u001b[0m | \u001b[95m 7.588   \u001b[0m | \u001b[95m 9.381   \u001b[0m |\n",
      "| \u001b[95m 3       \u001b[0m | \u001b[95m 1.893e+0\u001b[0m | \u001b[95m 2.404   \u001b[0m | \u001b[95m 3.184   \u001b[0m |\n",
      "| \u001b[0m 4       \u001b[0m | \u001b[0m-1.667e+0\u001b[0m | \u001b[0m 5.649   \u001b[0m | \u001b[0m 1.077   \u001b[0m |\n",
      "| \u001b[0m 5       \u001b[0m | \u001b[0m 1.772e+0\u001b[0m | \u001b[0m 2.392   \u001b[0m | \u001b[0m 3.294   \u001b[0m |\n",
      "| \u001b[0m 6       \u001b[0m | \u001b[0m-6.204e+0\u001b[0m | \u001b[0m 1.25    \u001b[0m | \u001b[0m 1.719   \u001b[0m |\n",
      "| \u001b[0m 7       \u001b[0m | \u001b[0m 1.797e+0\u001b[0m | \u001b[0m 3.629   \u001b[0m | \u001b[0m 3.1     \u001b[0m |\n",
      "| \u001b[0m 8       \u001b[0m | \u001b[0m 1.599e+0\u001b[0m | \u001b[0m 6.677   \u001b[0m | \u001b[0m 10.78   \u001b[0m |\n",
      "| \u001b[0m 9       \u001b[0m | \u001b[0m 1.41e+04\u001b[0m | \u001b[0m 8.388   \u001b[0m | \u001b[0m 10.92   \u001b[0m |\n",
      "| \u001b[0m 10      \u001b[0m | \u001b[0m 1.755e+0\u001b[0m | \u001b[0m 5.765   \u001b[0m | \u001b[0m 9.208   \u001b[0m |\n",
      "| \u001b[0m 11      \u001b[0m | \u001b[0m 1.72e+04\u001b[0m | \u001b[0m 4.752   \u001b[0m | \u001b[0m 10.7    \u001b[0m |\n",
      "| \u001b[0m 12      \u001b[0m | \u001b[0m 1.646e+0\u001b[0m | \u001b[0m 5.375   \u001b[0m | \u001b[0m 12.49   \u001b[0m |\n",
      "| \u001b[0m 13      \u001b[0m | \u001b[0m 1.691e+0\u001b[0m | \u001b[0m 3.519   \u001b[0m | \u001b[0m 12.33   \u001b[0m |\n",
      "=================================================\n"
     ]
    }
   ],
   "source": [
    "optimizer.maximize(n_iter=10, init_points=3)"
   ]
  },
  {
   "cell_type": "markdown",
   "metadata": {
    "slideshow": {
     "slide_type": "subslide"
    }
   },
   "source": [
    "## Retrieving the Results\n",
    "\n",
    "**We can access the best configuration via**"
   ]
  },
  {
   "cell_type": "code",
   "execution_count": 21,
   "metadata": {},
   "outputs": [
    {
     "data": {
      "text/plain": [
       "{'target': 18934.0,\n",
       " 'params': {'class0_weight': 2.4041677639819286,\n",
       "  'class_thr': 3.183923284706837}}"
      ]
     },
     "execution_count": 21,
     "metadata": {},
     "output_type": "execute_result"
    }
   ],
   "source": [
    "optimizer.max"
   ]
  },
  {
   "cell_type": "markdown",
   "metadata": {},
   "source": [
    "Once we know the configuration, we can reconstruct the corresponding model: "
   ]
  },
  {
   "cell_type": "code",
   "execution_count": 22,
   "metadata": {},
   "outputs": [],
   "source": [
    "class_thr4 = optimizer.max['params']['class_thr']\n",
    "class0_weight4 = optimizer.max['params']['class0_weight']\n",
    "nn4.set_weights(bo_weights[class_thr4, class0_weight4])"
   ]
  },
  {
   "cell_type": "markdown",
   "metadata": {},
   "source": [
    "* We do this by accessing the weights in the `bo_weights` dictionary"
   ]
  },
  {
   "cell_type": "markdown",
   "metadata": {
    "slideshow": {
     "slide_type": "subslide"
    }
   },
   "source": [
    "## Evaluation\n",
    "\n",
    "**Finally, we can obtain the predictions**"
   ]
  },
  {
   "cell_type": "code",
   "execution_count": 23,
   "metadata": {},
   "outputs": [],
   "source": [
    "tr_pred4 = np.round(nn4.predict(tr_s[dt_in]).ravel())\n",
    "ts_pred4 = np.round(nn4.predict(ts_s[dt_in]).ravel())"
   ]
  },
  {
   "cell_type": "markdown",
   "metadata": {},
   "source": [
    "...And we can evaluate the optimized model:"
   ]
  },
  {
   "cell_type": "code",
   "execution_count": 24,
   "metadata": {},
   "outputs": [
    {
     "name": "stdout",
     "output_type": "stream",
     "text": [
      "Cost: -18934 (training), -6745 (test)\n",
      "Avg. fails: 0.005376344086021506 (training), 0.015873015873015872 (test)\n",
      "Avg. slack: 10.78 (training), 7.68 (test)\n"
     ]
    }
   ],
   "source": [
    "tr_c4, tr_f4, tr_s4 = cmodel.cost(tr['machine'].values, tr_pred4, 0.5, return_margin=True)\n",
    "ts_c4, ts_f4, ts_s4 = cmodel.cost(ts['machine'].values, ts_pred4, 0.5, return_margin=True)\n",
    "print(f'Cost: {tr_c4} (training), {ts_c4} (test)')\n",
    "print(f'Avg. fails: {tr_f4/len(tr_mcn)} (training), {ts_f4/len(ts_mcn)} (test)')\n",
    "print(f'Avg. slack: {tr_s4/len(tr_mcn):.2f} (training), {ts_s4/len(ts_mcn):.2f} (test)')"
   ]
  },
  {
   "cell_type": "markdown",
   "metadata": {},
   "source": [
    "* We are now on-par with the best regression based approaches!\n",
    "* Actual results may be slightly better or worse due to randomness"
   ]
  },
  {
   "cell_type": "markdown",
   "metadata": {
    "slideshow": {
     "slide_type": "subslide"
    }
   },
   "source": [
    "## Considerations\n",
    "\n",
    "**Why choosing a classification-based approach?**\n",
    "\n",
    "* In some cases, classification can be _easier_ than regression\n",
    "* The threshold affects training, which is computationally heavier\n",
    "* ...But it means that training can _adapt to the threshold_\n",
    "\n",
    "**We we tackle the prediction and cost optimization stages in isolation:**\n",
    "\n",
    "* The two stages are \"glued\" by the ML loss (MSE or cross-entropy)\n",
    "* ....But the loss does not penalize mistakes based on their (economic) cost!\n",
    "* Ideally, an end-to-end cost optimization approach should work better\n",
    "  \n",
    "**Bayesian/surrogate-based optimization can have many uses**\n",
    "\n",
    "* Hyper-parameter optimization\n",
    "* Fitting simulation models\n",
    "* Optimizing equipment setpoints (e.g. Air Conditioning), based on simulation\n",
    "* ..."
   ]
  }
 ],
 "metadata": {
  "kernelspec": {
   "display_name": "Python 3 (ipykernel)",
   "language": "python",
   "name": "python3"
  },
  "language_info": {
   "codemirror_mode": {
    "name": "ipython",
    "version": 3
   },
   "file_extension": ".py",
   "mimetype": "text/x-python",
   "name": "python",
   "nbconvert_exporter": "python",
   "pygments_lexer": "ipython3",
   "version": "3.8.10"
  },
  "rise": {
   "center": false,
   "transition": "fade"
  },
  "widgets": {
   "application/vnd.jupyter.widget-state+json": {
    "state": {
     "06290cb1a9304d3c9dde54251c7c7d9a": {
      "model_module": "@jupyter-widgets/base",
      "model_module_version": "1.2.0",
      "model_name": "LayoutModel",
      "state": {}
     },
     "0737cee58adb4af5a9bf06b28f4c35fb": {
      "model_module": "@jupyter-widgets/base",
      "model_module_version": "1.2.0",
      "model_name": "LayoutModel",
      "state": {}
     },
     "079abce2391c48c6a93aa7b192c9ed10": {
      "model_module": "@jupyter-widgets/base",
      "model_module_version": "1.2.0",
      "model_name": "LayoutModel",
      "state": {}
     },
     "07bf7a9e73284095bd597bc993368b64": {
      "model_module": "@jupyter-widgets/base",
      "model_module_version": "1.2.0",
      "model_name": "LayoutModel",
      "state": {}
     },
     "07fbf718d8324331947e5524f23aff38": {
      "model_module": "@jupyter-widgets/base",
      "model_module_version": "1.2.0",
      "model_name": "LayoutModel",
      "state": {}
     },
     "09e2aa1d237342c0ae2ab0ac41159330": {
      "model_module": "@jupyter-widgets/base",
      "model_module_version": "1.2.0",
      "model_name": "LayoutModel",
      "state": {}
     },
     "0aee9ce91cf74d4084fe29e98beb61e8": {
      "model_module": "jupyter-matplotlib",
      "model_module_version": "^0.7.4",
      "model_name": "ToolbarModel",
      "state": {
       "layout": "IPY_MODEL_8761b18adf0d4206b0a0a91ecdbde791",
       "toolitems": [
        [
         "Home",
         "Reset original view",
         "home",
         "home"
        ],
        [
         "Back",
         "Back to previous view",
         "arrow-left",
         "back"
        ],
        [
         "Forward",
         "Forward to next view",
         "arrow-right",
         "forward"
        ],
        [
         "Pan",
         "Left button pans, Right button zooms\nx/y fixes axis, CTRL fixes aspect",
         "arrows",
         "pan"
        ],
        [
         "Zoom",
         "Zoom to rectangle\nx/y fixes axis, CTRL fixes aspect",
         "square-o",
         "zoom"
        ],
        [
         "Download",
         "Download plot",
         "floppy-o",
         "save_figure"
        ]
       ]
      }
     },
     "0b1177e18f60419b96202af9750c2ef1": {
      "model_module": "jupyter-matplotlib",
      "model_module_version": "^0.7.4",
      "model_name": "ToolbarModel",
      "state": {
       "layout": "IPY_MODEL_64efabf0f704461bb18c32eea08620d5",
       "toolitems": [
        [
         "Home",
         "Reset original view",
         "home",
         "home"
        ],
        [
         "Back",
         "Back to previous view",
         "arrow-left",
         "back"
        ],
        [
         "Forward",
         "Forward to next view",
         "arrow-right",
         "forward"
        ],
        [
         "Pan",
         "Left button pans, Right button zooms\nx/y fixes axis, CTRL fixes aspect",
         "arrows",
         "pan"
        ],
        [
         "Zoom",
         "Zoom to rectangle\nx/y fixes axis, CTRL fixes aspect",
         "square-o",
         "zoom"
        ],
        [
         "Download",
         "Download plot",
         "floppy-o",
         "save_figure"
        ]
       ]
      }
     },
     "0df21221f4db463bae18cfc5a7b49b8b": {
      "model_module": "@jupyter-widgets/base",
      "model_module_version": "1.2.0",
      "model_name": "LayoutModel",
      "state": {}
     },
     "1019277ba97a4d84819e8f54d0d9a31d": {
      "model_module": "@jupyter-widgets/base",
      "model_module_version": "1.2.0",
      "model_name": "LayoutModel",
      "state": {}
     },
     "13082fcc85ee4214b166dde31cd2f5a4": {
      "model_module": "jupyter-matplotlib",
      "model_module_version": "^0.7.4",
      "model_name": "ToolbarModel",
      "state": {
       "layout": "IPY_MODEL_3f6277c7d9af4460813817c4ed8753a6",
       "toolitems": [
        [
         "Home",
         "Reset original view",
         "home",
         "home"
        ],
        [
         "Back",
         "Back to previous view",
         "arrow-left",
         "back"
        ],
        [
         "Forward",
         "Forward to next view",
         "arrow-right",
         "forward"
        ],
        [
         "Pan",
         "Left button pans, Right button zooms\nx/y fixes axis, CTRL fixes aspect",
         "arrows",
         "pan"
        ],
        [
         "Zoom",
         "Zoom to rectangle\nx/y fixes axis, CTRL fixes aspect",
         "square-o",
         "zoom"
        ],
        [
         "Download",
         "Download plot",
         "floppy-o",
         "save_figure"
        ]
       ]
      }
     },
     "1706ea834a82406284250c8615e7d1df": {
      "model_module": "@jupyter-widgets/base",
      "model_module_version": "1.2.0",
      "model_name": "LayoutModel",
      "state": {}
     },
     "1b66d0dec5f6444f9780fb30303b4712": {
      "model_module": "jupyter-matplotlib",
      "model_module_version": "^0.7.4",
      "model_name": "ToolbarModel",
      "state": {
       "layout": "IPY_MODEL_e21d92537b6f4e9aa5e1ff090814b18e",
       "toolitems": [
        [
         "Home",
         "Reset original view",
         "home",
         "home"
        ],
        [
         "Back",
         "Back to previous view",
         "arrow-left",
         "back"
        ],
        [
         "Forward",
         "Forward to next view",
         "arrow-right",
         "forward"
        ],
        [
         "Pan",
         "Left button pans, Right button zooms\nx/y fixes axis, CTRL fixes aspect",
         "arrows",
         "pan"
        ],
        [
         "Zoom",
         "Zoom to rectangle\nx/y fixes axis, CTRL fixes aspect",
         "square-o",
         "zoom"
        ],
        [
         "Download",
         "Download plot",
         "floppy-o",
         "save_figure"
        ]
       ]
      }
     },
     "1be2261994e648d8ba3ac848caad2c9b": {
      "model_module": "jupyter-matplotlib",
      "model_module_version": "^0.7.4",
      "model_name": "ToolbarModel",
      "state": {
       "layout": "IPY_MODEL_1fffe89218144448a6dc3a6b82da4675",
       "toolitems": [
        [
         "Home",
         "Reset original view",
         "home",
         "home"
        ],
        [
         "Back",
         "Back to previous view",
         "arrow-left",
         "back"
        ],
        [
         "Forward",
         "Forward to next view",
         "arrow-right",
         "forward"
        ],
        [
         "Pan",
         "Left button pans, Right button zooms\nx/y fixes axis, CTRL fixes aspect",
         "arrows",
         "pan"
        ],
        [
         "Zoom",
         "Zoom to rectangle\nx/y fixes axis, CTRL fixes aspect",
         "square-o",
         "zoom"
        ],
        [
         "Download",
         "Download plot",
         "floppy-o",
         "save_figure"
        ]
       ]
      }
     },
     "1d74246ac5844fe397b05d593f340e27": {
      "model_module": "@jupyter-widgets/base",
      "model_module_version": "1.2.0",
      "model_name": "LayoutModel",
      "state": {}
     },
     "1eee691f512a44489ac60af26449e8b3": {
      "model_module": "jupyter-matplotlib",
      "model_module_version": "^0.7.4",
      "model_name": "ToolbarModel",
      "state": {
       "layout": "IPY_MODEL_6a9e9a0a9516463081fb32b3879a6276",
       "toolitems": [
        [
         "Home",
         "Reset original view",
         "home",
         "home"
        ],
        [
         "Back",
         "Back to previous view",
         "arrow-left",
         "back"
        ],
        [
         "Forward",
         "Forward to next view",
         "arrow-right",
         "forward"
        ],
        [
         "Pan",
         "Left button pans, Right button zooms\nx/y fixes axis, CTRL fixes aspect",
         "arrows",
         "pan"
        ],
        [
         "Zoom",
         "Zoom to rectangle\nx/y fixes axis, CTRL fixes aspect",
         "square-o",
         "zoom"
        ],
        [
         "Download",
         "Download plot",
         "floppy-o",
         "save_figure"
        ]
       ]
      }
     },
     "1f26029e038e4e48a384732fc58e83ca": {
      "model_module": "jupyter-matplotlib",
      "model_module_version": "^0.7.4",
      "model_name": "ToolbarModel",
      "state": {
       "layout": "IPY_MODEL_079abce2391c48c6a93aa7b192c9ed10",
       "toolitems": [
        [
         "Home",
         "Reset original view",
         "home",
         "home"
        ],
        [
         "Back",
         "Back to previous view",
         "arrow-left",
         "back"
        ],
        [
         "Forward",
         "Forward to next view",
         "arrow-right",
         "forward"
        ],
        [
         "Pan",
         "Left button pans, Right button zooms\nx/y fixes axis, CTRL fixes aspect",
         "arrows",
         "pan"
        ],
        [
         "Zoom",
         "Zoom to rectangle\nx/y fixes axis, CTRL fixes aspect",
         "square-o",
         "zoom"
        ],
        [
         "Download",
         "Download plot",
         "floppy-o",
         "save_figure"
        ]
       ]
      }
     },
     "1fffe89218144448a6dc3a6b82da4675": {
      "model_module": "@jupyter-widgets/base",
      "model_module_version": "1.2.0",
      "model_name": "LayoutModel",
      "state": {}
     },
     "2274745890ab4b3e91a2228bfffc88dd": {
      "model_module": "@jupyter-widgets/base",
      "model_module_version": "1.2.0",
      "model_name": "LayoutModel",
      "state": {}
     },
     "229350b9cf06482d9f5a721852b1ba4b": {
      "model_module": "jupyter-matplotlib",
      "model_module_version": "^0.7.4",
      "model_name": "ToolbarModel",
      "state": {
       "layout": "IPY_MODEL_09e2aa1d237342c0ae2ab0ac41159330",
       "toolitems": [
        [
         "Home",
         "Reset original view",
         "home",
         "home"
        ],
        [
         "Back",
         "Back to previous view",
         "arrow-left",
         "back"
        ],
        [
         "Forward",
         "Forward to next view",
         "arrow-right",
         "forward"
        ],
        [
         "Pan",
         "Left button pans, Right button zooms\nx/y fixes axis, CTRL fixes aspect",
         "arrows",
         "pan"
        ],
        [
         "Zoom",
         "Zoom to rectangle\nx/y fixes axis, CTRL fixes aspect",
         "square-o",
         "zoom"
        ],
        [
         "Download",
         "Download plot",
         "floppy-o",
         "save_figure"
        ]
       ]
      }
     },
     "291b7015e9044671bf39a67ca6389dfe": {
      "model_module": "@jupyter-widgets/base",
      "model_module_version": "1.2.0",
      "model_name": "LayoutModel",
      "state": {}
     },
     "314452d062ce470787ddaa192c69c016": {
      "model_module": "jupyter-matplotlib",
      "model_module_version": "^0.7.4",
      "model_name": "ToolbarModel",
      "state": {
       "layout": "IPY_MODEL_b664640553b746a8b9d6739ae0a26c95",
       "toolitems": [
        [
         "Home",
         "Reset original view",
         "home",
         "home"
        ],
        [
         "Back",
         "Back to previous view",
         "arrow-left",
         "back"
        ],
        [
         "Forward",
         "Forward to next view",
         "arrow-right",
         "forward"
        ],
        [
         "Pan",
         "Left button pans, Right button zooms\nx/y fixes axis, CTRL fixes aspect",
         "arrows",
         "pan"
        ],
        [
         "Zoom",
         "Zoom to rectangle\nx/y fixes axis, CTRL fixes aspect",
         "square-o",
         "zoom"
        ],
        [
         "Download",
         "Download plot",
         "floppy-o",
         "save_figure"
        ]
       ]
      }
     },
     "335c8119184c4fd19a56ba59cedcbcf3": {
      "model_module": "@jupyter-widgets/base",
      "model_module_version": "1.2.0",
      "model_name": "LayoutModel",
      "state": {}
     },
     "34a26a00a6bf4133b9a830c94abfd361": {
      "model_module": "@jupyter-widgets/base",
      "model_module_version": "1.2.0",
      "model_name": "LayoutModel",
      "state": {}
     },
     "360772461880492e8b02f62293af97ae": {
      "model_module": "@jupyter-widgets/base",
      "model_module_version": "1.2.0",
      "model_name": "LayoutModel",
      "state": {}
     },
     "380811fb3f64458aadbedbfb2c9dcf5b": {
      "model_module": "@jupyter-widgets/base",
      "model_module_version": "1.2.0",
      "model_name": "LayoutModel",
      "state": {}
     },
     "39d1510862684200b5b4d73be1b639c0": {
      "model_module": "jupyter-matplotlib",
      "model_module_version": "^0.7.4",
      "model_name": "ToolbarModel",
      "state": {
       "layout": "IPY_MODEL_d92cdb9e72ad45ada0bbbd42aada6a87",
       "toolitems": [
        [
         "Home",
         "Reset original view",
         "home",
         "home"
        ],
        [
         "Back",
         "Back to previous view",
         "arrow-left",
         "back"
        ],
        [
         "Forward",
         "Forward to next view",
         "arrow-right",
         "forward"
        ],
        [
         "Pan",
         "Left button pans, Right button zooms\nx/y fixes axis, CTRL fixes aspect",
         "arrows",
         "pan"
        ],
        [
         "Zoom",
         "Zoom to rectangle\nx/y fixes axis, CTRL fixes aspect",
         "square-o",
         "zoom"
        ],
        [
         "Download",
         "Download plot",
         "floppy-o",
         "save_figure"
        ]
       ]
      }
     },
     "3a79d2c6f04d4a76bfb55751549c2ac4": {
      "model_module": "@jupyter-widgets/base",
      "model_module_version": "1.2.0",
      "model_name": "LayoutModel",
      "state": {}
     },
     "3f6277c7d9af4460813817c4ed8753a6": {
      "model_module": "@jupyter-widgets/base",
      "model_module_version": "1.2.0",
      "model_name": "LayoutModel",
      "state": {}
     },
     "3f97d12203d04608b608178900148023": {
      "model_module": "@jupyter-widgets/base",
      "model_module_version": "1.2.0",
      "model_name": "LayoutModel",
      "state": {}
     },
     "3fff0b78c08e48a0942ea5747e7c080e": {
      "model_module": "jupyter-matplotlib",
      "model_module_version": "^0.7.4",
      "model_name": "ToolbarModel",
      "state": {
       "layout": "IPY_MODEL_2274745890ab4b3e91a2228bfffc88dd",
       "toolitems": [
        [
         "Home",
         "Reset original view",
         "home",
         "home"
        ],
        [
         "Back",
         "Back to previous view",
         "arrow-left",
         "back"
        ],
        [
         "Forward",
         "Forward to next view",
         "arrow-right",
         "forward"
        ],
        [
         "Pan",
         "Left button pans, Right button zooms\nx/y fixes axis, CTRL fixes aspect",
         "arrows",
         "pan"
        ],
        [
         "Zoom",
         "Zoom to rectangle\nx/y fixes axis, CTRL fixes aspect",
         "square-o",
         "zoom"
        ],
        [
         "Download",
         "Download plot",
         "floppy-o",
         "save_figure"
        ]
       ]
      }
     },
     "42635b227bfe41e3887786f209065d42": {
      "model_module": "@jupyter-widgets/base",
      "model_module_version": "1.2.0",
      "model_name": "LayoutModel",
      "state": {}
     },
     "487ca934af214ef0ab1d078922642605": {
      "model_module": "jupyter-matplotlib",
      "model_module_version": "^0.7.4",
      "model_name": "ToolbarModel",
      "state": {
       "layout": "IPY_MODEL_42635b227bfe41e3887786f209065d42",
       "toolitems": [
        [
         "Home",
         "Reset original view",
         "home",
         "home"
        ],
        [
         "Back",
         "Back to previous view",
         "arrow-left",
         "back"
        ],
        [
         "Forward",
         "Forward to next view",
         "arrow-right",
         "forward"
        ],
        [
         "Pan",
         "Left button pans, Right button zooms\nx/y fixes axis, CTRL fixes aspect",
         "arrows",
         "pan"
        ],
        [
         "Zoom",
         "Zoom to rectangle\nx/y fixes axis, CTRL fixes aspect",
         "square-o",
         "zoom"
        ],
        [
         "Download",
         "Download plot",
         "floppy-o",
         "save_figure"
        ]
       ]
      }
     },
     "5044aab8d57945918d70c4878bf5cc15": {
      "model_module": "@jupyter-widgets/base",
      "model_module_version": "1.2.0",
      "model_name": "LayoutModel",
      "state": {}
     },
     "64efabf0f704461bb18c32eea08620d5": {
      "model_module": "@jupyter-widgets/base",
      "model_module_version": "1.2.0",
      "model_name": "LayoutModel",
      "state": {}
     },
     "66d9a18688f34eb9bdbfcd6d392b2767": {
      "model_module": "@jupyter-widgets/base",
      "model_module_version": "1.2.0",
      "model_name": "LayoutModel",
      "state": {}
     },
     "6a9e9a0a9516463081fb32b3879a6276": {
      "model_module": "@jupyter-widgets/base",
      "model_module_version": "1.2.0",
      "model_name": "LayoutModel",
      "state": {}
     },
     "6e29102162b24525a2e9f13b863f4e54": {
      "model_module": "@jupyter-widgets/base",
      "model_module_version": "1.2.0",
      "model_name": "LayoutModel",
      "state": {}
     },
     "71c18f3b3c154cd28bfb118834de1fe3": {
      "model_module": "@jupyter-widgets/base",
      "model_module_version": "1.2.0",
      "model_name": "LayoutModel",
      "state": {}
     },
     "7389fd9442824ae7987d4875541dd7f8": {
      "model_module": "@jupyter-widgets/base",
      "model_module_version": "1.2.0",
      "model_name": "LayoutModel",
      "state": {}
     },
     "813624fa6dad4a36bfb7db352fe6fb7e": {
      "model_module": "@jupyter-widgets/base",
      "model_module_version": "1.2.0",
      "model_name": "LayoutModel",
      "state": {}
     },
     "83a25cf56dc643fbabb17b70c4924ad7": {
      "model_module": "@jupyter-widgets/base",
      "model_module_version": "1.2.0",
      "model_name": "LayoutModel",
      "state": {}
     },
     "84706c86916b48ab8ccd7333fe712dbd": {
      "model_module": "@jupyter-widgets/base",
      "model_module_version": "1.2.0",
      "model_name": "LayoutModel",
      "state": {}
     },
     "86dc5aff63b54852802d321195e87583": {
      "model_module": "jupyter-matplotlib",
      "model_module_version": "^0.7.4",
      "model_name": "ToolbarModel",
      "state": {
       "layout": "IPY_MODEL_07fbf718d8324331947e5524f23aff38",
       "toolitems": [
        [
         "Home",
         "Reset original view",
         "home",
         "home"
        ],
        [
         "Back",
         "Back to previous view",
         "arrow-left",
         "back"
        ],
        [
         "Forward",
         "Forward to next view",
         "arrow-right",
         "forward"
        ],
        [
         "Pan",
         "Left button pans, Right button zooms\nx/y fixes axis, CTRL fixes aspect",
         "arrows",
         "pan"
        ],
        [
         "Zoom",
         "Zoom to rectangle\nx/y fixes axis, CTRL fixes aspect",
         "square-o",
         "zoom"
        ],
        [
         "Download",
         "Download plot",
         "floppy-o",
         "save_figure"
        ]
       ]
      }
     },
     "8761b18adf0d4206b0a0a91ecdbde791": {
      "model_module": "@jupyter-widgets/base",
      "model_module_version": "1.2.0",
      "model_name": "LayoutModel",
      "state": {}
     },
     "8a972870e6bf495e9fd6048a3befcefe": {
      "model_module": "jupyter-matplotlib",
      "model_module_version": "^0.7.4",
      "model_name": "ToolbarModel",
      "state": {
       "layout": "IPY_MODEL_ef8b37c9e82d48bdae1b8974ba0afcc3",
       "toolitems": [
        [
         "Home",
         "Reset original view",
         "home",
         "home"
        ],
        [
         "Back",
         "Back to previous view",
         "arrow-left",
         "back"
        ],
        [
         "Forward",
         "Forward to next view",
         "arrow-right",
         "forward"
        ],
        [
         "Pan",
         "Left button pans, Right button zooms\nx/y fixes axis, CTRL fixes aspect",
         "arrows",
         "pan"
        ],
        [
         "Zoom",
         "Zoom to rectangle\nx/y fixes axis, CTRL fixes aspect",
         "square-o",
         "zoom"
        ],
        [
         "Download",
         "Download plot",
         "floppy-o",
         "save_figure"
        ]
       ]
      }
     },
     "8b2dd33d93c5412ea8af679f1b466ab7": {
      "model_module": "@jupyter-widgets/base",
      "model_module_version": "1.2.0",
      "model_name": "LayoutModel",
      "state": {}
     },
     "8bb1d2b3c3e84adabf9ea5d89da22692": {
      "model_module": "@jupyter-widgets/base",
      "model_module_version": "1.2.0",
      "model_name": "LayoutModel",
      "state": {}
     },
     "918920a5d0db4d868a944265a35f6151": {
      "model_module": "jupyter-matplotlib",
      "model_module_version": "^0.7.4",
      "model_name": "ToolbarModel",
      "state": {
       "layout": "IPY_MODEL_d58f7e6fb1364622ab28d722c9428742",
       "toolitems": [
        [
         "Home",
         "Reset original view",
         "home",
         "home"
        ],
        [
         "Back",
         "Back to previous view",
         "arrow-left",
         "back"
        ],
        [
         "Forward",
         "Forward to next view",
         "arrow-right",
         "forward"
        ],
        [
         "Pan",
         "Left button pans, Right button zooms\nx/y fixes axis, CTRL fixes aspect",
         "arrows",
         "pan"
        ],
        [
         "Zoom",
         "Zoom to rectangle\nx/y fixes axis, CTRL fixes aspect",
         "square-o",
         "zoom"
        ],
        [
         "Download",
         "Download plot",
         "floppy-o",
         "save_figure"
        ]
       ]
      }
     },
     "92aac9b4fe7847fd8e14c3390a29852a": {
      "model_module": "@jupyter-widgets/base",
      "model_module_version": "1.2.0",
      "model_name": "LayoutModel",
      "state": {}
     },
     "961602b4e6584203ae7f8f369e0dba97": {
      "model_module": "jupyter-matplotlib",
      "model_module_version": "^0.7.4",
      "model_name": "ToolbarModel",
      "state": {
       "layout": "IPY_MODEL_360772461880492e8b02f62293af97ae",
       "toolitems": [
        [
         "Home",
         "Reset original view",
         "home",
         "home"
        ],
        [
         "Back",
         "Back to previous view",
         "arrow-left",
         "back"
        ],
        [
         "Forward",
         "Forward to next view",
         "arrow-right",
         "forward"
        ],
        [
         "Pan",
         "Left button pans, Right button zooms\nx/y fixes axis, CTRL fixes aspect",
         "arrows",
         "pan"
        ],
        [
         "Zoom",
         "Zoom to rectangle\nx/y fixes axis, CTRL fixes aspect",
         "square-o",
         "zoom"
        ],
        [
         "Download",
         "Download plot",
         "floppy-o",
         "save_figure"
        ]
       ]
      }
     },
     "9ac74fbb906346a6809feefd89963ac3": {
      "model_module": "@jupyter-widgets/base",
      "model_module_version": "1.2.0",
      "model_name": "LayoutModel",
      "state": {}
     },
     "9d46c05d9e74406681af09e4a79c60d9": {
      "model_module": "jupyter-matplotlib",
      "model_module_version": "^0.7.4",
      "model_name": "ToolbarModel",
      "state": {
       "layout": "IPY_MODEL_380811fb3f64458aadbedbfb2c9dcf5b",
       "toolitems": [
        [
         "Home",
         "Reset original view",
         "home",
         "home"
        ],
        [
         "Back",
         "Back to previous view",
         "arrow-left",
         "back"
        ],
        [
         "Forward",
         "Forward to next view",
         "arrow-right",
         "forward"
        ],
        [
         "Pan",
         "Left button pans, Right button zooms\nx/y fixes axis, CTRL fixes aspect",
         "arrows",
         "pan"
        ],
        [
         "Zoom",
         "Zoom to rectangle\nx/y fixes axis, CTRL fixes aspect",
         "square-o",
         "zoom"
        ],
        [
         "Download",
         "Download plot",
         "floppy-o",
         "save_figure"
        ]
       ]
      }
     },
     "9d736c50c52a45928c788f36b787fbd5": {
      "model_module": "@jupyter-widgets/base",
      "model_module_version": "1.2.0",
      "model_name": "LayoutModel",
      "state": {}
     },
     "9fbb768690af4e06bfcda045a35ec804": {
      "model_module": "jupyter-matplotlib",
      "model_module_version": "^0.7.4",
      "model_name": "ToolbarModel",
      "state": {
       "layout": "IPY_MODEL_1d74246ac5844fe397b05d593f340e27",
       "toolitems": [
        [
         "Home",
         "Reset original view",
         "home",
         "home"
        ],
        [
         "Back",
         "Back to previous view",
         "arrow-left",
         "back"
        ],
        [
         "Forward",
         "Forward to next view",
         "arrow-right",
         "forward"
        ],
        [
         "Pan",
         "Left button pans, Right button zooms\nx/y fixes axis, CTRL fixes aspect",
         "arrows",
         "pan"
        ],
        [
         "Zoom",
         "Zoom to rectangle\nx/y fixes axis, CTRL fixes aspect",
         "square-o",
         "zoom"
        ],
        [
         "Download",
         "Download plot",
         "floppy-o",
         "save_figure"
        ]
       ]
      }
     },
     "a0796cdab0f74240885f95a48d3a1842": {
      "model_module": "@jupyter-widgets/base",
      "model_module_version": "1.2.0",
      "model_name": "LayoutModel",
      "state": {}
     },
     "a3ac8f5033bb4e3ab229c14ba8816959": {
      "model_module": "@jupyter-widgets/base",
      "model_module_version": "1.2.0",
      "model_name": "LayoutModel",
      "state": {}
     },
     "a66ed789d266490f9ad391b078138567": {
      "model_module": "@jupyter-widgets/base",
      "model_module_version": "1.2.0",
      "model_name": "LayoutModel",
      "state": {}
     },
     "ab1fccd9ae2c4e9083526687dd20607f": {
      "model_module": "jupyter-matplotlib",
      "model_module_version": "^0.7.4",
      "model_name": "ToolbarModel",
      "state": {
       "layout": "IPY_MODEL_9d736c50c52a45928c788f36b787fbd5",
       "toolitems": [
        [
         "Home",
         "Reset original view",
         "home",
         "home"
        ],
        [
         "Back",
         "Back to previous view",
         "arrow-left",
         "back"
        ],
        [
         "Forward",
         "Forward to next view",
         "arrow-right",
         "forward"
        ],
        [
         "Pan",
         "Left button pans, Right button zooms\nx/y fixes axis, CTRL fixes aspect",
         "arrows",
         "pan"
        ],
        [
         "Zoom",
         "Zoom to rectangle\nx/y fixes axis, CTRL fixes aspect",
         "square-o",
         "zoom"
        ],
        [
         "Download",
         "Download plot",
         "floppy-o",
         "save_figure"
        ]
       ]
      }
     },
     "ad6b85d71b9f4878a5fdd743b6f4445b": {
      "model_module": "@jupyter-widgets/base",
      "model_module_version": "1.2.0",
      "model_name": "LayoutModel",
      "state": {}
     },
     "ae3cad8507d64de8893814e858912bec": {
      "model_module": "@jupyter-widgets/base",
      "model_module_version": "1.2.0",
      "model_name": "LayoutModel",
      "state": {}
     },
     "b17db0d08d05449bacd16df3262e7884": {
      "model_module": "@jupyter-widgets/base",
      "model_module_version": "1.2.0",
      "model_name": "LayoutModel",
      "state": {}
     },
     "b25912c52f1941d3bfa03082dd2fd9de": {
      "model_module": "@jupyter-widgets/base",
      "model_module_version": "1.2.0",
      "model_name": "LayoutModel",
      "state": {}
     },
     "b37e39738375422abad75cec1a6aecb3": {
      "model_module": "jupyter-matplotlib",
      "model_module_version": "^0.7.4",
      "model_name": "ToolbarModel",
      "state": {
       "layout": "IPY_MODEL_a0796cdab0f74240885f95a48d3a1842",
       "toolitems": [
        [
         "Home",
         "Reset original view",
         "home",
         "home"
        ],
        [
         "Back",
         "Back to previous view",
         "arrow-left",
         "back"
        ],
        [
         "Forward",
         "Forward to next view",
         "arrow-right",
         "forward"
        ],
        [
         "Pan",
         "Left button pans, Right button zooms\nx/y fixes axis, CTRL fixes aspect",
         "arrows",
         "pan"
        ],
        [
         "Zoom",
         "Zoom to rectangle\nx/y fixes axis, CTRL fixes aspect",
         "square-o",
         "zoom"
        ],
        [
         "Download",
         "Download plot",
         "floppy-o",
         "save_figure"
        ]
       ]
      }
     },
     "b664640553b746a8b9d6739ae0a26c95": {
      "model_module": "@jupyter-widgets/base",
      "model_module_version": "1.2.0",
      "model_name": "LayoutModel",
      "state": {}
     },
     "bb1a648c252c492bb2027fe647afdaf4": {
      "model_module": "@jupyter-widgets/base",
      "model_module_version": "1.2.0",
      "model_name": "LayoutModel",
      "state": {}
     },
     "bb31a77fa20e49d5bfb01a1398b3d594": {
      "model_module": "@jupyter-widgets/base",
      "model_module_version": "1.2.0",
      "model_name": "LayoutModel",
      "state": {}
     },
     "c0aac08ffe984bbca90a2fc4cda6e909": {
      "model_module": "@jupyter-widgets/base",
      "model_module_version": "1.2.0",
      "model_name": "LayoutModel",
      "state": {}
     },
     "c1d1c31a64ad4bf2a08f12eef34527c4": {
      "model_module": "jupyter-matplotlib",
      "model_module_version": "^0.7.4",
      "model_name": "ToolbarModel",
      "state": {
       "layout": "IPY_MODEL_fde025563a9d469986a28eeec4e6e243",
       "toolitems": [
        [
         "Home",
         "Reset original view",
         "home",
         "home"
        ],
        [
         "Back",
         "Back to previous view",
         "arrow-left",
         "back"
        ],
        [
         "Forward",
         "Forward to next view",
         "arrow-right",
         "forward"
        ],
        [
         "Pan",
         "Left button pans, Right button zooms\nx/y fixes axis, CTRL fixes aspect",
         "arrows",
         "pan"
        ],
        [
         "Zoom",
         "Zoom to rectangle\nx/y fixes axis, CTRL fixes aspect",
         "square-o",
         "zoom"
        ],
        [
         "Download",
         "Download plot",
         "floppy-o",
         "save_figure"
        ]
       ]
      }
     },
     "c80332caa7904bb7b0daa4c19f351530": {
      "model_module": "@jupyter-widgets/base",
      "model_module_version": "1.2.0",
      "model_name": "LayoutModel",
      "state": {}
     },
     "c88bc1d9e483462f97858ab23ea78cfe": {
      "model_module": "jupyter-matplotlib",
      "model_module_version": "^0.7.4",
      "model_name": "ToolbarModel",
      "state": {
       "layout": "IPY_MODEL_bb1a648c252c492bb2027fe647afdaf4",
       "toolitems": [
        [
         "Home",
         "Reset original view",
         "home",
         "home"
        ],
        [
         "Back",
         "Back to previous view",
         "arrow-left",
         "back"
        ],
        [
         "Forward",
         "Forward to next view",
         "arrow-right",
         "forward"
        ],
        [
         "Pan",
         "Left button pans, Right button zooms\nx/y fixes axis, CTRL fixes aspect",
         "arrows",
         "pan"
        ],
        [
         "Zoom",
         "Zoom to rectangle\nx/y fixes axis, CTRL fixes aspect",
         "square-o",
         "zoom"
        ],
        [
         "Download",
         "Download plot",
         "floppy-o",
         "save_figure"
        ]
       ]
      }
     },
     "cbd95a893d764c0caadd5fb00b42f332": {
      "model_module": "@jupyter-widgets/base",
      "model_module_version": "1.2.0",
      "model_name": "LayoutModel",
      "state": {}
     },
     "cd58f3c1a4cd4b2bb4eecaf430fb3629": {
      "model_module": "jupyter-matplotlib",
      "model_module_version": "^0.7.4",
      "model_name": "ToolbarModel",
      "state": {
       "layout": "IPY_MODEL_84706c86916b48ab8ccd7333fe712dbd",
       "toolitems": [
        [
         "Home",
         "Reset original view",
         "home",
         "home"
        ],
        [
         "Back",
         "Back to previous view",
         "arrow-left",
         "back"
        ],
        [
         "Forward",
         "Forward to next view",
         "arrow-right",
         "forward"
        ],
        [
         "Pan",
         "Left button pans, Right button zooms\nx/y fixes axis, CTRL fixes aspect",
         "arrows",
         "pan"
        ],
        [
         "Zoom",
         "Zoom to rectangle\nx/y fixes axis, CTRL fixes aspect",
         "square-o",
         "zoom"
        ],
        [
         "Download",
         "Download plot",
         "floppy-o",
         "save_figure"
        ]
       ]
      }
     },
     "d1426b934ad34284b0cf6495faf1f050": {
      "model_module": "jupyter-matplotlib",
      "model_module_version": "^0.7.4",
      "model_name": "ToolbarModel",
      "state": {
       "layout": "IPY_MODEL_0737cee58adb4af5a9bf06b28f4c35fb",
       "toolitems": [
        [
         "Home",
         "Reset original view",
         "home",
         "home"
        ],
        [
         "Back",
         "Back to previous view",
         "arrow-left",
         "back"
        ],
        [
         "Forward",
         "Forward to next view",
         "arrow-right",
         "forward"
        ],
        [
         "Pan",
         "Left button pans, Right button zooms\nx/y fixes axis, CTRL fixes aspect",
         "arrows",
         "pan"
        ],
        [
         "Zoom",
         "Zoom to rectangle\nx/y fixes axis, CTRL fixes aspect",
         "square-o",
         "zoom"
        ],
        [
         "Download",
         "Download plot",
         "floppy-o",
         "save_figure"
        ]
       ]
      }
     },
     "d58f7e6fb1364622ab28d722c9428742": {
      "model_module": "@jupyter-widgets/base",
      "model_module_version": "1.2.0",
      "model_name": "LayoutModel",
      "state": {}
     },
     "d92cdb9e72ad45ada0bbbd42aada6a87": {
      "model_module": "@jupyter-widgets/base",
      "model_module_version": "1.2.0",
      "model_name": "LayoutModel",
      "state": {}
     },
     "dafd389f304a40e1ad62cd0d4930853f": {
      "model_module": "jupyter-matplotlib",
      "model_module_version": "^0.7.4",
      "model_name": "ToolbarModel",
      "state": {
       "layout": "IPY_MODEL_8b2dd33d93c5412ea8af679f1b466ab7",
       "toolitems": [
        [
         "Home",
         "Reset original view",
         "home",
         "home"
        ],
        [
         "Back",
         "Back to previous view",
         "arrow-left",
         "back"
        ],
        [
         "Forward",
         "Forward to next view",
         "arrow-right",
         "forward"
        ],
        [
         "Pan",
         "Left button pans, Right button zooms\nx/y fixes axis, CTRL fixes aspect",
         "arrows",
         "pan"
        ],
        [
         "Zoom",
         "Zoom to rectangle\nx/y fixes axis, CTRL fixes aspect",
         "square-o",
         "zoom"
        ],
        [
         "Download",
         "Download plot",
         "floppy-o",
         "save_figure"
        ]
       ]
      }
     },
     "de22985e561f40f3a4d8589bfa4fdbd0": {
      "model_module": "jupyter-matplotlib",
      "model_module_version": "^0.7.4",
      "model_name": "ToolbarModel",
      "state": {
       "layout": "IPY_MODEL_cbd95a893d764c0caadd5fb00b42f332",
       "toolitems": [
        [
         "Home",
         "Reset original view",
         "home",
         "home"
        ],
        [
         "Back",
         "Back to previous view",
         "arrow-left",
         "back"
        ],
        [
         "Forward",
         "Forward to next view",
         "arrow-right",
         "forward"
        ],
        [
         "Pan",
         "Left button pans, Right button zooms\nx/y fixes axis, CTRL fixes aspect",
         "arrows",
         "pan"
        ],
        [
         "Zoom",
         "Zoom to rectangle\nx/y fixes axis, CTRL fixes aspect",
         "square-o",
         "zoom"
        ],
        [
         "Download",
         "Download plot",
         "floppy-o",
         "save_figure"
        ]
       ]
      }
     },
     "e11ca77e427a4ac8a2cc027c4706ee05": {
      "model_module": "jupyter-matplotlib",
      "model_module_version": "^0.7.4",
      "model_name": "ToolbarModel",
      "state": {
       "layout": "IPY_MODEL_1706ea834a82406284250c8615e7d1df",
       "toolitems": [
        [
         "Home",
         "Reset original view",
         "home",
         "home"
        ],
        [
         "Back",
         "Back to previous view",
         "arrow-left",
         "back"
        ],
        [
         "Forward",
         "Forward to next view",
         "arrow-right",
         "forward"
        ],
        [
         "Pan",
         "Left button pans, Right button zooms\nx/y fixes axis, CTRL fixes aspect",
         "arrows",
         "pan"
        ],
        [
         "Zoom",
         "Zoom to rectangle\nx/y fixes axis, CTRL fixes aspect",
         "square-o",
         "zoom"
        ],
        [
         "Download",
         "Download plot",
         "floppy-o",
         "save_figure"
        ]
       ]
      }
     },
     "e21d92537b6f4e9aa5e1ff090814b18e": {
      "model_module": "@jupyter-widgets/base",
      "model_module_version": "1.2.0",
      "model_name": "LayoutModel",
      "state": {}
     },
     "ec2d0f57184647c6a22536cf8a3401f2": {
      "model_module": "jupyter-matplotlib",
      "model_module_version": "^0.7.4",
      "model_name": "ToolbarModel",
      "state": {
       "layout": "IPY_MODEL_71c18f3b3c154cd28bfb118834de1fe3",
       "toolitems": [
        [
         "Home",
         "Reset original view",
         "home",
         "home"
        ],
        [
         "Back",
         "Back to previous view",
         "arrow-left",
         "back"
        ],
        [
         "Forward",
         "Forward to next view",
         "arrow-right",
         "forward"
        ],
        [
         "Pan",
         "Left button pans, Right button zooms\nx/y fixes axis, CTRL fixes aspect",
         "arrows",
         "pan"
        ],
        [
         "Zoom",
         "Zoom to rectangle\nx/y fixes axis, CTRL fixes aspect",
         "square-o",
         "zoom"
        ],
        [
         "Download",
         "Download plot",
         "floppy-o",
         "save_figure"
        ]
       ]
      }
     },
     "ef8b37c9e82d48bdae1b8974ba0afcc3": {
      "model_module": "@jupyter-widgets/base",
      "model_module_version": "1.2.0",
      "model_name": "LayoutModel",
      "state": {}
     },
     "efee5bbcaae54041925d3c68a413aa94": {
      "model_module": "@jupyter-widgets/base",
      "model_module_version": "1.2.0",
      "model_name": "LayoutModel",
      "state": {}
     },
     "f69944bb41474b55bb991b827765666b": {
      "model_module": "@jupyter-widgets/base",
      "model_module_version": "1.2.0",
      "model_name": "LayoutModel",
      "state": {}
     },
     "f6a73b40958c47458daa2563c3e6c056": {
      "model_module": "jupyter-matplotlib",
      "model_module_version": "^0.7.4",
      "model_name": "ToolbarModel",
      "state": {
       "layout": "IPY_MODEL_c0aac08ffe984bbca90a2fc4cda6e909",
       "toolitems": [
        [
         "Home",
         "Reset original view",
         "home",
         "home"
        ],
        [
         "Back",
         "Back to previous view",
         "arrow-left",
         "back"
        ],
        [
         "Forward",
         "Forward to next view",
         "arrow-right",
         "forward"
        ],
        [
         "Pan",
         "Left button pans, Right button zooms\nx/y fixes axis, CTRL fixes aspect",
         "arrows",
         "pan"
        ],
        [
         "Zoom",
         "Zoom to rectangle\nx/y fixes axis, CTRL fixes aspect",
         "square-o",
         "zoom"
        ],
        [
         "Download",
         "Download plot",
         "floppy-o",
         "save_figure"
        ]
       ]
      }
     },
     "fde025563a9d469986a28eeec4e6e243": {
      "model_module": "@jupyter-widgets/base",
      "model_module_version": "1.2.0",
      "model_name": "LayoutModel",
      "state": {}
     },
     "ffef0677bfc44cadabce7e07757d6252": {
      "model_module": "@jupyter-widgets/base",
      "model_module_version": "1.2.0",
      "model_name": "LayoutModel",
      "state": {}
     }
    },
    "version_major": 2,
    "version_minor": 0
   }
  }
 },
 "nbformat": 4,
 "nbformat_minor": 4
}
