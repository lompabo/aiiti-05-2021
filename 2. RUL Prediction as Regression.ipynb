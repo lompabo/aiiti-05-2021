{
 "cells": [
  {
   "cell_type": "code",
   "execution_count": 2,
   "metadata": {
    "slideshow": {
     "slide_type": "skip"
    }
   },
   "outputs": [
    {
     "name": "stdout",
     "output_type": "stream",
     "text": [
      "The autoreload extension is already loaded. To reload it, use:\n",
      "  %reload_ext autoreload\n"
     ]
    }
   ],
   "source": [
    "# ============================================================\n",
    "# Notebook setup\n",
    "# ============================================================\n",
    "\n",
    "%load_ext autoreload\n",
    "%autoreload 2\n",
    "\n",
    "# Control figure size\n",
    "interactive_figures = False\n",
    "if interactive_figures:\n",
    "    # Normal behavior\n",
    "    %matplotlib widget\n",
    "    figsize=(9, 3)\n",
    "else:\n",
    "    # PDF export behavior\n",
    "    figsize=(14, 5)\n",
    "\n",
    "from util import cmapss\n",
    "import numpy as np\n",
    "from matplotlib import pyplot as plt\n",
    "import pandas as pd\n",
    "from tensorflow import keras\n",
    "from tensorflow.keras import layers, callbacks\n",
    "from tensorflow_probability import distributions\n",
    "from sklearn.metrics import r2_score\n",
    "\n",
    "# Load data\n",
    "data_folder = 'data'\n",
    "data = cmapss.load_data(data_folder)\n",
    "\n",
    "# Identify input columns\n",
    "dt_in = list(data.columns[3:-1])"
   ]
  },
  {
   "cell_type": "markdown",
   "metadata": {
    "slideshow": {
     "slide_type": "slide"
    }
   },
   "source": [
    "# RUL Prediction as Regression"
   ]
  },
  {
   "cell_type": "markdown",
   "metadata": {
    "slideshow": {
     "slide_type": "subslide"
    }
   },
   "source": [
    "## RUL Prediction as Regression\n",
    "\n",
    "**Let's start from _the most straightforward formulation_ of a RUL problem**\n",
    "\n",
    "* We will predict the RUL using a regression approach\n",
    "* ...And trigger maintenance when the estimated RUL becomes too low, i.e.:\n",
    "\n",
    "$$\n",
    "f(x, \\lambda) < \\theta\n",
    "$$\n",
    "\n",
    "* $f$ is the regressor, with parameter vector $\\lambda$\n",
    "* The threshold $\\theta$ must account for possible estimation errors"
   ]
  },
  {
   "cell_type": "markdown",
   "metadata": {},
   "source": [
    "**We will focus on the hardest of the four datasets (to reduce training times):**"
   ]
  },
  {
   "cell_type": "code",
   "execution_count": 3,
   "metadata": {},
   "outputs": [],
   "source": [
    "data_by_src = cmapss.split_by_field(data, field='src')\n",
    "dt = data_by_src['train_FD004']"
   ]
  },
  {
   "cell_type": "markdown",
   "metadata": {
    "slideshow": {
     "slide_type": "subslide"
    }
   },
   "source": [
    "## Training and Test Data\n",
    "\n",
    "**We now need to define our training and test data**\n",
    "\n",
    "In a practical setting:\n",
    "\n",
    "* Some run-to-failure experiments will form the training set\n",
    "* Others run-to-failure experiments will be used for testing\n",
    "\n",
    "I.e. we split _whole experiments_ rather than individual examples! "
   ]
  },
  {
   "cell_type": "markdown",
   "metadata": {},
   "source": [
    "**Each run-to-failure experiment in our data is associated to a machine**\n",
    "\n",
    "Let's check how many we have:"
   ]
  },
  {
   "cell_type": "code",
   "execution_count": 4,
   "metadata": {},
   "outputs": [
    {
     "name": "stdout",
     "output_type": "stream",
     "text": [
      "Number of machines: 249\n"
     ]
    }
   ],
   "source": [
    "print(f'Number of machines: {len(dt.machine.unique())}')"
   ]
  },
  {
   "cell_type": "markdown",
   "metadata": {},
   "source": [
    "* This is actually a very large number\n",
    "* In most practical setting, _much fewer_ experiments will be available"
   ]
  },
  {
   "cell_type": "markdown",
   "metadata": {
    "slideshow": {
     "slide_type": "subslide"
    }
   },
   "source": [
    "## Training and Test Data\n",
    "\n",
    "**Let's use 75% of the machine for training, the rest for testing**\n",
    "\n",
    "First, we partition the machine indexes:"
   ]
  },
  {
   "cell_type": "code",
   "execution_count": 5,
   "metadata": {},
   "outputs": [],
   "source": [
    "tr_ratio = 0.75\n",
    "np.random.seed(42)\n",
    "machines = dt.machine.unique()\n",
    "np.random.shuffle(machines)\n",
    "\n",
    "sep = int(tr_ratio * len(machines))\n",
    "tr_mcn = machines[:sep]\n",
    "ts_mcn = machines[sep:]"
   ]
  },
  {
   "cell_type": "markdown",
   "metadata": {},
   "source": [
    "Then, we partition the dataset itself (via a helper function):"
   ]
  },
  {
   "cell_type": "code",
   "execution_count": 6,
   "metadata": {},
   "outputs": [],
   "source": [
    "tr, ts = cmapss.partition_by_machine(dt, tr_mcn)"
   ]
  },
  {
   "cell_type": "markdown",
   "metadata": {
    "slideshow": {
     "slide_type": "subslide"
    }
   },
   "source": [
    "## Training and Test Data\n",
    "\n",
    "**Let's have a look at the training data**"
   ]
  },
  {
   "cell_type": "code",
   "execution_count": 7,
   "metadata": {},
   "outputs": [
    {
     "data": {
      "text/html": [
       "<div>\n",
       "<style scoped>\n",
       "    .dataframe tbody tr th:only-of-type {\n",
       "        vertical-align: middle;\n",
       "    }\n",
       "\n",
       "    .dataframe tbody tr th {\n",
       "        vertical-align: top;\n",
       "    }\n",
       "\n",
       "    .dataframe thead th {\n",
       "        text-align: right;\n",
       "    }\n",
       "</style>\n",
       "<table border=\"1\" class=\"dataframe\">\n",
       "  <thead>\n",
       "    <tr style=\"text-align: right;\">\n",
       "      <th></th>\n",
       "      <th>src</th>\n",
       "      <th>machine</th>\n",
       "      <th>cycle</th>\n",
       "      <th>p1</th>\n",
       "      <th>p2</th>\n",
       "      <th>p3</th>\n",
       "      <th>s1</th>\n",
       "      <th>s2</th>\n",
       "      <th>s3</th>\n",
       "      <th>s4</th>\n",
       "      <th>...</th>\n",
       "      <th>s13</th>\n",
       "      <th>s14</th>\n",
       "      <th>s15</th>\n",
       "      <th>s16</th>\n",
       "      <th>s17</th>\n",
       "      <th>s18</th>\n",
       "      <th>s19</th>\n",
       "      <th>s20</th>\n",
       "      <th>s21</th>\n",
       "      <th>rul</th>\n",
       "    </tr>\n",
       "  </thead>\n",
       "  <tbody>\n",
       "    <tr>\n",
       "      <th>0</th>\n",
       "      <td>train_FD004</td>\n",
       "      <td>461</td>\n",
       "      <td>1</td>\n",
       "      <td>42.0049</td>\n",
       "      <td>0.8400</td>\n",
       "      <td>100.0</td>\n",
       "      <td>445.00</td>\n",
       "      <td>549.68</td>\n",
       "      <td>1343.43</td>\n",
       "      <td>1112.93</td>\n",
       "      <td>...</td>\n",
       "      <td>2387.99</td>\n",
       "      <td>8074.83</td>\n",
       "      <td>9.3335</td>\n",
       "      <td>0.02</td>\n",
       "      <td>330</td>\n",
       "      <td>2212</td>\n",
       "      <td>100.00</td>\n",
       "      <td>10.62</td>\n",
       "      <td>6.3670</td>\n",
       "      <td>320</td>\n",
       "    </tr>\n",
       "    <tr>\n",
       "      <th>1</th>\n",
       "      <td>train_FD004</td>\n",
       "      <td>461</td>\n",
       "      <td>2</td>\n",
       "      <td>20.0020</td>\n",
       "      <td>0.7002</td>\n",
       "      <td>100.0</td>\n",
       "      <td>491.19</td>\n",
       "      <td>606.07</td>\n",
       "      <td>1477.61</td>\n",
       "      <td>1237.50</td>\n",
       "      <td>...</td>\n",
       "      <td>2387.73</td>\n",
       "      <td>8046.13</td>\n",
       "      <td>9.1913</td>\n",
       "      <td>0.02</td>\n",
       "      <td>361</td>\n",
       "      <td>2324</td>\n",
       "      <td>100.00</td>\n",
       "      <td>24.37</td>\n",
       "      <td>14.6552</td>\n",
       "      <td>319</td>\n",
       "    </tr>\n",
       "    <tr>\n",
       "      <th>2</th>\n",
       "      <td>train_FD004</td>\n",
       "      <td>461</td>\n",
       "      <td>3</td>\n",
       "      <td>42.0038</td>\n",
       "      <td>0.8409</td>\n",
       "      <td>100.0</td>\n",
       "      <td>445.00</td>\n",
       "      <td>548.95</td>\n",
       "      <td>1343.12</td>\n",
       "      <td>1117.05</td>\n",
       "      <td>...</td>\n",
       "      <td>2387.97</td>\n",
       "      <td>8066.62</td>\n",
       "      <td>9.4007</td>\n",
       "      <td>0.02</td>\n",
       "      <td>329</td>\n",
       "      <td>2212</td>\n",
       "      <td>100.00</td>\n",
       "      <td>10.48</td>\n",
       "      <td>6.4213</td>\n",
       "      <td>318</td>\n",
       "    </tr>\n",
       "    <tr>\n",
       "      <th>3</th>\n",
       "      <td>train_FD004</td>\n",
       "      <td>461</td>\n",
       "      <td>4</td>\n",
       "      <td>42.0000</td>\n",
       "      <td>0.8400</td>\n",
       "      <td>100.0</td>\n",
       "      <td>445.00</td>\n",
       "      <td>548.70</td>\n",
       "      <td>1341.24</td>\n",
       "      <td>1118.03</td>\n",
       "      <td>...</td>\n",
       "      <td>2388.02</td>\n",
       "      <td>8076.05</td>\n",
       "      <td>9.3369</td>\n",
       "      <td>0.02</td>\n",
       "      <td>328</td>\n",
       "      <td>2212</td>\n",
       "      <td>100.00</td>\n",
       "      <td>10.54</td>\n",
       "      <td>6.4176</td>\n",
       "      <td>317</td>\n",
       "    </tr>\n",
       "    <tr>\n",
       "      <th>4</th>\n",
       "      <td>train_FD004</td>\n",
       "      <td>461</td>\n",
       "      <td>5</td>\n",
       "      <td>25.0063</td>\n",
       "      <td>0.6207</td>\n",
       "      <td>60.0</td>\n",
       "      <td>462.54</td>\n",
       "      <td>536.10</td>\n",
       "      <td>1255.23</td>\n",
       "      <td>1033.59</td>\n",
       "      <td>...</td>\n",
       "      <td>2028.08</td>\n",
       "      <td>7865.80</td>\n",
       "      <td>10.8366</td>\n",
       "      <td>0.02</td>\n",
       "      <td>305</td>\n",
       "      <td>1915</td>\n",
       "      <td>84.93</td>\n",
       "      <td>14.03</td>\n",
       "      <td>8.6754</td>\n",
       "      <td>316</td>\n",
       "    </tr>\n",
       "    <tr>\n",
       "      <th>...</th>\n",
       "      <td>...</td>\n",
       "      <td>...</td>\n",
       "      <td>...</td>\n",
       "      <td>...</td>\n",
       "      <td>...</td>\n",
       "      <td>...</td>\n",
       "      <td>...</td>\n",
       "      <td>...</td>\n",
       "      <td>...</td>\n",
       "      <td>...</td>\n",
       "      <td>...</td>\n",
       "      <td>...</td>\n",
       "      <td>...</td>\n",
       "      <td>...</td>\n",
       "      <td>...</td>\n",
       "      <td>...</td>\n",
       "      <td>...</td>\n",
       "      <td>...</td>\n",
       "      <td>...</td>\n",
       "      <td>...</td>\n",
       "      <td>...</td>\n",
       "    </tr>\n",
       "    <tr>\n",
       "      <th>60989</th>\n",
       "      <td>train_FD004</td>\n",
       "      <td>708</td>\n",
       "      <td>180</td>\n",
       "      <td>35.0019</td>\n",
       "      <td>0.8409</td>\n",
       "      <td>100.0</td>\n",
       "      <td>449.44</td>\n",
       "      <td>556.28</td>\n",
       "      <td>1377.65</td>\n",
       "      <td>1148.96</td>\n",
       "      <td>...</td>\n",
       "      <td>2387.77</td>\n",
       "      <td>8048.91</td>\n",
       "      <td>9.4169</td>\n",
       "      <td>0.02</td>\n",
       "      <td>337</td>\n",
       "      <td>2223</td>\n",
       "      <td>100.00</td>\n",
       "      <td>14.66</td>\n",
       "      <td>8.7446</td>\n",
       "      <td>4</td>\n",
       "    </tr>\n",
       "    <tr>\n",
       "      <th>60990</th>\n",
       "      <td>train_FD004</td>\n",
       "      <td>708</td>\n",
       "      <td>181</td>\n",
       "      <td>0.0023</td>\n",
       "      <td>0.0000</td>\n",
       "      <td>100.0</td>\n",
       "      <td>518.67</td>\n",
       "      <td>643.95</td>\n",
       "      <td>1602.98</td>\n",
       "      <td>1429.57</td>\n",
       "      <td>...</td>\n",
       "      <td>2388.27</td>\n",
       "      <td>8122.44</td>\n",
       "      <td>8.5242</td>\n",
       "      <td>0.03</td>\n",
       "      <td>396</td>\n",
       "      <td>2388</td>\n",
       "      <td>100.00</td>\n",
       "      <td>38.40</td>\n",
       "      <td>23.1079</td>\n",
       "      <td>3</td>\n",
       "    </tr>\n",
       "    <tr>\n",
       "      <th>60991</th>\n",
       "      <td>train_FD004</td>\n",
       "      <td>708</td>\n",
       "      <td>182</td>\n",
       "      <td>25.0030</td>\n",
       "      <td>0.6200</td>\n",
       "      <td>60.0</td>\n",
       "      <td>462.54</td>\n",
       "      <td>536.88</td>\n",
       "      <td>1268.01</td>\n",
       "      <td>1067.09</td>\n",
       "      <td>...</td>\n",
       "      <td>2027.98</td>\n",
       "      <td>7865.18</td>\n",
       "      <td>10.9790</td>\n",
       "      <td>0.02</td>\n",
       "      <td>309</td>\n",
       "      <td>1915</td>\n",
       "      <td>84.93</td>\n",
       "      <td>14.24</td>\n",
       "      <td>8.4254</td>\n",
       "      <td>2</td>\n",
       "    </tr>\n",
       "    <tr>\n",
       "      <th>60992</th>\n",
       "      <td>train_FD004</td>\n",
       "      <td>708</td>\n",
       "      <td>183</td>\n",
       "      <td>41.9984</td>\n",
       "      <td>0.8414</td>\n",
       "      <td>100.0</td>\n",
       "      <td>445.00</td>\n",
       "      <td>550.64</td>\n",
       "      <td>1363.76</td>\n",
       "      <td>1145.72</td>\n",
       "      <td>...</td>\n",
       "      <td>2387.48</td>\n",
       "      <td>8069.84</td>\n",
       "      <td>9.4607</td>\n",
       "      <td>0.02</td>\n",
       "      <td>333</td>\n",
       "      <td>2212</td>\n",
       "      <td>100.00</td>\n",
       "      <td>10.37</td>\n",
       "      <td>6.2727</td>\n",
       "      <td>1</td>\n",
       "    </tr>\n",
       "    <tr>\n",
       "      <th>60993</th>\n",
       "      <td>train_FD004</td>\n",
       "      <td>708</td>\n",
       "      <td>184</td>\n",
       "      <td>0.0013</td>\n",
       "      <td>0.0001</td>\n",
       "      <td>100.0</td>\n",
       "      <td>518.67</td>\n",
       "      <td>643.50</td>\n",
       "      <td>1602.12</td>\n",
       "      <td>1430.34</td>\n",
       "      <td>...</td>\n",
       "      <td>2388.33</td>\n",
       "      <td>8120.43</td>\n",
       "      <td>8.4998</td>\n",
       "      <td>0.03</td>\n",
       "      <td>395</td>\n",
       "      <td>2388</td>\n",
       "      <td>100.00</td>\n",
       "      <td>38.48</td>\n",
       "      <td>23.0767</td>\n",
       "      <td>0</td>\n",
       "    </tr>\n",
       "  </tbody>\n",
       "</table>\n",
       "<p>45385 rows × 28 columns</p>\n",
       "</div>"
      ],
      "text/plain": [
       "               src  machine  cycle       p1      p2     p3      s1      s2  \\\n",
       "0      train_FD004      461      1  42.0049  0.8400  100.0  445.00  549.68   \n",
       "1      train_FD004      461      2  20.0020  0.7002  100.0  491.19  606.07   \n",
       "2      train_FD004      461      3  42.0038  0.8409  100.0  445.00  548.95   \n",
       "3      train_FD004      461      4  42.0000  0.8400  100.0  445.00  548.70   \n",
       "4      train_FD004      461      5  25.0063  0.6207   60.0  462.54  536.10   \n",
       "...            ...      ...    ...      ...     ...    ...     ...     ...   \n",
       "60989  train_FD004      708    180  35.0019  0.8409  100.0  449.44  556.28   \n",
       "60990  train_FD004      708    181   0.0023  0.0000  100.0  518.67  643.95   \n",
       "60991  train_FD004      708    182  25.0030  0.6200   60.0  462.54  536.88   \n",
       "60992  train_FD004      708    183  41.9984  0.8414  100.0  445.00  550.64   \n",
       "60993  train_FD004      708    184   0.0013  0.0001  100.0  518.67  643.50   \n",
       "\n",
       "            s3       s4  ...      s13      s14      s15   s16  s17   s18  \\\n",
       "0      1343.43  1112.93  ...  2387.99  8074.83   9.3335  0.02  330  2212   \n",
       "1      1477.61  1237.50  ...  2387.73  8046.13   9.1913  0.02  361  2324   \n",
       "2      1343.12  1117.05  ...  2387.97  8066.62   9.4007  0.02  329  2212   \n",
       "3      1341.24  1118.03  ...  2388.02  8076.05   9.3369  0.02  328  2212   \n",
       "4      1255.23  1033.59  ...  2028.08  7865.80  10.8366  0.02  305  1915   \n",
       "...        ...      ...  ...      ...      ...      ...   ...  ...   ...   \n",
       "60989  1377.65  1148.96  ...  2387.77  8048.91   9.4169  0.02  337  2223   \n",
       "60990  1602.98  1429.57  ...  2388.27  8122.44   8.5242  0.03  396  2388   \n",
       "60991  1268.01  1067.09  ...  2027.98  7865.18  10.9790  0.02  309  1915   \n",
       "60992  1363.76  1145.72  ...  2387.48  8069.84   9.4607  0.02  333  2212   \n",
       "60993  1602.12  1430.34  ...  2388.33  8120.43   8.4998  0.03  395  2388   \n",
       "\n",
       "          s19    s20      s21  rul  \n",
       "0      100.00  10.62   6.3670  320  \n",
       "1      100.00  24.37  14.6552  319  \n",
       "2      100.00  10.48   6.4213  318  \n",
       "3      100.00  10.54   6.4176  317  \n",
       "4       84.93  14.03   8.6754  316  \n",
       "...       ...    ...      ...  ...  \n",
       "60989  100.00  14.66   8.7446    4  \n",
       "60990  100.00  38.40  23.1079    3  \n",
       "60991   84.93  14.24   8.4254    2  \n",
       "60992  100.00  10.37   6.2727    1  \n",
       "60993  100.00  38.48  23.0767    0  \n",
       "\n",
       "[45385 rows x 28 columns]"
      ]
     },
     "execution_count": 7,
     "metadata": {},
     "output_type": "execute_result"
    }
   ],
   "source": [
    "tr"
   ]
  },
  {
   "cell_type": "markdown",
   "metadata": {
    "slideshow": {
     "slide_type": "subslide"
    }
   },
   "source": [
    "## Training and Test Data\n",
    "\n",
    "**...And at the test data**"
   ]
  },
  {
   "cell_type": "code",
   "execution_count": 8,
   "metadata": {},
   "outputs": [
    {
     "data": {
      "text/html": [
       "<div>\n",
       "<style scoped>\n",
       "    .dataframe tbody tr th:only-of-type {\n",
       "        vertical-align: middle;\n",
       "    }\n",
       "\n",
       "    .dataframe tbody tr th {\n",
       "        vertical-align: top;\n",
       "    }\n",
       "\n",
       "    .dataframe thead th {\n",
       "        text-align: right;\n",
       "    }\n",
       "</style>\n",
       "<table border=\"1\" class=\"dataframe\">\n",
       "  <thead>\n",
       "    <tr style=\"text-align: right;\">\n",
       "      <th></th>\n",
       "      <th>src</th>\n",
       "      <th>machine</th>\n",
       "      <th>cycle</th>\n",
       "      <th>p1</th>\n",
       "      <th>p2</th>\n",
       "      <th>p3</th>\n",
       "      <th>s1</th>\n",
       "      <th>s2</th>\n",
       "      <th>s3</th>\n",
       "      <th>s4</th>\n",
       "      <th>...</th>\n",
       "      <th>s13</th>\n",
       "      <th>s14</th>\n",
       "      <th>s15</th>\n",
       "      <th>s16</th>\n",
       "      <th>s17</th>\n",
       "      <th>s18</th>\n",
       "      <th>s19</th>\n",
       "      <th>s20</th>\n",
       "      <th>s21</th>\n",
       "      <th>rul</th>\n",
       "    </tr>\n",
       "  </thead>\n",
       "  <tbody>\n",
       "    <tr>\n",
       "      <th>321</th>\n",
       "      <td>train_FD004</td>\n",
       "      <td>462</td>\n",
       "      <td>1</td>\n",
       "      <td>41.9998</td>\n",
       "      <td>0.8400</td>\n",
       "      <td>100.0</td>\n",
       "      <td>445.00</td>\n",
       "      <td>548.99</td>\n",
       "      <td>1341.82</td>\n",
       "      <td>1113.16</td>\n",
       "      <td>...</td>\n",
       "      <td>2387.98</td>\n",
       "      <td>8082.37</td>\n",
       "      <td>9.3300</td>\n",
       "      <td>0.02</td>\n",
       "      <td>331</td>\n",
       "      <td>2212</td>\n",
       "      <td>100.00</td>\n",
       "      <td>10.77</td>\n",
       "      <td>6.2894</td>\n",
       "      <td>298</td>\n",
       "    </tr>\n",
       "    <tr>\n",
       "      <th>322</th>\n",
       "      <td>train_FD004</td>\n",
       "      <td>462</td>\n",
       "      <td>2</td>\n",
       "      <td>9.9999</td>\n",
       "      <td>0.2500</td>\n",
       "      <td>100.0</td>\n",
       "      <td>489.05</td>\n",
       "      <td>604.23</td>\n",
       "      <td>1498.00</td>\n",
       "      <td>1299.54</td>\n",
       "      <td>...</td>\n",
       "      <td>2388.07</td>\n",
       "      <td>8125.46</td>\n",
       "      <td>8.6088</td>\n",
       "      <td>0.03</td>\n",
       "      <td>368</td>\n",
       "      <td>2319</td>\n",
       "      <td>100.00</td>\n",
       "      <td>28.61</td>\n",
       "      <td>17.3135</td>\n",
       "      <td>297</td>\n",
       "    </tr>\n",
       "    <tr>\n",
       "      <th>323</th>\n",
       "      <td>train_FD004</td>\n",
       "      <td>462</td>\n",
       "      <td>3</td>\n",
       "      <td>42.0079</td>\n",
       "      <td>0.8403</td>\n",
       "      <td>100.0</td>\n",
       "      <td>445.00</td>\n",
       "      <td>549.11</td>\n",
       "      <td>1351.47</td>\n",
       "      <td>1126.43</td>\n",
       "      <td>...</td>\n",
       "      <td>2387.93</td>\n",
       "      <td>8082.11</td>\n",
       "      <td>9.2965</td>\n",
       "      <td>0.02</td>\n",
       "      <td>330</td>\n",
       "      <td>2212</td>\n",
       "      <td>100.00</td>\n",
       "      <td>10.70</td>\n",
       "      <td>6.4288</td>\n",
       "      <td>296</td>\n",
       "    </tr>\n",
       "    <tr>\n",
       "      <th>324</th>\n",
       "      <td>train_FD004</td>\n",
       "      <td>462</td>\n",
       "      <td>4</td>\n",
       "      <td>42.0077</td>\n",
       "      <td>0.8400</td>\n",
       "      <td>100.0</td>\n",
       "      <td>445.00</td>\n",
       "      <td>548.77</td>\n",
       "      <td>1345.81</td>\n",
       "      <td>1116.64</td>\n",
       "      <td>...</td>\n",
       "      <td>2387.88</td>\n",
       "      <td>8079.41</td>\n",
       "      <td>9.3200</td>\n",
       "      <td>0.02</td>\n",
       "      <td>330</td>\n",
       "      <td>2212</td>\n",
       "      <td>100.00</td>\n",
       "      <td>10.50</td>\n",
       "      <td>6.2818</td>\n",
       "      <td>295</td>\n",
       "    </tr>\n",
       "    <tr>\n",
       "      <th>325</th>\n",
       "      <td>train_FD004</td>\n",
       "      <td>462</td>\n",
       "      <td>5</td>\n",
       "      <td>24.9999</td>\n",
       "      <td>0.6200</td>\n",
       "      <td>60.0</td>\n",
       "      <td>462.54</td>\n",
       "      <td>537.00</td>\n",
       "      <td>1259.55</td>\n",
       "      <td>1043.95</td>\n",
       "      <td>...</td>\n",
       "      <td>2028.13</td>\n",
       "      <td>7867.08</td>\n",
       "      <td>10.8841</td>\n",
       "      <td>0.02</td>\n",
       "      <td>307</td>\n",
       "      <td>1915</td>\n",
       "      <td>84.93</td>\n",
       "      <td>14.26</td>\n",
       "      <td>8.5789</td>\n",
       "      <td>294</td>\n",
       "    </tr>\n",
       "    <tr>\n",
       "      <th>...</th>\n",
       "      <td>...</td>\n",
       "      <td>...</td>\n",
       "      <td>...</td>\n",
       "      <td>...</td>\n",
       "      <td>...</td>\n",
       "      <td>...</td>\n",
       "      <td>...</td>\n",
       "      <td>...</td>\n",
       "      <td>...</td>\n",
       "      <td>...</td>\n",
       "      <td>...</td>\n",
       "      <td>...</td>\n",
       "      <td>...</td>\n",
       "      <td>...</td>\n",
       "      <td>...</td>\n",
       "      <td>...</td>\n",
       "      <td>...</td>\n",
       "      <td>...</td>\n",
       "      <td>...</td>\n",
       "      <td>...</td>\n",
       "      <td>...</td>\n",
       "    </tr>\n",
       "    <tr>\n",
       "      <th>61244</th>\n",
       "      <td>train_FD004</td>\n",
       "      <td>709</td>\n",
       "      <td>251</td>\n",
       "      <td>9.9998</td>\n",
       "      <td>0.2500</td>\n",
       "      <td>100.0</td>\n",
       "      <td>489.05</td>\n",
       "      <td>605.33</td>\n",
       "      <td>1516.36</td>\n",
       "      <td>1315.28</td>\n",
       "      <td>...</td>\n",
       "      <td>2388.73</td>\n",
       "      <td>8185.69</td>\n",
       "      <td>8.4541</td>\n",
       "      <td>0.03</td>\n",
       "      <td>372</td>\n",
       "      <td>2319</td>\n",
       "      <td>100.00</td>\n",
       "      <td>29.11</td>\n",
       "      <td>17.5234</td>\n",
       "      <td>4</td>\n",
       "    </tr>\n",
       "    <tr>\n",
       "      <th>61245</th>\n",
       "      <td>train_FD004</td>\n",
       "      <td>709</td>\n",
       "      <td>252</td>\n",
       "      <td>0.0028</td>\n",
       "      <td>0.0015</td>\n",
       "      <td>100.0</td>\n",
       "      <td>518.67</td>\n",
       "      <td>643.42</td>\n",
       "      <td>1598.92</td>\n",
       "      <td>1426.77</td>\n",
       "      <td>...</td>\n",
       "      <td>2388.46</td>\n",
       "      <td>8185.47</td>\n",
       "      <td>8.2221</td>\n",
       "      <td>0.03</td>\n",
       "      <td>396</td>\n",
       "      <td>2388</td>\n",
       "      <td>100.00</td>\n",
       "      <td>39.38</td>\n",
       "      <td>23.7151</td>\n",
       "      <td>3</td>\n",
       "    </tr>\n",
       "    <tr>\n",
       "      <th>61246</th>\n",
       "      <td>train_FD004</td>\n",
       "      <td>709</td>\n",
       "      <td>253</td>\n",
       "      <td>0.0029</td>\n",
       "      <td>0.0000</td>\n",
       "      <td>100.0</td>\n",
       "      <td>518.67</td>\n",
       "      <td>643.68</td>\n",
       "      <td>1607.72</td>\n",
       "      <td>1430.56</td>\n",
       "      <td>...</td>\n",
       "      <td>2388.48</td>\n",
       "      <td>8193.94</td>\n",
       "      <td>8.2525</td>\n",
       "      <td>0.03</td>\n",
       "      <td>395</td>\n",
       "      <td>2388</td>\n",
       "      <td>100.00</td>\n",
       "      <td>39.78</td>\n",
       "      <td>23.8270</td>\n",
       "      <td>2</td>\n",
       "    </tr>\n",
       "    <tr>\n",
       "      <th>61247</th>\n",
       "      <td>train_FD004</td>\n",
       "      <td>709</td>\n",
       "      <td>254</td>\n",
       "      <td>35.0046</td>\n",
       "      <td>0.8400</td>\n",
       "      <td>100.0</td>\n",
       "      <td>449.44</td>\n",
       "      <td>555.77</td>\n",
       "      <td>1381.29</td>\n",
       "      <td>1148.18</td>\n",
       "      <td>...</td>\n",
       "      <td>2388.83</td>\n",
       "      <td>8125.64</td>\n",
       "      <td>9.0515</td>\n",
       "      <td>0.02</td>\n",
       "      <td>337</td>\n",
       "      <td>2223</td>\n",
       "      <td>100.00</td>\n",
       "      <td>15.26</td>\n",
       "      <td>9.0774</td>\n",
       "      <td>1</td>\n",
       "    </tr>\n",
       "    <tr>\n",
       "      <th>61248</th>\n",
       "      <td>train_FD004</td>\n",
       "      <td>709</td>\n",
       "      <td>255</td>\n",
       "      <td>42.0030</td>\n",
       "      <td>0.8400</td>\n",
       "      <td>100.0</td>\n",
       "      <td>445.00</td>\n",
       "      <td>549.85</td>\n",
       "      <td>1369.75</td>\n",
       "      <td>1147.45</td>\n",
       "      <td>...</td>\n",
       "      <td>2388.66</td>\n",
       "      <td>8144.33</td>\n",
       "      <td>9.1207</td>\n",
       "      <td>0.02</td>\n",
       "      <td>333</td>\n",
       "      <td>2212</td>\n",
       "      <td>100.00</td>\n",
       "      <td>10.66</td>\n",
       "      <td>6.4341</td>\n",
       "      <td>0</td>\n",
       "    </tr>\n",
       "  </tbody>\n",
       "</table>\n",
       "<p>15864 rows × 28 columns</p>\n",
       "</div>"
      ],
      "text/plain": [
       "               src  machine  cycle       p1      p2     p3      s1      s2  \\\n",
       "321    train_FD004      462      1  41.9998  0.8400  100.0  445.00  548.99   \n",
       "322    train_FD004      462      2   9.9999  0.2500  100.0  489.05  604.23   \n",
       "323    train_FD004      462      3  42.0079  0.8403  100.0  445.00  549.11   \n",
       "324    train_FD004      462      4  42.0077  0.8400  100.0  445.00  548.77   \n",
       "325    train_FD004      462      5  24.9999  0.6200   60.0  462.54  537.00   \n",
       "...            ...      ...    ...      ...     ...    ...     ...     ...   \n",
       "61244  train_FD004      709    251   9.9998  0.2500  100.0  489.05  605.33   \n",
       "61245  train_FD004      709    252   0.0028  0.0015  100.0  518.67  643.42   \n",
       "61246  train_FD004      709    253   0.0029  0.0000  100.0  518.67  643.68   \n",
       "61247  train_FD004      709    254  35.0046  0.8400  100.0  449.44  555.77   \n",
       "61248  train_FD004      709    255  42.0030  0.8400  100.0  445.00  549.85   \n",
       "\n",
       "            s3       s4  ...      s13      s14      s15   s16  s17   s18  \\\n",
       "321    1341.82  1113.16  ...  2387.98  8082.37   9.3300  0.02  331  2212   \n",
       "322    1498.00  1299.54  ...  2388.07  8125.46   8.6088  0.03  368  2319   \n",
       "323    1351.47  1126.43  ...  2387.93  8082.11   9.2965  0.02  330  2212   \n",
       "324    1345.81  1116.64  ...  2387.88  8079.41   9.3200  0.02  330  2212   \n",
       "325    1259.55  1043.95  ...  2028.13  7867.08  10.8841  0.02  307  1915   \n",
       "...        ...      ...  ...      ...      ...      ...   ...  ...   ...   \n",
       "61244  1516.36  1315.28  ...  2388.73  8185.69   8.4541  0.03  372  2319   \n",
       "61245  1598.92  1426.77  ...  2388.46  8185.47   8.2221  0.03  396  2388   \n",
       "61246  1607.72  1430.56  ...  2388.48  8193.94   8.2525  0.03  395  2388   \n",
       "61247  1381.29  1148.18  ...  2388.83  8125.64   9.0515  0.02  337  2223   \n",
       "61248  1369.75  1147.45  ...  2388.66  8144.33   9.1207  0.02  333  2212   \n",
       "\n",
       "          s19    s20      s21  rul  \n",
       "321    100.00  10.77   6.2894  298  \n",
       "322    100.00  28.61  17.3135  297  \n",
       "323    100.00  10.70   6.4288  296  \n",
       "324    100.00  10.50   6.2818  295  \n",
       "325     84.93  14.26   8.5789  294  \n",
       "...       ...    ...      ...  ...  \n",
       "61244  100.00  29.11  17.5234    4  \n",
       "61245  100.00  39.38  23.7151    3  \n",
       "61246  100.00  39.78  23.8270    2  \n",
       "61247  100.00  15.26   9.0774    1  \n",
       "61248  100.00  10.66   6.4341    0  \n",
       "\n",
       "[15864 rows x 28 columns]"
      ]
     },
     "execution_count": 8,
     "metadata": {},
     "output_type": "execute_result"
    }
   ],
   "source": [
    "ts"
   ]
  },
  {
   "cell_type": "markdown",
   "metadata": {
    "slideshow": {
     "slide_type": "subslide"
    }
   },
   "source": [
    "## Standardization/Normalization\n",
    "\n",
    "**Now, we need to make the range of each columns more uniform**\n",
    "\n",
    "We will _standardize_ all parameters and sensor inputs:"
   ]
  },
  {
   "cell_type": "code",
   "execution_count": 9,
   "metadata": {},
   "outputs": [],
   "source": [
    "trmean = tr[dt_in].mean()\n",
    "trstd = tr[dt_in].std().replace(to_replace=0, value=1) # handle static fields\n",
    "\n",
    "ts_s = ts.copy()\n",
    "ts_s[dt_in] = (ts_s[dt_in] - trmean) / trstd\n",
    "tr_s = tr.copy()\n",
    "tr_s[dt_in] = (tr_s[dt_in] - trmean) / trstd"
   ]
  },
  {
   "cell_type": "markdown",
   "metadata": {},
   "source": [
    "We will _normalize_ the RUL values (i.e. our regression target)"
   ]
  },
  {
   "cell_type": "code",
   "execution_count": 10,
   "metadata": {},
   "outputs": [],
   "source": [
    "trmaxrul = tr['rul'].max()\n",
    "\n",
    "ts_s['rul'] = ts['rul'] / trmaxrul \n",
    "tr_s['rul'] = tr['rul'] / trmaxrul "
   ]
  },
  {
   "cell_type": "markdown",
   "metadata": {
    "slideshow": {
     "slide_type": "subslide"
    }
   },
   "source": [
    "## Standardization/Normalization\n",
    "\n",
    "**Let's check the results**"
   ]
  },
  {
   "cell_type": "code",
   "execution_count": 11,
   "metadata": {},
   "outputs": [
    {
     "data": {
      "text/html": [
       "<div>\n",
       "<style scoped>\n",
       "    .dataframe tbody tr th:only-of-type {\n",
       "        vertical-align: middle;\n",
       "    }\n",
       "\n",
       "    .dataframe tbody tr th {\n",
       "        vertical-align: top;\n",
       "    }\n",
       "\n",
       "    .dataframe thead th {\n",
       "        text-align: right;\n",
       "    }\n",
       "</style>\n",
       "<table border=\"1\" class=\"dataframe\">\n",
       "  <thead>\n",
       "    <tr style=\"text-align: right;\">\n",
       "      <th></th>\n",
       "      <th>machine</th>\n",
       "      <th>cycle</th>\n",
       "      <th>p1</th>\n",
       "      <th>p2</th>\n",
       "      <th>p3</th>\n",
       "      <th>s1</th>\n",
       "      <th>s2</th>\n",
       "      <th>s3</th>\n",
       "      <th>s4</th>\n",
       "      <th>s5</th>\n",
       "      <th>...</th>\n",
       "      <th>s13</th>\n",
       "      <th>s14</th>\n",
       "      <th>s15</th>\n",
       "      <th>s16</th>\n",
       "      <th>s17</th>\n",
       "      <th>s18</th>\n",
       "      <th>s19</th>\n",
       "      <th>s20</th>\n",
       "      <th>s21</th>\n",
       "      <th>rul</th>\n",
       "    </tr>\n",
       "  </thead>\n",
       "  <tbody>\n",
       "    <tr>\n",
       "      <th>count</th>\n",
       "      <td>45385.000000</td>\n",
       "      <td>45385.000000</td>\n",
       "      <td>4.538500e+04</td>\n",
       "      <td>4.538500e+04</td>\n",
       "      <td>4.538500e+04</td>\n",
       "      <td>4.538500e+04</td>\n",
       "      <td>4.538500e+04</td>\n",
       "      <td>4.538500e+04</td>\n",
       "      <td>4.538500e+04</td>\n",
       "      <td>4.538500e+04</td>\n",
       "      <td>...</td>\n",
       "      <td>4.538500e+04</td>\n",
       "      <td>4.538500e+04</td>\n",
       "      <td>4.538500e+04</td>\n",
       "      <td>4.538500e+04</td>\n",
       "      <td>4.538500e+04</td>\n",
       "      <td>4.538500e+04</td>\n",
       "      <td>4.538500e+04</td>\n",
       "      <td>4.538500e+04</td>\n",
       "      <td>4.538500e+04</td>\n",
       "      <td>45385.000000</td>\n",
       "    </tr>\n",
       "    <tr>\n",
       "      <th>mean</th>\n",
       "      <td>582.490955</td>\n",
       "      <td>133.323896</td>\n",
       "      <td>2.894775e-16</td>\n",
       "      <td>1.302570e-16</td>\n",
       "      <td>1.178889e-16</td>\n",
       "      <td>4.664830e-15</td>\n",
       "      <td>2.522791e-15</td>\n",
       "      <td>1.727041e-15</td>\n",
       "      <td>-6.633794e-16</td>\n",
       "      <td>1.496703e-16</td>\n",
       "      <td>...</td>\n",
       "      <td>1.135835e-15</td>\n",
       "      <td>-6.017186e-15</td>\n",
       "      <td>-1.409030e-16</td>\n",
       "      <td>-1.058182e-15</td>\n",
       "      <td>-6.532030e-16</td>\n",
       "      <td>1.583594e-16</td>\n",
       "      <td>-3.093135e-15</td>\n",
       "      <td>2.572263e-16</td>\n",
       "      <td>-1.477916e-16</td>\n",
       "      <td>0.244140</td>\n",
       "    </tr>\n",
       "    <tr>\n",
       "      <th>std</th>\n",
       "      <td>71.283034</td>\n",
       "      <td>89.568561</td>\n",
       "      <td>1.000000e+00</td>\n",
       "      <td>1.000000e+00</td>\n",
       "      <td>1.000000e+00</td>\n",
       "      <td>1.000000e+00</td>\n",
       "      <td>1.000000e+00</td>\n",
       "      <td>1.000000e+00</td>\n",
       "      <td>1.000000e+00</td>\n",
       "      <td>1.000000e+00</td>\n",
       "      <td>...</td>\n",
       "      <td>1.000000e+00</td>\n",
       "      <td>1.000000e+00</td>\n",
       "      <td>1.000000e+00</td>\n",
       "      <td>1.000000e+00</td>\n",
       "      <td>1.000000e+00</td>\n",
       "      <td>1.000000e+00</td>\n",
       "      <td>1.000000e+00</td>\n",
       "      <td>1.000000e+00</td>\n",
       "      <td>1.000000e+00</td>\n",
       "      <td>0.165256</td>\n",
       "    </tr>\n",
       "    <tr>\n",
       "      <th>min</th>\n",
       "      <td>461.000000</td>\n",
       "      <td>1.000000</td>\n",
       "      <td>-1.623164e+00</td>\n",
       "      <td>-1.838222e+00</td>\n",
       "      <td>-2.381839e+00</td>\n",
       "      <td>-1.055641e+00</td>\n",
       "      <td>-1.176507e+00</td>\n",
       "      <td>-1.646830e+00</td>\n",
       "      <td>-1.486984e+00</td>\n",
       "      <td>-1.138606e+00</td>\n",
       "      <td>...</td>\n",
       "      <td>-2.387561e+00</td>\n",
       "      <td>-2.583315e+00</td>\n",
       "      <td>-1.480340e+00</td>\n",
       "      <td>-6.950269e-01</td>\n",
       "      <td>-1.644539e+00</td>\n",
       "      <td>-2.151433e+00</td>\n",
       "      <td>-2.381839e+00</td>\n",
       "      <td>-1.077489e+00</td>\n",
       "      <td>-1.079308e+00</td>\n",
       "      <td>0.000000</td>\n",
       "    </tr>\n",
       "    <tr>\n",
       "      <th>25%</th>\n",
       "      <td>521.000000</td>\n",
       "      <td>62.000000</td>\n",
       "      <td>-9.461510e-01</td>\n",
       "      <td>-1.031405e+00</td>\n",
       "      <td>4.198344e-01</td>\n",
       "      <td>-1.055641e+00</td>\n",
       "      <td>-8.055879e-01</td>\n",
       "      <td>-6.341243e-01</td>\n",
       "      <td>-6.912917e-01</td>\n",
       "      <td>-1.138606e+00</td>\n",
       "      <td>...</td>\n",
       "      <td>4.181950e-01</td>\n",
       "      <td>-5.977256e-02</td>\n",
       "      <td>-8.501637e-01</td>\n",
       "      <td>-6.950269e-01</td>\n",
       "      <td>-6.379310e-01</td>\n",
       "      <td>-1.126840e-01</td>\n",
       "      <td>4.198344e-01</td>\n",
       "      <td>-9.979498e-01</td>\n",
       "      <td>-9.988926e-01</td>\n",
       "      <td>0.112546</td>\n",
       "    </tr>\n",
       "    <tr>\n",
       "      <th>50%</th>\n",
       "      <td>585.000000</td>\n",
       "      <td>123.000000</td>\n",
       "      <td>6.868497e-02</td>\n",
       "      <td>4.154560e-01</td>\n",
       "      <td>4.198344e-01</td>\n",
       "      <td>-3.917563e-01</td>\n",
       "      <td>-6.336530e-01</td>\n",
       "      <td>-4.718540e-01</td>\n",
       "      <td>-5.429267e-01</td>\n",
       "      <td>-2.714913e-01</td>\n",
       "      <td>...</td>\n",
       "      <td>4.194408e-01</td>\n",
       "      <td>1.862163e-01</td>\n",
       "      <td>-4.025983e-02</td>\n",
       "      <td>-6.950269e-01</td>\n",
       "      <td>-4.941298e-01</td>\n",
       "      <td>-3.717480e-02</td>\n",
       "      <td>4.198344e-01</td>\n",
       "      <td>-5.972306e-01</td>\n",
       "      <td>-5.971843e-01</td>\n",
       "      <td>0.225092</td>\n",
       "    </tr>\n",
       "    <tr>\n",
       "      <th>75%</th>\n",
       "      <td>639.000000</td>\n",
       "      <td>189.000000</td>\n",
       "      <td>1.218855e+00</td>\n",
       "      <td>8.661917e-01</td>\n",
       "      <td>4.198344e-01</td>\n",
       "      <td>6.926385e-01</td>\n",
       "      <td>7.407549e-01</td>\n",
       "      <td>7.495521e-01</td>\n",
       "      <td>8.439630e-01</td>\n",
       "      <td>6.867534e-01</td>\n",
       "      <td>...</td>\n",
       "      <td>4.202973e-01</td>\n",
       "      <td>7.086220e-01</td>\n",
       "      <td>1.055441e-01</td>\n",
       "      <td>1.438762e+00</td>\n",
       "      <td>7.641306e-01</td>\n",
       "      <td>6.561373e-01</td>\n",
       "      <td>4.198344e-01</td>\n",
       "      <td>7.740747e-01</td>\n",
       "      <td>7.744926e-01</td>\n",
       "      <td>0.346863</td>\n",
       "    </tr>\n",
       "    <tr>\n",
       "      <th>max</th>\n",
       "      <td>708.000000</td>\n",
       "      <td>543.000000</td>\n",
       "      <td>1.219524e+00</td>\n",
       "      <td>8.726308e-01</td>\n",
       "      <td>4.198344e-01</td>\n",
       "      <td>1.732749e+00</td>\n",
       "      <td>1.741030e+00</td>\n",
       "      <td>1.837978e+00</td>\n",
       "      <td>2.000975e+00</td>\n",
       "      <td>1.818973e+00</td>\n",
       "      <td>...</td>\n",
       "      <td>4.383623e-01</td>\n",
       "      <td>2.264997e+00</td>\n",
       "      <td>2.365107e+00</td>\n",
       "      <td>1.438762e+00</td>\n",
       "      <td>1.806689e+00</td>\n",
       "      <td>1.095464e+00</td>\n",
       "      <td>4.198344e-01</td>\n",
       "      <td>1.915822e+00</td>\n",
       "      <td>1.907272e+00</td>\n",
       "      <td>1.000000</td>\n",
       "    </tr>\n",
       "  </tbody>\n",
       "</table>\n",
       "<p>8 rows × 27 columns</p>\n",
       "</div>"
      ],
      "text/plain": [
       "            machine         cycle            p1            p2            p3  \\\n",
       "count  45385.000000  45385.000000  4.538500e+04  4.538500e+04  4.538500e+04   \n",
       "mean     582.490955    133.323896  2.894775e-16  1.302570e-16  1.178889e-16   \n",
       "std       71.283034     89.568561  1.000000e+00  1.000000e+00  1.000000e+00   \n",
       "min      461.000000      1.000000 -1.623164e+00 -1.838222e+00 -2.381839e+00   \n",
       "25%      521.000000     62.000000 -9.461510e-01 -1.031405e+00  4.198344e-01   \n",
       "50%      585.000000    123.000000  6.868497e-02  4.154560e-01  4.198344e-01   \n",
       "75%      639.000000    189.000000  1.218855e+00  8.661917e-01  4.198344e-01   \n",
       "max      708.000000    543.000000  1.219524e+00  8.726308e-01  4.198344e-01   \n",
       "\n",
       "                 s1            s2            s3            s4            s5  \\\n",
       "count  4.538500e+04  4.538500e+04  4.538500e+04  4.538500e+04  4.538500e+04   \n",
       "mean   4.664830e-15  2.522791e-15  1.727041e-15 -6.633794e-16  1.496703e-16   \n",
       "std    1.000000e+00  1.000000e+00  1.000000e+00  1.000000e+00  1.000000e+00   \n",
       "min   -1.055641e+00 -1.176507e+00 -1.646830e+00 -1.486984e+00 -1.138606e+00   \n",
       "25%   -1.055641e+00 -8.055879e-01 -6.341243e-01 -6.912917e-01 -1.138606e+00   \n",
       "50%   -3.917563e-01 -6.336530e-01 -4.718540e-01 -5.429267e-01 -2.714913e-01   \n",
       "75%    6.926385e-01  7.407549e-01  7.495521e-01  8.439630e-01  6.867534e-01   \n",
       "max    1.732749e+00  1.741030e+00  1.837978e+00  2.000975e+00  1.818973e+00   \n",
       "\n",
       "       ...           s13           s14           s15           s16  \\\n",
       "count  ...  4.538500e+04  4.538500e+04  4.538500e+04  4.538500e+04   \n",
       "mean   ...  1.135835e-15 -6.017186e-15 -1.409030e-16 -1.058182e-15   \n",
       "std    ...  1.000000e+00  1.000000e+00  1.000000e+00  1.000000e+00   \n",
       "min    ... -2.387561e+00 -2.583315e+00 -1.480340e+00 -6.950269e-01   \n",
       "25%    ...  4.181950e-01 -5.977256e-02 -8.501637e-01 -6.950269e-01   \n",
       "50%    ...  4.194408e-01  1.862163e-01 -4.025983e-02 -6.950269e-01   \n",
       "75%    ...  4.202973e-01  7.086220e-01  1.055441e-01  1.438762e+00   \n",
       "max    ...  4.383623e-01  2.264997e+00  2.365107e+00  1.438762e+00   \n",
       "\n",
       "                s17           s18           s19           s20           s21  \\\n",
       "count  4.538500e+04  4.538500e+04  4.538500e+04  4.538500e+04  4.538500e+04   \n",
       "mean  -6.532030e-16  1.583594e-16 -3.093135e-15  2.572263e-16 -1.477916e-16   \n",
       "std    1.000000e+00  1.000000e+00  1.000000e+00  1.000000e+00  1.000000e+00   \n",
       "min   -1.644539e+00 -2.151433e+00 -2.381839e+00 -1.077489e+00 -1.079308e+00   \n",
       "25%   -6.379310e-01 -1.126840e-01  4.198344e-01 -9.979498e-01 -9.988926e-01   \n",
       "50%   -4.941298e-01 -3.717480e-02  4.198344e-01 -5.972306e-01 -5.971843e-01   \n",
       "75%    7.641306e-01  6.561373e-01  4.198344e-01  7.740747e-01  7.744926e-01   \n",
       "max    1.806689e+00  1.095464e+00  4.198344e-01  1.915822e+00  1.907272e+00   \n",
       "\n",
       "                rul  \n",
       "count  45385.000000  \n",
       "mean       0.244140  \n",
       "std        0.165256  \n",
       "min        0.000000  \n",
       "25%        0.112546  \n",
       "50%        0.225092  \n",
       "75%        0.346863  \n",
       "max        1.000000  \n",
       "\n",
       "[8 rows x 27 columns]"
      ]
     },
     "execution_count": 11,
     "metadata": {},
     "output_type": "execute_result"
    }
   ],
   "source": [
    "tr_s.describe()"
   ]
  },
  {
   "cell_type": "markdown",
   "metadata": {
    "slideshow": {
     "slide_type": "subslide"
    }
   },
   "source": [
    "## Regression Model\n",
    "\n",
    "**We can now define a regression model**\n",
    "\n",
    "We will use a feed-forward neural network (MLP):"
   ]
  },
  {
   "cell_type": "code",
   "execution_count": 12,
   "metadata": {},
   "outputs": [],
   "source": [
    "def build_regressor(hidden):\n",
    "    input_shape = (len(dt_in), )\n",
    "    model_in = keras.Input(shape=input_shape, dtype='float32')\n",
    "    x = model_in\n",
    "    for h in hidden:\n",
    "        x = layers.Dense(h, activation='relu')(x)\n",
    "    model_out = layers.Dense(1, activation='linear')(x)\n",
    "    model = keras.Model(model_in, model_out)\n",
    "    return model"
   ]
  },
  {
   "cell_type": "markdown",
   "metadata": {},
   "source": [
    "* The `hidden` argument is a list of sizes for the hidden layers\n",
    "* ...E.g. `hidden = [64, 32]`\n",
    "* By setting `hidden=[]` we obtain a simple Linear Regression approach"
   ]
  },
  {
   "cell_type": "markdown",
   "metadata": {
    "slideshow": {
     "slide_type": "subslide"
    }
   },
   "source": [
    "## Training\n",
    "\n",
    "**We can now train our model**"
   ]
  },
  {
   "cell_type": "code",
   "execution_count": 13,
   "metadata": {
    "scrolled": true
   },
   "outputs": [
    {
     "name": "stderr",
     "output_type": "stream",
     "text": [
      "2021-12-04 11:33:12.332619: I tensorflow/core/platform/cpu_feature_guard.cc:151] This TensorFlow binary is optimized with oneAPI Deep Neural Network Library (oneDNN) to use the following CPU instructions in performance-critical operations:  AVX2 FMA\n",
      "To enable them in other operations, rebuild TensorFlow with the appropriate compiler flags.\n"
     ]
    },
    {
     "name": "stdout",
     "output_type": "stream",
     "text": [
      "Epoch 1/20\n",
      "1135/1135 [==============================] - 1s 702us/step - loss: 0.3791 - val_loss: 0.0936\n",
      "Epoch 2/20\n",
      "1135/1135 [==============================] - 1s 636us/step - loss: 0.0813 - val_loss: 0.0637\n",
      "Epoch 3/20\n",
      "1135/1135 [==============================] - 1s 612us/step - loss: 0.0561 - val_loss: 0.0418\n",
      "Epoch 4/20\n",
      "1135/1135 [==============================] - 1s 617us/step - loss: 0.0383 - val_loss: 0.0286\n",
      "Epoch 5/20\n",
      "1135/1135 [==============================] - 1s 620us/step - loss: 0.0281 - val_loss: 0.0218\n",
      "Epoch 6/20\n",
      "1135/1135 [==============================] - 1s 622us/step - loss: 0.0226 - val_loss: 0.0179\n",
      "Epoch 7/20\n",
      "1135/1135 [==============================] - 1s 610us/step - loss: 0.0193 - val_loss: 0.0155\n",
      "Epoch 8/20\n",
      "1135/1135 [==============================] - 1s 610us/step - loss: 0.0173 - val_loss: 0.0136\n",
      "Epoch 9/20\n",
      "1135/1135 [==============================] - 1s 637us/step - loss: 0.0160 - val_loss: 0.0128\n",
      "Epoch 10/20\n",
      "1135/1135 [==============================] - 1s 617us/step - loss: 0.0154 - val_loss: 0.0123\n",
      "Epoch 11/20\n",
      "1135/1135 [==============================] - 1s 611us/step - loss: 0.0149 - val_loss: 0.0114\n",
      "Epoch 12/20\n",
      "1135/1135 [==============================] - 1s 607us/step - loss: 0.0147 - val_loss: 0.0114\n",
      "Epoch 13/20\n",
      "1135/1135 [==============================] - 1s 609us/step - loss: 0.0146 - val_loss: 0.0118\n",
      "Epoch 14/20\n",
      "1135/1135 [==============================] - 1s 618us/step - loss: 0.0144 - val_loss: 0.0112\n",
      "Epoch 15/20\n",
      "1135/1135 [==============================] - 1s 611us/step - loss: 0.0144 - val_loss: 0.0116\n",
      "Epoch 16/20\n",
      "1135/1135 [==============================] - 1s 611us/step - loss: 0.0143 - val_loss: 0.0108\n",
      "Epoch 17/20\n",
      "1135/1135 [==============================] - 1s 608us/step - loss: 0.0143 - val_loss: 0.0110\n",
      "Epoch 18/20\n",
      "1135/1135 [==============================] - 1s 609us/step - loss: 0.0143 - val_loss: 0.0113\n",
      "Epoch 19/20\n",
      "1135/1135 [==============================] - 1s 620us/step - loss: 0.0143 - val_loss: 0.0107\n",
      "Epoch 20/20\n",
      "1135/1135 [==============================] - 1s 661us/step - loss: 0.0143 - val_loss: 0.0109\n"
     ]
    }
   ],
   "source": [
    "nn = build_regressor(hidden=[])\n",
    "nn.compile(optimizer='Adam', loss='mse')\n",
    "cb = [callbacks.EarlyStopping(patience=10, restore_best_weights=True)]\n",
    "history = nn.fit(tr_s[dt_in], tr_s['rul'], validation_split=0.2,\n",
    "                 callbacks=cb, batch_size=32, epochs=20, verbose=1)"
   ]
  },
  {
   "cell_type": "markdown",
   "metadata": {
    "slideshow": {
     "slide_type": "subslide"
    }
   },
   "source": [
    "## Training\n",
    "\n",
    "**Here's the loss evolution over time and its final value**"
   ]
  },
  {
   "cell_type": "code",
   "execution_count": 14,
   "metadata": {
    "scrolled": false
   },
   "outputs": [
    {
     "name": "stdout",
     "output_type": "stream",
     "text": [
      "Final loss: 0.0143 (training), 0.0107 (validation)\n"
     ]
    },
    {
     "data": {
      "image/png": "[encoded data removed]",
      "text/plain": [
       "<Figure size 1008x360 with 1 Axes>"
      ]
     },
     "metadata": {
      "needs_background": "light"
     },
     "output_type": "display_data"
    }
   ],
   "source": [
    "cmapss.plot_training_history(history, figsize=figsize)\n",
    "trl, vll = history.history[\"loss\"][-1], np.min(history.history[\"val_loss\"])\n",
    "print(f'Final loss: {trl:.4f} (training), {vll:.4f} (validation)')"
   ]
  },
  {
   "cell_type": "markdown",
   "metadata": {
    "slideshow": {
     "slide_type": "subslide"
    }
   },
   "source": [
    "## Training\n",
    "\n",
    "**Let's try with a more complex model**"
   ]
  },
  {
   "cell_type": "code",
   "execution_count": 15,
   "metadata": {
    "scrolled": true
   },
   "outputs": [
    {
     "name": "stdout",
     "output_type": "stream",
     "text": [
      "Epoch 1/20\n",
      "1135/1135 [==============================] - 1s 844us/step - loss: 0.0228 - val_loss: 0.0165\n",
      "Epoch 2/20\n",
      "1135/1135 [==============================] - 1s 731us/step - loss: 0.0152 - val_loss: 0.0120\n",
      "Epoch 3/20\n",
      "1135/1135 [==============================] - 1s 732us/step - loss: 0.0146 - val_loss: 0.0113\n",
      "Epoch 4/20\n",
      "1135/1135 [==============================] - 1s 732us/step - loss: 0.0144 - val_loss: 0.0118\n",
      "Epoch 5/20\n",
      "1135/1135 [==============================] - 1s 732us/step - loss: 0.0142 - val_loss: 0.0112\n",
      "Epoch 6/20\n",
      "1135/1135 [==============================] - 1s 740us/step - loss: 0.0141 - val_loss: 0.0107\n",
      "Epoch 7/20\n",
      "1135/1135 [==============================] - 1s 748us/step - loss: 0.0139 - val_loss: 0.0105\n",
      "Epoch 8/20\n",
      "1135/1135 [==============================] - 1s 791us/step - loss: 0.0139 - val_loss: 0.0109\n",
      "Epoch 9/20\n",
      "1135/1135 [==============================] - 1s 733us/step - loss: 0.0137 - val_loss: 0.0110\n",
      "Epoch 10/20\n",
      "1135/1135 [==============================] - 1s 733us/step - loss: 0.0137 - val_loss: 0.0104\n",
      "Epoch 11/20\n",
      "1135/1135 [==============================] - 1s 788us/step - loss: 0.0137 - val_loss: 0.0126\n",
      "Epoch 12/20\n",
      "1135/1135 [==============================] - 1s 763us/step - loss: 0.0136 - val_loss: 0.0110\n",
      "Epoch 13/20\n",
      "1135/1135 [==============================] - 1s 781us/step - loss: 0.0135 - val_loss: 0.0110\n",
      "Epoch 14/20\n",
      "1135/1135 [==============================] - 1s 739us/step - loss: 0.0135 - val_loss: 0.0107\n",
      "Epoch 15/20\n",
      "1135/1135 [==============================] - 1s 739us/step - loss: 0.0135 - val_loss: 0.0114\n",
      "Epoch 16/20\n",
      "1135/1135 [==============================] - 1s 787us/step - loss: 0.0135 - val_loss: 0.0111\n",
      "Epoch 17/20\n",
      "1135/1135 [==============================] - 1s 734us/step - loss: 0.0135 - val_loss: 0.0107\n",
      "Epoch 18/20\n",
      "1135/1135 [==============================] - 1s 746us/step - loss: 0.0134 - val_loss: 0.0106\n",
      "Epoch 19/20\n",
      "1135/1135 [==============================] - 1s 742us/step - loss: 0.0134 - val_loss: 0.0103\n",
      "Epoch 20/20\n",
      "1135/1135 [==============================] - 1s 730us/step - loss: 0.0133 - val_loss: 0.0108\n"
     ]
    }
   ],
   "source": [
    "nn = build_regressor(hidden=[32, 32])\n",
    "nn.compile(optimizer='Adam', loss='mse')\n",
    "history = nn.fit(tr_s[dt_in], tr_s['rul'], validation_split=0.2,\n",
    "                 callbacks=cb, batch_size=32, epochs=20, verbose=1)"
   ]
  },
  {
   "cell_type": "markdown",
   "metadata": {
    "slideshow": {
     "slide_type": "subslide"
    }
   },
   "source": [
    "## Training\n",
    "\n",
    "**Let's check the loss behavior and compare it to Linear Regression**"
   ]
  },
  {
   "cell_type": "code",
   "execution_count": 16,
   "metadata": {
    "scrolled": false
   },
   "outputs": [
    {
     "name": "stdout",
     "output_type": "stream",
     "text": [
      "Final loss: 0.0133 (training), 0.0103 (validation)\n"
     ]
    },
    {
     "data": {
      "image/png": "[encoded data removed]",
      "text/plain": [
       "<Figure size 1008x360 with 1 Axes>"
      ]
     },
     "metadata": {
      "needs_background": "light"
     },
     "output_type": "display_data"
    }
   ],
   "source": [
    "cmapss.plot_training_history(history, figsize=figsize)\n",
    "trl, vll = history.history[\"loss\"][-1], np.min(history.history[\"val_loss\"])\n",
    "print(f'Final loss: {trl:.4f} (training), {vll:.4f} (validation)')"
   ]
  },
  {
   "cell_type": "markdown",
   "metadata": {},
   "source": [
    "* There is some improvement w.r.t. pure Linear Regression"
   ]
  },
  {
   "cell_type": "markdown",
   "metadata": {
    "slideshow": {
     "slide_type": "subslide"
    }
   },
   "source": [
    "## Predictions\n",
    "\n",
    "**We can now obtain the predictions and evaluate their quality**"
   ]
  },
  {
   "cell_type": "code",
   "execution_count": 17,
   "metadata": {},
   "outputs": [
    {
     "name": "stdout",
     "output_type": "stream",
     "text": [
      "R2 score: 0.5360568014316002\n"
     ]
    },
    {
     "data": {
      "image/png": "[encoded data removed]",
      "text/plain": [
       "<Figure size 1008x360 with 1 Axes>"
      ]
     },
     "metadata": {
      "needs_background": "light"
     },
     "output_type": "display_data"
    }
   ],
   "source": [
    "tr_pred = nn.predict(tr_s[dt_in]).ravel() * trmaxrul\n",
    "cmapss.plot_pred_scatter(tr_pred, tr['rul'], figsize=figsize)\n",
    "print(f'R2 score: {r2_score(tr[\"rul\"], tr_pred)}')"
   ]
  },
  {
   "cell_type": "markdown",
   "metadata": {
    "slideshow": {
     "slide_type": "subslide"
    }
   },
   "source": [
    "## Predictions\n",
    "\n",
    "**The results so far are not comforting**\n",
    "\n",
    "...But it's worth seeing what is going on over time:"
   ]
  },
  {
   "cell_type": "code",
   "execution_count": 18,
   "metadata": {
    "scrolled": true
   },
   "outputs": [
    {
     "data": {
      "image/png": "[encoded data removed]",
      "text/plain": [
       "<Figure size 1008x360 with 1 Axes>"
      ]
     },
     "metadata": {
      "needs_background": "light"
     },
     "output_type": "display_data"
    }
   ],
   "source": [
    "stop = 1095\n",
    "cmapss.plot_rul(tr_pred[:stop], tr['rul'][:stop], figsize=figsize)"
   ]
  },
  {
   "cell_type": "markdown",
   "metadata": {
    "slideshow": {
     "slide_type": "subslide"
    }
   },
   "source": [
    "## Predictions\n",
    "\n",
    "**The situation is similar on the test set:**"
   ]
  },
  {
   "cell_type": "code",
   "execution_count": 19,
   "metadata": {
    "scrolled": true
   },
   "outputs": [
    {
     "data": {
      "image/png": "[encoded data removed]",
      "text/plain": [
       "<Figure size 1008x360 with 1 Axes>"
      ]
     },
     "metadata": {
      "needs_background": "light"
     },
     "output_type": "display_data"
    }
   ],
   "source": [
    "ts_pred = nn.predict(ts_s[dt_in]).ravel() * trmaxrul\n",
    "cmapss.plot_rul(ts_pred[:stop], ts['rul'][:stop], figsize=figsize)"
   ]
  },
  {
   "cell_type": "markdown",
   "metadata": {
    "slideshow": {
     "slide_type": "subslide"
    }
   },
   "source": [
    "## Quality Evaluation\n",
    "\n",
    "**Let's try to recap the situation**\n",
    "\n",
    "* Our accuracy is quite poor\n",
    "* ...Especially for large RUL values\n",
    "\n",
    "**Possible reasons:**\n",
    "\n",
    "* Large RUL value are somewhat scarce on the dataset\n",
    "* Fault effects become noticeable only after a while"
   ]
  },
  {
   "cell_type": "markdown",
   "metadata": {},
   "source": [
    "**But perhaps we don't care! Our goal is _not a high accuracy_**\n",
    "\n",
    "* We just need to _stop at the right time_\n",
    "* ...And our model may still be good enough for that\n",
    "\n",
    "> **For a proper evaluation, we need a _cost model_**"
   ]
  },
  {
   "cell_type": "markdown",
   "metadata": {
    "slideshow": {
     "slide_type": "subslide"
    }
   },
   "source": [
    "## Cost Model\n",
    "\n",
    "**We will assume that:**\n",
    "\n",
    "* Whenever a turbine operates for a time step, we gain a profit of 1 unit\n",
    "* A failure costs $C$ units (i.e. the equivalent of $C$ operation days)\n",
    "* We never trigger maintenance before $s$ time steps\n",
    "\n",
    "**Let $x_k$ be the times series for machine $k$, and $I_k$ its set of time steps**\n",
    "\n",
    "With our RUL based policy:\n",
    "\n",
    "* The time step when we trigger maintenance is given by:\n",
    "$$\n",
    "\\min \\{i \\in I_k \\mid f(x_{ki}) < \\theta\\}\n",
    "$$\n",
    "* A failure occurs if:\n",
    "$$\n",
    "f(x_{ki}) \\geq \\theta \\quad \\forall i \\in I_k\n",
    "$$"
   ]
  },
  {
   "cell_type": "markdown",
   "metadata": {
    "slideshow": {
     "slide_type": "subslide"
    }
   },
   "source": [
    "## Cost Model\n",
    "\n",
    "**The whole cost formula _for a single machine_ will be:**\n",
    "\n",
    "$$\n",
    "\\mathit{cost}(f, {x_k}, \\theta) = \\mathit{op\\_profit}(f(x_k), \\theta) + \\mathit{fail\\_cost}(f(x_k), \\theta)\n",
    "$$\n",
    "\n",
    "Where:\n",
    "\n",
    "$$\n",
    "\\mathit{op\\_profit}(f(x_k), \\theta) = -\\max(0, \\min \\{i \\in I_k \\mid f(x_{ki}) < \\theta\\}-s) \\\\\n",
    "\\mathit{fail\\_cost}(f(x_k), \\theta) = \\left\\{\n",
    "\\begin{align}\n",
    "& C \\text{ if } f(x_{ki}) \\geq \\theta \\quad \\forall i \\in I_k \\\\\n",
    "& 0 \\text{ otherwise}\n",
    "\\end{align}\n",
    "\\right.\n",
    "$$\n",
    "\n",
    "* $s$ units of machine operation are guaranteed\n",
    "* ...So we gain over the default policy only if we stop after that\n",
    "* Profit is modeled as a negative cost\n",
    "\n",
    "**For the total cost, we need to sum over all machines**"
   ]
  },
  {
   "cell_type": "markdown",
   "metadata": {
    "slideshow": {
     "slide_type": "subslide"
    }
   },
   "source": [
    "## Cost Model\n",
    "\n",
    "**Normally, we would proceed as follows**\n",
    "\n",
    "* $s$ is determined by the fixed maintenance schedule\n",
    "* $C$ must be determined by discussing with the customer\n",
    "\n",
    "In our example, we will derive both from data"
   ]
  },
  {
   "cell_type": "markdown",
   "metadata": {},
   "source": [
    "**First, we collect all failure times**"
   ]
  },
  {
   "cell_type": "code",
   "execution_count": 20,
   "metadata": {},
   "outputs": [
    {
     "data": {
      "text/plain": [
       "machine\n",
       "461    321\n",
       "462    299\n",
       "463    307\n",
       "464    274\n",
       "465    193\n",
       "Name: cycle, dtype: int64"
      ]
     },
     "execution_count": 20,
     "metadata": {},
     "output_type": "execute_result"
    }
   ],
   "source": [
    "failtimes = dt.groupby('machine')['cycle'].max()\n",
    "failtimes.head()"
   ]
  },
  {
   "cell_type": "markdown",
   "metadata": {
    "slideshow": {
     "slide_type": "subslide"
    }
   },
   "source": [
    "## Cost Model\n",
    "\n",
    "**Then, we define $s$ and $C$ based on statistics**"
   ]
  },
  {
   "cell_type": "code",
   "execution_count": 21,
   "metadata": {},
   "outputs": [
    {
     "name": "stdout",
     "output_type": "stream",
     "text": [
      "count    249.00000\n",
      "mean     245.97992\n",
      "std       73.11080\n",
      "min      128.00000\n",
      "25%      190.00000\n",
      "50%      234.00000\n",
      "75%      290.00000\n",
      "max      543.00000\n",
      "Name: cycle, dtype: float64\n"
     ]
    }
   ],
   "source": [
    "print(failtimes.describe())\n",
    "safe_interval = failtimes.min()\n",
    "maintenance_cost = failtimes.max()"
   ]
  },
  {
   "cell_type": "markdown",
   "metadata": {},
   "source": [
    "* For the safe interval $s$, we choose the minimum failure time\n",
    "* For the maintenance cost $C$ we choose the largest failure time"
   ]
  },
  {
   "cell_type": "markdown",
   "metadata": {
    "slideshow": {
     "slide_type": "subslide"
    }
   },
   "source": [
    "## Threshold Choice\n",
    "\n",
    "**We can then choose the threshold $\\theta$ as usual**"
   ]
  },
  {
   "cell_type": "code",
   "execution_count": 22,
   "metadata": {},
   "outputs": [
    {
     "name": "stdout",
     "output_type": "stream",
     "text": [
      "Optimal threshold for the training set: 19\n"
     ]
    },
    {
     "data": {
      "image/png": "[encoded data removed]",
      "text/plain": [
       "<Figure size 1008x360 with 1 Axes>"
      ]
     },
     "metadata": {
      "needs_background": "light"
     },
     "output_type": "display_data"
    }
   ],
   "source": [
    "cmodel = cmapss.RULCostModel(maintenance_cost=maintenance_cost, safe_interval=safe_interval)\n",
    "th_range = np.arange(0, 100)\n",
    "tr_thr = cmapss.opt_threshold_and_plot(tr['machine'].values, tr_pred, th_range, cmodel, figsize=figsize)\n",
    "print(f'Optimal threshold for the training set: {tr_thr}')"
   ]
  },
  {
   "cell_type": "markdown",
   "metadata": {
    "slideshow": {
     "slide_type": "subslide"
    }
   },
   "source": [
    "## Evaluation\n",
    "\n",
    "**Let's see how we fare in terms of cost**"
   ]
  },
  {
   "cell_type": "code",
   "execution_count": 23,
   "metadata": {
    "scrolled": false
   },
   "outputs": [
    {
     "name": "stdout",
     "output_type": "stream",
     "text": [
      "Cost: -18605 (training), -6980 (test)\n"
     ]
    }
   ],
   "source": [
    "tr_c, tr_f, tr_sl = cmodel.cost(tr['machine'].values, tr_pred, tr_thr, return_margin=True)\n",
    "ts_c, ts_f, ts_sl = cmodel.cost(ts['machine'].values, ts_pred, tr_thr, return_margin=True)\n",
    "print(f'Cost: {tr_c} (training), {ts_c} (test)')"
   ]
  },
  {
   "cell_type": "markdown",
   "metadata": {},
   "source": [
    "We can also evaluate the margin for improvement:"
   ]
  },
  {
   "cell_type": "code",
   "execution_count": 24,
   "metadata": {},
   "outputs": [
    {
     "name": "stdout",
     "output_type": "stream",
     "text": [
      "Avg. fails: 0.0 (training), 0.0 (test)\n",
      "Avg. slack: 16.13 (training), 13.02 (test)\n"
     ]
    }
   ],
   "source": [
    "print(f'Avg. fails: {tr_f/len(tr_mcn)} (training), {ts_f/len(ts_mcn)} (test)')\n",
    "print(f'Avg. slack: {tr_sl/len(tr_mcn):.2f} (training), {ts_sl/len(ts_mcn):.2f} (test)')"
   ]
  },
  {
   "cell_type": "markdown",
   "metadata": {},
   "source": [
    "* Slack = distance between when we stop and the failure\n",
    "* The results are actually quite good!\n",
    "* ...And we also generalize fairly well"
   ]
  },
  {
   "cell_type": "markdown",
   "metadata": {
    "slideshow": {
     "slide_type": "slide"
    }
   },
   "source": [
    "# Sequence Input in Neural Models"
   ]
  },
  {
   "cell_type": "markdown",
   "metadata": {
    "slideshow": {
     "slide_type": "subslide"
    }
   },
   "source": [
    "## Sequence Input in Neural Models\n",
    "\n",
    "**Feeding more time steps to our NN may improve the results**\n",
    "\n",
    "* Intuitively, sequences provide information about the _trend_\n",
    "* This may allow a better RUL estimate w.r.t. using only the current state\n",
    "* E.g. we may gauge how quickly the component is deteriorating"
   ]
  },
  {
   "cell_type": "markdown",
   "metadata": {},
   "source": [
    "**We will try to build a model capable to processing such input**\n",
    "\n",
    "But first, we need to apply a sliding window:"
   ]
  },
  {
   "cell_type": "code",
   "execution_count": 25,
   "metadata": {},
   "outputs": [],
   "source": [
    "wlen = 3\n",
    "tr_sw, tr_sw_m, tr_sw_r = cmapss.sliding_window_by_machine(tr_s, wlen, dt_in)\n",
    "ts_sw, ts_sw_m, ts_sw_r = cmapss.sliding_window_by_machine(ts_s, wlen, dt_in)"
   ]
  },
  {
   "cell_type": "markdown",
   "metadata": {},
   "source": [
    "* This must be done on a _per machine_ basis\n",
    "* Windows _should not mix data_ belonging to different machines!"
   ]
  },
  {
   "cell_type": "markdown",
   "metadata": {
    "slideshow": {
     "slide_type": "subslide"
    }
   },
   "source": [
    "## Sliding Window for Multivariate Data\n",
    "\n",
    "**The `sliding_window_by_machine` relies internally on:**\n",
    "\n",
    "```python\n",
    "def sliding_window_2D(data, wlen, stride=1):\n",
    "    # Get shifted _tables_\n",
    "    m = len(data)\n",
    "    lt = [data.iloc[i:m-wlen+i+1:stride, :].values for i in range(wlen)]\n",
    "    # Reshape to _add a new axis_\n",
    "    s = lt[0].shape\n",
    "    for i in range(wlen):\n",
    "        lt[i] = lt[i].reshape(s[0], 1, s[1])\n",
    "    # Concatenate\n",
    "    wdata = np.concatenate(lt, axis=1)\n",
    "    return wdata\n",
    "```\n",
    "\n",
    "* It's similar to our code for the univariate case\n",
    "* The output is a tensor with shape `(n_windows, w_len, n_dims)`"
   ]
  },
  {
   "cell_type": "markdown",
   "metadata": {
    "slideshow": {
     "slide_type": "subslide"
    }
   },
   "source": [
    "## Sliding Window for Multivariate Data\n",
    "\n",
    "**Let's look in deeper detail at the returned data structures**\n",
    "\n",
    "`tr_sw` contain the actual sliding window data:"
   ]
  },
  {
   "cell_type": "code",
   "execution_count": 26,
   "metadata": {
    "scrolled": true
   },
   "outputs": [
    {
     "data": {
      "text/plain": [
       "array([[ 1.21931469,  0.86619169,  0.41983436, -1.05564063, -0.79621447,\n",
       "        -0.70080293, -0.74549387, -1.1386061 , -1.08249848, -0.99389823,\n",
       "        -0.11421637, -0.6315044 , -0.67586863, -0.36411574, -0.98910425,\n",
       "         0.41889575,  0.08700467,  0.05991388, -0.69502688, -0.63793104,\n",
       "        -0.11268403,  0.41983436, -1.03117521, -1.03187757],\n",
       "       [-0.26962527,  0.41609996,  0.41983436,  0.6926385 ,  0.71397375,\n",
       "         0.56288953,  0.29808726,  0.36365649,  0.3710279 ,  0.33249075,\n",
       "         0.65388538,  0.56210134, -0.20641916,  0.32893584,  0.33156802,\n",
       "         0.41687122, -0.24758681, -0.12925879, -0.69502688,  0.47652818,\n",
       "         0.65613725,  0.41983436,  0.35321893,  0.35869109],\n",
       "       [ 1.21924025,  0.86908928,  0.41983436, -1.05564063, -0.8157647 ,\n",
       "        -0.70372248, -0.7109787 , -1.1386061 , -1.08433606, -0.98831315,\n",
       "        -0.11380415, -0.64524209, -0.67586863, -0.37335643, -0.99026013,\n",
       "         0.41874002, -0.00870947,  0.14931194, -0.69502688, -0.67388133,\n",
       "        -0.11268403,  0.41983436, -1.04527086, -1.02276728]])"
      ]
     },
     "execution_count": 26,
     "metadata": {},
     "output_type": "execute_result"
    }
   ],
   "source": [
    "tr_sw[0]"
   ]
  },
  {
   "cell_type": "markdown",
   "metadata": {},
   "source": [
    "* 3 times steps per example\n",
    "* 24 dimensions per time step"
   ]
  },
  {
   "cell_type": "markdown",
   "metadata": {
    "slideshow": {
     "slide_type": "subslide"
    }
   },
   "source": [
    "## Sliding Window for Multivariate Data\n",
    "\n",
    "**Let's look in deeper detail at the returned data structures**\n",
    "\n",
    "`tr_sw_m` contains the corresponding machine values"
   ]
  },
  {
   "cell_type": "code",
   "execution_count": 27,
   "metadata": {
    "scrolled": true
   },
   "outputs": [
    {
     "data": {
      "text/plain": [
       "array([461, 461, 461, ..., 708, 708, 708])"
      ]
     },
     "execution_count": 27,
     "metadata": {},
     "output_type": "execute_result"
    }
   ],
   "source": [
    "tr_sw_m"
   ]
  },
  {
   "cell_type": "markdown",
   "metadata": {},
   "source": [
    "* The structure is a plain numpy array\n",
    "\n",
    "`tr_sw_r` contains the RUL values"
   ]
  },
  {
   "cell_type": "code",
   "execution_count": 28,
   "metadata": {},
   "outputs": [
    {
     "data": {
      "text/plain": [
       "array([0.58671587, 0.58487085, 0.58302583, ..., 0.00369004, 0.00184502,\n",
       "       0.        ])"
      ]
     },
     "execution_count": 28,
     "metadata": {},
     "output_type": "execute_result"
    }
   ],
   "source": [
    "tr_sw_r"
   ]
  },
  {
   "cell_type": "markdown",
   "metadata": {},
   "source": [
    "* Again, the structure is a plain numpy array"
   ]
  },
  {
   "cell_type": "markdown",
   "metadata": {
    "slideshow": {
     "slide_type": "subslide"
    }
   },
   "source": [
    "## 1D Convolutions in Keras\n",
    "\n",
    "**The chosen format is ideal for _1D convolutions_ in keras**\n",
    "\n",
    "We can define a simple 1D convolutional NN as follows:"
   ]
  },
  {
   "cell_type": "code",
   "execution_count": 29,
   "metadata": {},
   "outputs": [],
   "source": [
    "def build_cnn_regressor(wlen):\n",
    "    input_shape = (wlen, len(dt_in))\n",
    "    model_in = keras.Input(shape=input_shape, dtype='float32')\n",
    "    model_out = layers.Conv1D(32, kernel_size=3, activation='relu')(model_in)\n",
    "    model_out = layers.Flatten()(model_out)\n",
    "    model_out = layers.Dense(32, activation='relu')(model_out)\n",
    "    model_out = layers.Dense(1, activation='linear')(model_out)\n",
    "    model = keras.Model(model_in, model_out)\n",
    "    return model"
   ]
  },
  {
   "cell_type": "markdown",
   "metadata": {},
   "source": [
    "* For simplicity, we consider a fixed architecture\n",
    "* Each convolution in this case will consider 3 time steps\n",
    "* We need to \"flatten\" the input before the fully connected layers\n",
    "  - Flattening = getting rid of the temporal structure"
   ]
  },
  {
   "cell_type": "markdown",
   "metadata": {
    "slideshow": {
     "slide_type": "subslide"
    }
   },
   "source": [
    "## CNN Training\n",
    "\n",
    "**Let's train our CNN**"
   ]
  },
  {
   "cell_type": "code",
   "execution_count": 30,
   "metadata": {
    "scrolled": true
   },
   "outputs": [
    {
     "name": "stdout",
     "output_type": "stream",
     "text": [
      "Epoch 1/20\n",
      "1126/1126 [==============================] - 1s 866us/step - loss: 0.0229 - val_loss: 0.0148\n",
      "Epoch 2/20\n",
      "1126/1126 [==============================] - 1s 785us/step - loss: 0.0164 - val_loss: 0.0129\n",
      "Epoch 3/20\n",
      "1126/1126 [==============================] - 1s 759us/step - loss: 0.0154 - val_loss: 0.0123\n",
      "Epoch 4/20\n",
      "1126/1126 [==============================] - 1s 758us/step - loss: 0.0149 - val_loss: 0.0110\n",
      "Epoch 5/20\n",
      "1126/1126 [==============================] - 1s 783us/step - loss: 0.0146 - val_loss: 0.0110\n",
      "Epoch 6/20\n",
      "1126/1126 [==============================] - 1s 768us/step - loss: 0.0142 - val_loss: 0.0118\n",
      "Epoch 7/20\n",
      "1126/1126 [==============================] - 1s 777us/step - loss: 0.0140 - val_loss: 0.0114\n",
      "Epoch 8/20\n",
      "1126/1126 [==============================] - 1s 822us/step - loss: 0.0138 - val_loss: 0.0103\n",
      "Epoch 9/20\n",
      "1126/1126 [==============================] - 1s 762us/step - loss: 0.0135 - val_loss: 0.0110\n",
      "Epoch 10/20\n",
      "1126/1126 [==============================] - 1s 766us/step - loss: 0.0135 - val_loss: 0.0115\n",
      "Epoch 11/20\n",
      "1126/1126 [==============================] - 1s 790us/step - loss: 0.0134 - val_loss: 0.0107\n",
      "Epoch 12/20\n",
      "1126/1126 [==============================] - 1s 806us/step - loss: 0.0133 - val_loss: 0.0101\n",
      "Epoch 13/20\n",
      "1126/1126 [==============================] - 1s 799us/step - loss: 0.0132 - val_loss: 0.0103\n",
      "Epoch 14/20\n",
      "1126/1126 [==============================] - 1s 786us/step - loss: 0.0132 - val_loss: 0.0099\n",
      "Epoch 15/20\n",
      "1126/1126 [==============================] - 1s 793us/step - loss: 0.0132 - val_loss: 0.0101\n",
      "Epoch 16/20\n",
      "1126/1126 [==============================] - 1s 758us/step - loss: 0.0131 - val_loss: 0.0106\n",
      "Epoch 17/20\n",
      "1126/1126 [==============================] - 1s 733us/step - loss: 0.0131 - val_loss: 0.0108\n",
      "Epoch 18/20\n",
      "1126/1126 [==============================] - 1s 734us/step - loss: 0.0130 - val_loss: 0.0108\n",
      "Epoch 19/20\n",
      "1126/1126 [==============================] - 1s 729us/step - loss: 0.0130 - val_loss: 0.0106\n",
      "Epoch 20/20\n",
      "1126/1126 [==============================] - 1s 749us/step - loss: 0.0129 - val_loss: 0.0101\n"
     ]
    }
   ],
   "source": [
    "nn2 = build_cnn_regressor(wlen)\n",
    "nn2.compile(optimizer='Adam', loss='mse')\n",
    "history2 = nn2.fit(tr_sw, tr_sw_r, validation_split=0.2,\n",
    "                 callbacks=cb,\n",
    "                 batch_size=32, epochs=20, verbose=1)"
   ]
  },
  {
   "cell_type": "markdown",
   "metadata": {
    "slideshow": {
     "slide_type": "subslide"
    }
   },
   "source": [
    "## CNN Training\n",
    "\n",
    "**Let's check the loss behavior and compare it to the MLP model**"
   ]
  },
  {
   "cell_type": "code",
   "execution_count": 31,
   "metadata": {
    "scrolled": false
   },
   "outputs": [
    {
     "name": "stdout",
     "output_type": "stream",
     "text": [
      "Final loss: 0.0129 (training), 0.0099 (validation)\n"
     ]
    },
    {
     "data": {
      "image/png": "[encoded data removed]",
      "text/plain": [
       "<Figure size 1008x360 with 1 Axes>"
      ]
     },
     "metadata": {
      "needs_background": "light"
     },
     "output_type": "display_data"
    }
   ],
   "source": [
    "cmapss.plot_training_history(history2, figsize=figsize)\n",
    "trl2, vll2 = history2.history[\"loss\"][-1], np.min(history2.history[\"val_loss\"])\n",
    "print(f'Final loss: {trl2:.4f} (training), {vll2:.4f} (validation)')"
   ]
  },
  {
   "cell_type": "markdown",
   "metadata": {},
   "source": [
    "* Not a lot of improvement, apparently, but some!"
   ]
  },
  {
   "cell_type": "markdown",
   "metadata": {
    "slideshow": {
     "slide_type": "subslide"
    }
   },
   "source": [
    "## Threshold Optimization\n",
    "\n",
    "**Now we can proceed by choosing a threshold**"
   ]
  },
  {
   "cell_type": "code",
   "execution_count": 32,
   "metadata": {},
   "outputs": [
    {
     "name": "stdout",
     "output_type": "stream",
     "text": [
      "Optimal threshold for the training set: 20\n"
     ]
    },
    {
     "data": {
      "image/png": "[encoded data removed]",
      "text/plain": [
       "<Figure size 1008x360 with 1 Axes>"
      ]
     },
     "metadata": {
      "needs_background": "light"
     },
     "output_type": "display_data"
    }
   ],
   "source": [
    "tr_pred2 = nn2.predict(tr_sw).ravel() * trmaxrul\n",
    "ts_pred2 = nn2.predict(ts_sw).ravel() * trmaxrul\n",
    "tr_thr2 = cmapss.opt_threshold_and_plot(tr_sw_m, tr_pred2, th_range, cmodel, figsize=figsize)\n",
    "print(f'Optimal threshold for the training set: {tr_thr2}')"
   ]
  },
  {
   "cell_type": "markdown",
   "metadata": {
    "slideshow": {
     "slide_type": "subslide"
    }
   },
   "source": [
    "## Evaluation\n",
    "\n",
    "**Let's see how the CNN fares in terms of cost**"
   ]
  },
  {
   "cell_type": "code",
   "execution_count": 33,
   "metadata": {
    "scrolled": false
   },
   "outputs": [
    {
     "name": "stdout",
     "output_type": "stream",
     "text": [
      "Cost: -17752 (training), -6622 (test)\n",
      "Avg. fails: 0.0 (training), 0.0 (test)\n",
      "Avg. slack: 18.73 (training), 16.86 (test)\n"
     ]
    }
   ],
   "source": [
    "tr_c2, tr_f2, tr_sl2 = cmodel.cost(tr_sw_m, tr_pred2, tr_thr2, return_margin=True)\n",
    "ts_c2, ts_f2, ts_sl2 = cmodel.cost(ts_sw_m, ts_pred2, tr_thr2, return_margin=True)\n",
    "print(f'Cost: {tr_c2} (training), {ts_c2} (test)')\n",
    "print(f'Avg. fails: {tr_f2/len(tr_mcn)} (training), {ts_f2/len(ts_mcn)} (test)')\n",
    "print(f'Avg. slack: {tr_sl2/len(tr_mcn):.2f} (training), {ts_sl2/len(ts_mcn):.2f} (test)')"
   ]
  },
  {
   "cell_type": "markdown",
   "metadata": {},
   "source": [
    "Which is (more or less) on par with our MLP approach, for which we had:"
   ]
  },
  {
   "cell_type": "code",
   "execution_count": 34,
   "metadata": {},
   "outputs": [
    {
     "name": "stdout",
     "output_type": "stream",
     "text": [
      "Cost: -18605 (training), -6980 (test)\n",
      "Avg. fails: 0.0 (training), 0.0 (test)\n",
      "Avg. slack: 16.13 (training), 13.02 (test)\n"
     ]
    }
   ],
   "source": [
    "print(f'Cost: {tr_c} (training), {ts_c} (test)')\n",
    "print(f'Avg. fails: {tr_f/len(tr_mcn)} (training), {ts_f/len(ts_mcn)} (test)')\n",
    "print(f'Avg. slack: {tr_sl/len(tr_mcn):.2f} (training), {ts_sl/len(ts_mcn):.2f} (test)')"
   ]
  },
  {
   "cell_type": "markdown",
   "metadata": {
    "slideshow": {
     "slide_type": "subslide"
    }
   },
   "source": [
    "## Considerations and Take-Home Messages\n",
    "\n",
    "**A first approach for RUL-based maintenance policies**\n",
    "\n",
    "* Build a RUL predictor\n",
    "* Trigger maintenance when the prediction is below a threshold\n",
    "* In practice: a simple two-stage sequential optimization process\n",
    "\n",
    "**Don't evaluate the performance in term of accuracy: it's a trap!**\n",
    "\n",
    "* We don't care about accuracy when the RUL is high\n",
    "* We only care about when we stop\n",
    "* We need a _cost model_\n",
    "\n",
    "**Sequence input may help**\n",
    "\n",
    "* But don't automatically jump for that!\n",
    "* First _think_: would considering multiple step provide more useful information?"
   ]
  }
 ],
 "metadata": {
  "kernelspec": {
   "display_name": "Python 3 (ipykernel)",
   "language": "python",
   "name": "python3"
  },
  "language_info": {
   "codemirror_mode": {
    "name": "ipython",
    "version": 3
   },
   "file_extension": ".py",
   "mimetype": "text/x-python",
   "name": "python",
   "nbconvert_exporter": "python",
   "pygments_lexer": "ipython3",
   "version": "3.8.10"
  },
  "rise": {
   "center": false,
   "transition": "fade"
  },
  "widgets": {
   "application/vnd.jupyter.widget-state+json": {
    "state": {
     "00fca5ea90ed4b2794c8c8551c396da8": {
      "model_module": "@jupyter-widgets/base",
      "model_module_version": "1.2.0",
      "model_name": "LayoutModel",
      "state": {}
     },
     "05c74f98a7fd467d8848a4a68e5a24c5": {
      "model_module": "jupyter-matplotlib",
      "model_module_version": "^0.7.4",
      "model_name": "ToolbarModel",
      "state": {
       "layout": "IPY_MODEL_5f44229db86148bf8b30ca48192120cb",
       "toolitems": [
        [
         "Home",
         "Reset original view",
         "home",
         "home"
        ],
        [
         "Back",
         "Back to previous view",
         "arrow-left",
         "back"
        ],
        [
         "Forward",
         "Forward to next view",
         "arrow-right",
         "forward"
        ],
        [
         "Pan",
         "Left button pans, Right button zooms\nx/y fixes axis, CTRL fixes aspect",
         "arrows",
         "pan"
        ],
        [
         "Zoom",
         "Zoom to rectangle\nx/y fixes axis, CTRL fixes aspect",
         "square-o",
         "zoom"
        ],
        [
         "Download",
         "Download plot",
         "floppy-o",
         "save_figure"
        ]
       ]
      }
     },
     "0887f50bf4284b438a2c4b0a0c8df120": {
      "model_module": "@jupyter-widgets/base",
      "model_module_version": "1.2.0",
      "model_name": "LayoutModel",
      "state": {}
     },
     "0e58752554f14af5ae5a75fc80dac5f1": {
      "model_module": "@jupyter-widgets/base",
      "model_module_version": "1.2.0",
      "model_name": "LayoutModel",
      "state": {}
     },
     "13fcbb4f2dca417292c0c6ee69b60b28": {
      "model_module": "@jupyter-widgets/base",
      "model_module_version": "1.2.0",
      "model_name": "LayoutModel",
      "state": {}
     },
     "14a5269ea51d4bb595c2a12e3f85b400": {
      "model_module": "jupyter-matplotlib",
      "model_module_version": "^0.7.4",
      "model_name": "ToolbarModel",
      "state": {
       "layout": "IPY_MODEL_f22398eb661447499734a09fe4e12539",
       "toolitems": [
        [
         "Home",
         "Reset original view",
         "home",
         "home"
        ],
        [
         "Back",
         "Back to previous view",
         "arrow-left",
         "back"
        ],
        [
         "Forward",
         "Forward to next view",
         "arrow-right",
         "forward"
        ],
        [
         "Pan",
         "Left button pans, Right button zooms\nx/y fixes axis, CTRL fixes aspect",
         "arrows",
         "pan"
        ],
        [
         "Zoom",
         "Zoom to rectangle\nx/y fixes axis, CTRL fixes aspect",
         "square-o",
         "zoom"
        ],
        [
         "Download",
         "Download plot",
         "floppy-o",
         "save_figure"
        ]
       ]
      }
     },
     "180ba1f059b4472e9fe6d4ac470659c1": {
      "model_module": "@jupyter-widgets/base",
      "model_module_version": "1.2.0",
      "model_name": "LayoutModel",
      "state": {}
     },
     "1c340f8b2b89463dbf24a5e3f1ee866f": {
      "model_module": "@jupyter-widgets/base",
      "model_module_version": "1.2.0",
      "model_name": "LayoutModel",
      "state": {}
     },
     "263d61566e2f4c2cb1a714bb707b28ac": {
      "model_module": "jupyter-matplotlib",
      "model_module_version": "^0.7.4",
      "model_name": "ToolbarModel",
      "state": {
       "layout": "IPY_MODEL_a75165d7f5904e8a8fa3583fec7d61be",
       "toolitems": [
        [
         "Home",
         "Reset original view",
         "home",
         "home"
        ],
        [
         "Back",
         "Back to previous view",
         "arrow-left",
         "back"
        ],
        [
         "Forward",
         "Forward to next view",
         "arrow-right",
         "forward"
        ],
        [
         "Pan",
         "Left button pans, Right button zooms\nx/y fixes axis, CTRL fixes aspect",
         "arrows",
         "pan"
        ],
        [
         "Zoom",
         "Zoom to rectangle\nx/y fixes axis, CTRL fixes aspect",
         "square-o",
         "zoom"
        ],
        [
         "Download",
         "Download plot",
         "floppy-o",
         "save_figure"
        ]
       ]
      }
     },
     "282a56d4ad9f43b7b0d8ae5a4582a3a1": {
      "model_module": "@jupyter-widgets/base",
      "model_module_version": "1.2.0",
      "model_name": "LayoutModel",
      "state": {}
     },
     "2aabb4e3eb844135b6f8bcbec3d8a4e0": {
      "model_module": "jupyter-matplotlib",
      "model_module_version": "^0.7.4",
      "model_name": "ToolbarModel",
      "state": {
       "layout": "IPY_MODEL_00fca5ea90ed4b2794c8c8551c396da8",
       "toolitems": [
        [
         "Home",
         "Reset original view",
         "home",
         "home"
        ],
        [
         "Back",
         "Back to previous view",
         "arrow-left",
         "back"
        ],
        [
         "Forward",
         "Forward to next view",
         "arrow-right",
         "forward"
        ],
        [
         "Pan",
         "Left button pans, Right button zooms\nx/y fixes axis, CTRL fixes aspect",
         "arrows",
         "pan"
        ],
        [
         "Zoom",
         "Zoom to rectangle\nx/y fixes axis, CTRL fixes aspect",
         "square-o",
         "zoom"
        ],
        [
         "Download",
         "Download plot",
         "floppy-o",
         "save_figure"
        ]
       ]
      }
     },
     "2e30987536ba417b838330d347ea22cb": {
      "model_module": "@jupyter-widgets/base",
      "model_module_version": "1.2.0",
      "model_name": "LayoutModel",
      "state": {}
     },
     "308a91ea3cb547f3ad19865660b2391f": {
      "model_module": "jupyter-matplotlib",
      "model_module_version": "^0.7.4",
      "model_name": "ToolbarModel",
      "state": {
       "layout": "IPY_MODEL_7f80c39cb26242929b710943f05a58c3",
       "toolitems": [
        [
         "Home",
         "Reset original view",
         "home",
         "home"
        ],
        [
         "Back",
         "Back to previous view",
         "arrow-left",
         "back"
        ],
        [
         "Forward",
         "Forward to next view",
         "arrow-right",
         "forward"
        ],
        [
         "Pan",
         "Left button pans, Right button zooms\nx/y fixes axis, CTRL fixes aspect",
         "arrows",
         "pan"
        ],
        [
         "Zoom",
         "Zoom to rectangle\nx/y fixes axis, CTRL fixes aspect",
         "square-o",
         "zoom"
        ],
        [
         "Download",
         "Download plot",
         "floppy-o",
         "save_figure"
        ]
       ]
      }
     },
     "339dc727a8544fa194e0e36d5137d644": {
      "model_module": "@jupyter-widgets/base",
      "model_module_version": "1.2.0",
      "model_name": "LayoutModel",
      "state": {}
     },
     "3bd2f639dba848fd9ba77f733d998086": {
      "model_module": "jupyter-matplotlib",
      "model_module_version": "^0.7.4",
      "model_name": "ToolbarModel",
      "state": {
       "layout": "IPY_MODEL_ce38c525d5a242858127e60a08123725",
       "toolitems": [
        [
         "Home",
         "Reset original view",
         "home",
         "home"
        ],
        [
         "Back",
         "Back to previous view",
         "arrow-left",
         "back"
        ],
        [
         "Forward",
         "Forward to next view",
         "arrow-right",
         "forward"
        ],
        [
         "Pan",
         "Left button pans, Right button zooms\nx/y fixes axis, CTRL fixes aspect",
         "arrows",
         "pan"
        ],
        [
         "Zoom",
         "Zoom to rectangle\nx/y fixes axis, CTRL fixes aspect",
         "square-o",
         "zoom"
        ],
        [
         "Download",
         "Download plot",
         "floppy-o",
         "save_figure"
        ]
       ]
      }
     },
     "3d595d18ca0e4021b9594183451af0b5": {
      "model_module": "jupyter-matplotlib",
      "model_module_version": "^0.7.4",
      "model_name": "ToolbarModel",
      "state": {
       "layout": "IPY_MODEL_a9ce292cf0154a3c894340f1619aa595",
       "toolitems": [
        [
         "Home",
         "Reset original view",
         "home",
         "home"
        ],
        [
         "Back",
         "Back to previous view",
         "arrow-left",
         "back"
        ],
        [
         "Forward",
         "Forward to next view",
         "arrow-right",
         "forward"
        ],
        [
         "Pan",
         "Left button pans, Right button zooms\nx/y fixes axis, CTRL fixes aspect",
         "arrows",
         "pan"
        ],
        [
         "Zoom",
         "Zoom to rectangle\nx/y fixes axis, CTRL fixes aspect",
         "square-o",
         "zoom"
        ],
        [
         "Download",
         "Download plot",
         "floppy-o",
         "save_figure"
        ]
       ]
      }
     },
     "45c73415d66349d49d3c1e615cb85c1e": {
      "model_module": "@jupyter-widgets/base",
      "model_module_version": "1.2.0",
      "model_name": "LayoutModel",
      "state": {}
     },
     "45ca753c7d094b8981388ffedd170ee3": {
      "model_module": "jupyter-matplotlib",
      "model_module_version": "^0.7.4",
      "model_name": "ToolbarModel",
      "state": {
       "layout": "IPY_MODEL_83e66907711c4c318fc5da13e464a0c6",
       "toolitems": [
        [
         "Home",
         "Reset original view",
         "home",
         "home"
        ],
        [
         "Back",
         "Back to previous view",
         "arrow-left",
         "back"
        ],
        [
         "Forward",
         "Forward to next view",
         "arrow-right",
         "forward"
        ],
        [
         "Pan",
         "Left button pans, Right button zooms\nx/y fixes axis, CTRL fixes aspect",
         "arrows",
         "pan"
        ],
        [
         "Zoom",
         "Zoom to rectangle\nx/y fixes axis, CTRL fixes aspect",
         "square-o",
         "zoom"
        ],
        [
         "Download",
         "Download plot",
         "floppy-o",
         "save_figure"
        ]
       ]
      }
     },
     "4e406dc9f65f4cd98ee79d38353b71e5": {
      "model_module": "@jupyter-widgets/base",
      "model_module_version": "1.2.0",
      "model_name": "LayoutModel",
      "state": {}
     },
     "59748d620c014f439cacb5245f268004": {
      "model_module": "@jupyter-widgets/base",
      "model_module_version": "1.2.0",
      "model_name": "LayoutModel",
      "state": {}
     },
     "5dc0bad7b3f14e12a702577a4dc8a47a": {
      "model_module": "jupyter-matplotlib",
      "model_module_version": "^0.7.4",
      "model_name": "ToolbarModel",
      "state": {
       "layout": "IPY_MODEL_bbf857d5d25e4f9ba98207004081009d",
       "toolitems": [
        [
         "Home",
         "Reset original view",
         "home",
         "home"
        ],
        [
         "Back",
         "Back to previous view",
         "arrow-left",
         "back"
        ],
        [
         "Forward",
         "Forward to next view",
         "arrow-right",
         "forward"
        ],
        [
         "Pan",
         "Left button pans, Right button zooms\nx/y fixes axis, CTRL fixes aspect",
         "arrows",
         "pan"
        ],
        [
         "Zoom",
         "Zoom to rectangle\nx/y fixes axis, CTRL fixes aspect",
         "square-o",
         "zoom"
        ],
        [
         "Download",
         "Download plot",
         "floppy-o",
         "save_figure"
        ]
       ]
      }
     },
     "5f44229db86148bf8b30ca48192120cb": {
      "model_module": "@jupyter-widgets/base",
      "model_module_version": "1.2.0",
      "model_name": "LayoutModel",
      "state": {}
     },
     "64ac7ce0f2ff43a9b037d402521393af": {
      "model_module": "@jupyter-widgets/base",
      "model_module_version": "1.2.0",
      "model_name": "LayoutModel",
      "state": {}
     },
     "753a000a521f44c287947b08a4822095": {
      "model_module": "@jupyter-widgets/base",
      "model_module_version": "1.2.0",
      "model_name": "LayoutModel",
      "state": {}
     },
     "79674751a6ae40ceb060357ab9d59235": {
      "model_module": "@jupyter-widgets/base",
      "model_module_version": "1.2.0",
      "model_name": "LayoutModel",
      "state": {}
     },
     "7f80c39cb26242929b710943f05a58c3": {
      "model_module": "@jupyter-widgets/base",
      "model_module_version": "1.2.0",
      "model_name": "LayoutModel",
      "state": {}
     },
     "7fb4b2ce1a7d4cd996ad714cac32bef3": {
      "model_module": "@jupyter-widgets/base",
      "model_module_version": "1.2.0",
      "model_name": "LayoutModel",
      "state": {}
     },
     "82580b7b8cfb4a2994771d3346d461c2": {
      "model_module": "@jupyter-widgets/base",
      "model_module_version": "1.2.0",
      "model_name": "LayoutModel",
      "state": {}
     },
     "83e66907711c4c318fc5da13e464a0c6": {
      "model_module": "@jupyter-widgets/base",
      "model_module_version": "1.2.0",
      "model_name": "LayoutModel",
      "state": {}
     },
     "8fd2d82ab70241598e6f5ba54dd06e56": {
      "model_module": "@jupyter-widgets/base",
      "model_module_version": "1.2.0",
      "model_name": "LayoutModel",
      "state": {}
     },
     "94eda119f4a6452bb397d3955136d5b5": {
      "model_module": "@jupyter-widgets/base",
      "model_module_version": "1.2.0",
      "model_name": "LayoutModel",
      "state": {}
     },
     "95d8f4cdfc5646f18832833d55d2d16a": {
      "model_module": "@jupyter-widgets/base",
      "model_module_version": "1.2.0",
      "model_name": "LayoutModel",
      "state": {}
     },
     "97a1a4c425a94775869b79437c3fd022": {
      "model_module": "@jupyter-widgets/base",
      "model_module_version": "1.2.0",
      "model_name": "LayoutModel",
      "state": {}
     },
     "a75165d7f5904e8a8fa3583fec7d61be": {
      "model_module": "@jupyter-widgets/base",
      "model_module_version": "1.2.0",
      "model_name": "LayoutModel",
      "state": {}
     },
     "a90d7c748cec41a99bdfd7f8468b8121": {
      "model_module": "jupyter-matplotlib",
      "model_module_version": "^0.7.4",
      "model_name": "ToolbarModel",
      "state": {
       "layout": "IPY_MODEL_180ba1f059b4472e9fe6d4ac470659c1",
       "toolitems": [
        [
         "Home",
         "Reset original view",
         "home",
         "home"
        ],
        [
         "Back",
         "Back to previous view",
         "arrow-left",
         "back"
        ],
        [
         "Forward",
         "Forward to next view",
         "arrow-right",
         "forward"
        ],
        [
         "Pan",
         "Left button pans, Right button zooms\nx/y fixes axis, CTRL fixes aspect",
         "arrows",
         "pan"
        ],
        [
         "Zoom",
         "Zoom to rectangle\nx/y fixes axis, CTRL fixes aspect",
         "square-o",
         "zoom"
        ],
        [
         "Download",
         "Download plot",
         "floppy-o",
         "save_figure"
        ]
       ]
      }
     },
     "a9ce292cf0154a3c894340f1619aa595": {
      "model_module": "@jupyter-widgets/base",
      "model_module_version": "1.2.0",
      "model_name": "LayoutModel",
      "state": {}
     },
     "af345b2bc01b45e48414613f83a085a6": {
      "model_module": "@jupyter-widgets/base",
      "model_module_version": "1.2.0",
      "model_name": "LayoutModel",
      "state": {}
     },
     "af41a4cff24f47c0b86d55b287832ecf": {
      "model_module": "jupyter-matplotlib",
      "model_module_version": "^0.7.4",
      "model_name": "ToolbarModel",
      "state": {
       "layout": "IPY_MODEL_94eda119f4a6452bb397d3955136d5b5",
       "toolitems": [
        [
         "Home",
         "Reset original view",
         "home",
         "home"
        ],
        [
         "Back",
         "Back to previous view",
         "arrow-left",
         "back"
        ],
        [
         "Forward",
         "Forward to next view",
         "arrow-right",
         "forward"
        ],
        [
         "Pan",
         "Left button pans, Right button zooms\nx/y fixes axis, CTRL fixes aspect",
         "arrows",
         "pan"
        ],
        [
         "Zoom",
         "Zoom to rectangle\nx/y fixes axis, CTRL fixes aspect",
         "square-o",
         "zoom"
        ],
        [
         "Download",
         "Download plot",
         "floppy-o",
         "save_figure"
        ]
       ]
      }
     },
     "af98ca138a9247d7a22b124e17f4223d": {
      "model_module": "jupyter-matplotlib",
      "model_module_version": "^0.7.4",
      "model_name": "ToolbarModel",
      "state": {
       "layout": "IPY_MODEL_82580b7b8cfb4a2994771d3346d461c2",
       "toolitems": [
        [
         "Home",
         "Reset original view",
         "home",
         "home"
        ],
        [
         "Back",
         "Back to previous view",
         "arrow-left",
         "back"
        ],
        [
         "Forward",
         "Forward to next view",
         "arrow-right",
         "forward"
        ],
        [
         "Pan",
         "Left button pans, Right button zooms\nx/y fixes axis, CTRL fixes aspect",
         "arrows",
         "pan"
        ],
        [
         "Zoom",
         "Zoom to rectangle\nx/y fixes axis, CTRL fixes aspect",
         "square-o",
         "zoom"
        ],
        [
         "Download",
         "Download plot",
         "floppy-o",
         "save_figure"
        ]
       ]
      }
     },
     "b1edb3db6d3541d0ba08ef49c5521526": {
      "model_module": "@jupyter-widgets/base",
      "model_module_version": "1.2.0",
      "model_name": "LayoutModel",
      "state": {}
     },
     "b37591d38b054de6aaf640a85bf3b336": {
      "model_module": "jupyter-matplotlib",
      "model_module_version": "^0.7.4",
      "model_name": "ToolbarModel",
      "state": {
       "layout": "IPY_MODEL_0887f50bf4284b438a2c4b0a0c8df120",
       "toolitems": [
        [
         "Home",
         "Reset original view",
         "home",
         "home"
        ],
        [
         "Back",
         "Back to previous view",
         "arrow-left",
         "back"
        ],
        [
         "Forward",
         "Forward to next view",
         "arrow-right",
         "forward"
        ],
        [
         "Pan",
         "Left button pans, Right button zooms\nx/y fixes axis, CTRL fixes aspect",
         "arrows",
         "pan"
        ],
        [
         "Zoom",
         "Zoom to rectangle\nx/y fixes axis, CTRL fixes aspect",
         "square-o",
         "zoom"
        ],
        [
         "Download",
         "Download plot",
         "floppy-o",
         "save_figure"
        ]
       ]
      }
     },
     "baaae8885afc41fc9f3a64a2e80326d7": {
      "model_module": "@jupyter-widgets/base",
      "model_module_version": "1.2.0",
      "model_name": "LayoutModel",
      "state": {}
     },
     "bbf857d5d25e4f9ba98207004081009d": {
      "model_module": "@jupyter-widgets/base",
      "model_module_version": "1.2.0",
      "model_name": "LayoutModel",
      "state": {}
     },
     "bf2e95094ee442138a219aaedbfd7ffa": {
      "model_module": "@jupyter-widgets/base",
      "model_module_version": "1.2.0",
      "model_name": "LayoutModel",
      "state": {}
     },
     "bf7a8746375146a286897937871d22c8": {
      "model_module": "jupyter-matplotlib",
      "model_module_version": "^0.7.4",
      "model_name": "ToolbarModel",
      "state": {
       "layout": "IPY_MODEL_baaae8885afc41fc9f3a64a2e80326d7",
       "toolitems": [
        [
         "Home",
         "Reset original view",
         "home",
         "home"
        ],
        [
         "Back",
         "Back to previous view",
         "arrow-left",
         "back"
        ],
        [
         "Forward",
         "Forward to next view",
         "arrow-right",
         "forward"
        ],
        [
         "Pan",
         "Left button pans, Right button zooms\nx/y fixes axis, CTRL fixes aspect",
         "arrows",
         "pan"
        ],
        [
         "Zoom",
         "Zoom to rectangle\nx/y fixes axis, CTRL fixes aspect",
         "square-o",
         "zoom"
        ],
        [
         "Download",
         "Download plot",
         "floppy-o",
         "save_figure"
        ]
       ]
      }
     },
     "c35dcd8f722041d496ed61a287db45c4": {
      "model_module": "@jupyter-widgets/base",
      "model_module_version": "1.2.0",
      "model_name": "LayoutModel",
      "state": {}
     },
     "c47ab95360554002b8df5947fca761bb": {
      "model_module": "jupyter-matplotlib",
      "model_module_version": "^0.7.4",
      "model_name": "ToolbarModel",
      "state": {
       "layout": "IPY_MODEL_0e58752554f14af5ae5a75fc80dac5f1",
       "toolitems": [
        [
         "Home",
         "Reset original view",
         "home",
         "home"
        ],
        [
         "Back",
         "Back to previous view",
         "arrow-left",
         "back"
        ],
        [
         "Forward",
         "Forward to next view",
         "arrow-right",
         "forward"
        ],
        [
         "Pan",
         "Left button pans, Right button zooms\nx/y fixes axis, CTRL fixes aspect",
         "arrows",
         "pan"
        ],
        [
         "Zoom",
         "Zoom to rectangle\nx/y fixes axis, CTRL fixes aspect",
         "square-o",
         "zoom"
        ],
        [
         "Download",
         "Download plot",
         "floppy-o",
         "save_figure"
        ]
       ]
      }
     },
     "c544f542a14a407482c1c1b28fc33bcb": {
      "model_module": "@jupyter-widgets/base",
      "model_module_version": "1.2.0",
      "model_name": "LayoutModel",
      "state": {}
     },
     "c7f251aef790438d90eaa2f407c4880b": {
      "model_module": "jupyter-matplotlib",
      "model_module_version": "^0.7.4",
      "model_name": "ToolbarModel",
      "state": {
       "layout": "IPY_MODEL_45c73415d66349d49d3c1e615cb85c1e",
       "toolitems": [
        [
         "Home",
         "Reset original view",
         "home",
         "home"
        ],
        [
         "Back",
         "Back to previous view",
         "arrow-left",
         "back"
        ],
        [
         "Forward",
         "Forward to next view",
         "arrow-right",
         "forward"
        ],
        [
         "Pan",
         "Left button pans, Right button zooms\nx/y fixes axis, CTRL fixes aspect",
         "arrows",
         "pan"
        ],
        [
         "Zoom",
         "Zoom to rectangle\nx/y fixes axis, CTRL fixes aspect",
         "square-o",
         "zoom"
        ],
        [
         "Download",
         "Download plot",
         "floppy-o",
         "save_figure"
        ]
       ]
      }
     },
     "ce38c525d5a242858127e60a08123725": {
      "model_module": "@jupyter-widgets/base",
      "model_module_version": "1.2.0",
      "model_name": "LayoutModel",
      "state": {}
     },
     "d01215033ad045c69fd2128c327b4a73": {
      "model_module": "@jupyter-widgets/base",
      "model_module_version": "1.2.0",
      "model_name": "LayoutModel",
      "state": {}
     },
     "d66bd93c2b654bbea5f9af0cb13acab0": {
      "model_module": "jupyter-matplotlib",
      "model_module_version": "^0.7.4",
      "model_name": "ToolbarModel",
      "state": {
       "layout": "IPY_MODEL_c35dcd8f722041d496ed61a287db45c4",
       "toolitems": [
        [
         "Home",
         "Reset original view",
         "home",
         "home"
        ],
        [
         "Back",
         "Back to previous view",
         "arrow-left",
         "back"
        ],
        [
         "Forward",
         "Forward to next view",
         "arrow-right",
         "forward"
        ],
        [
         "Pan",
         "Left button pans, Right button zooms\nx/y fixes axis, CTRL fixes aspect",
         "arrows",
         "pan"
        ],
        [
         "Zoom",
         "Zoom to rectangle\nx/y fixes axis, CTRL fixes aspect",
         "square-o",
         "zoom"
        ],
        [
         "Download",
         "Download plot",
         "floppy-o",
         "save_figure"
        ]
       ]
      }
     },
     "d98c1762d2664cec9f1c6f37f4eb4938": {
      "model_module": "@jupyter-widgets/base",
      "model_module_version": "1.2.0",
      "model_name": "LayoutModel",
      "state": {}
     },
     "d9bc52de200f43a6a0edfdcc2a58e092": {
      "model_module": "@jupyter-widgets/base",
      "model_module_version": "1.2.0",
      "model_name": "LayoutModel",
      "state": {}
     },
     "dc6e30dade7a431083f87737300bd678": {
      "model_module": "jupyter-matplotlib",
      "model_module_version": "^0.7.4",
      "model_name": "ToolbarModel",
      "state": {
       "layout": "IPY_MODEL_13fcbb4f2dca417292c0c6ee69b60b28",
       "toolitems": [
        [
         "Home",
         "Reset original view",
         "home",
         "home"
        ],
        [
         "Back",
         "Back to previous view",
         "arrow-left",
         "back"
        ],
        [
         "Forward",
         "Forward to next view",
         "arrow-right",
         "forward"
        ],
        [
         "Pan",
         "Left button pans, Right button zooms\nx/y fixes axis, CTRL fixes aspect",
         "arrows",
         "pan"
        ],
        [
         "Zoom",
         "Zoom to rectangle\nx/y fixes axis, CTRL fixes aspect",
         "square-o",
         "zoom"
        ],
        [
         "Download",
         "Download plot",
         "floppy-o",
         "save_figure"
        ]
       ]
      }
     },
     "ddc717a530e647fb83ef6c4e38e24812": {
      "model_module": "@jupyter-widgets/base",
      "model_module_version": "1.2.0",
      "model_name": "LayoutModel",
      "state": {}
     },
     "e379b0f4018845de8aab426288b518eb": {
      "model_module": "jupyter-matplotlib",
      "model_module_version": "^0.7.4",
      "model_name": "ToolbarModel",
      "state": {
       "layout": "IPY_MODEL_79674751a6ae40ceb060357ab9d59235",
       "toolitems": [
        [
         "Home",
         "Reset original view",
         "home",
         "home"
        ],
        [
         "Back",
         "Back to previous view",
         "arrow-left",
         "back"
        ],
        [
         "Forward",
         "Forward to next view",
         "arrow-right",
         "forward"
        ],
        [
         "Pan",
         "Left button pans, Right button zooms\nx/y fixes axis, CTRL fixes aspect",
         "arrows",
         "pan"
        ],
        [
         "Zoom",
         "Zoom to rectangle\nx/y fixes axis, CTRL fixes aspect",
         "square-o",
         "zoom"
        ],
        [
         "Download",
         "Download plot",
         "floppy-o",
         "save_figure"
        ]
       ]
      }
     },
     "e721449611e443a2b3bb871bbfbaa6dd": {
      "model_module": "jupyter-matplotlib",
      "model_module_version": "^0.7.4",
      "model_name": "ToolbarModel",
      "state": {
       "layout": "IPY_MODEL_d9bc52de200f43a6a0edfdcc2a58e092",
       "toolitems": [
        [
         "Home",
         "Reset original view",
         "home",
         "home"
        ],
        [
         "Back",
         "Back to previous view",
         "arrow-left",
         "back"
        ],
        [
         "Forward",
         "Forward to next view",
         "arrow-right",
         "forward"
        ],
        [
         "Pan",
         "Left button pans, Right button zooms\nx/y fixes axis, CTRL fixes aspect",
         "arrows",
         "pan"
        ],
        [
         "Zoom",
         "Zoom to rectangle\nx/y fixes axis, CTRL fixes aspect",
         "square-o",
         "zoom"
        ],
        [
         "Download",
         "Download plot",
         "floppy-o",
         "save_figure"
        ]
       ]
      }
     },
     "f22398eb661447499734a09fe4e12539": {
      "model_module": "@jupyter-widgets/base",
      "model_module_version": "1.2.0",
      "model_name": "LayoutModel",
      "state": {}
     },
     "f2b3de4a13f2406297a4dbcee3ab6536": {
      "model_module": "@jupyter-widgets/base",
      "model_module_version": "1.2.0",
      "model_name": "LayoutModel",
      "state": {}
     }
    },
    "version_major": 2,
    "version_minor": 0
   }
  }
 },
 "nbformat": 4,
 "nbformat_minor": 4
}
